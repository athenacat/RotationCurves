{
 "cells": [
  {
   "cell_type": "code",
   "execution_count": 1,
   "metadata": {},
   "outputs": [],
   "source": [
    "from astropy.table import Table\n",
    "\n",
    "import numpy as np\n",
    "\n",
    "import matplotlib.pyplot as plt\n",
    "%matplotlib inline"
   ]
  },
  {
   "cell_type": "code",
   "execution_count": 2,
   "metadata": {},
   "outputs": [],
   "source": [
    "master_table = Table.read('master_file_vflag_6.txt', format='ascii.ecsv')"
   ]
  },
  {
   "cell_type": "markdown",
   "metadata": {},
   "source": [
    "## Isolate eliminated galaxies"
   ]
  },
  {
   "cell_type": "code",
   "execution_count": 3,
   "metadata": {},
   "outputs": [],
   "source": [
    "eliminated_boolean = np.logical_or(master_table['curve_used'] == 'non', master_table['curve_used'] == 'none')\n",
    "\n",
    "eliminated_galaxies = master_table[eliminated_boolean]"
   ]
  },
  {
   "cell_type": "markdown",
   "metadata": {},
   "source": [
    "## Separate by environment"
   ]
  },
  {
   "cell_type": "code",
   "execution_count": 6,
   "metadata": {},
   "outputs": [],
   "source": [
    "vboolean = eliminated_galaxies['vflag'] == 1\n",
    "wboolean = eliminated_galaxies['vflag'] == 0\n",
    "\n",
    "void_eliminated_galaxies = eliminated_galaxies[vboolean]\n",
    "wall_eliminated_galaxies = eliminated_galaxies[wboolean]"
   ]
  },
  {
   "cell_type": "markdown",
   "metadata": {},
   "source": [
    "## Bin by absolute magnitude"
   ]
  },
  {
   "cell_type": "code",
   "execution_count": 24,
   "metadata": {},
   "outputs": [],
   "source": [
    "# Histogram parameters\n",
    "bins = np.array([0, -17, -18, -19, -20, -26])\n",
    "\n",
    "\n",
    "# Initialize table to store the number of galaxies in each bin of the histogram(s).\n",
    "count_table = Table()\n",
    "\n",
    "\n",
    "# First column is the bins\n",
    "count_table['Bins'] = bins[1:]\n",
    "\n",
    "# Second column is the number of galaxies in each magnitude bin\n",
    "count_table['All'],_ = np.histogram(np.absolute(eliminated_galaxies['rabsmag']), bins=np.absolute(bins))\n",
    "\n",
    "# Third column is the number of void galaxies in each magnitude bin\n",
    "count_table['Void'],_ = np.histogram(np.absolute(void_eliminated_galaxies['rabsmag']), bins=np.absolute(bins))\n",
    "\n",
    "# Fourth column is the number of wall galaxies in each magnitude bin\n",
    "count_table['Wall'],_ = np.histogram(np.absolute(wall_eliminated_galaxies['rabsmag']), bins=np.absolute(bins))"
   ]
  },
  {
   "cell_type": "markdown",
   "metadata": {},
   "source": [
    "## Save table"
   ]
  },
  {
   "cell_type": "code",
   "execution_count": 25,
   "metadata": {},
   "outputs": [],
   "source": [
    "count_table.write('eliminated_gal_stats.txt', format='ascii.commented_header')"
   ]
  },
  {
   "cell_type": "code",
   "execution_count": null,
   "metadata": {},
   "outputs": [],
   "source": []
  }
 ],
 "metadata": {
  "kernelspec": {
   "display_name": "Python 3",
   "language": "python",
   "name": "python3"
  },
  "language_info": {
   "codemirror_mode": {
    "name": "ipython",
    "version": 3
   },
   "file_extension": ".py",
   "mimetype": "text/x-python",
   "name": "python",
   "nbconvert_exporter": "python",
   "pygments_lexer": "ipython3",
   "version": "3.6.8"
  }
 },
 "nbformat": 4,
 "nbformat_minor": 2
}

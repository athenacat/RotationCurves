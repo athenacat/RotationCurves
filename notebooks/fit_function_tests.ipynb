{
 "cells": [
  {
   "cell_type": "code",
   "execution_count": 5,
   "metadata": {},
   "outputs": [],
   "source": [
    "import numpy as np\n",
    "import matplotlib.pyplot as plt\n",
    "\n",
    "from astropy.table import QTable\n",
    "\n",
    "import dynesty\n",
    "from dynesty import plotting as dyplot"
   ]
  },
  {
   "cell_type": "code",
   "execution_count": null,
   "metadata": {},
   "outputs": [],
   "source": [
    "def rot_func_BB( params, radius):\n",
    "    '''\n",
    "    Function to fit the rotation curve data to.\n",
    "    \n",
    "    \n",
    "    PARAMETERS\n",
    "    ==========\n",
    "    \n",
    "    params : list or ndarray\n",
    "        List of parameters\n",
    "        \n",
    "    radius : float or ndarray\n",
    "        Values to calculate the model\n",
    "        \n",
    "        \n",
    "    RETURNS\n",
    "    =======\n",
    "    \n",
    "    model : float or ndarray\n",
    "        Rotation curve function evaluated at radius.\n",
    "    '''\n",
    "    \n",
    "    Vmax, Rturn, alpha = params\n",
    "    \n",
    "    return Vmax * radius / ()"
   ]
  },
  {
   "cell_type": "markdown",
   "metadata": {},
   "source": [
    "# Nested sampling of the Likelihood and Priors\n",
    "\n",
    "Use the `dynesty` nested sampler to generate samples from the posterior PDF\n",
    "\n",
    "\\begin{equation}\n",
    "  p(\\vec{\\theta}, \\mathcal{M}_1 | \\mathbf{m, n}) \\propto p( \\mathbf{m, n}|\\vec{\\theta}, \\mathcal{M}_1) p(\\vec{\\theta}|\\mathcal{M}_1)\n",
    "\\end{equation}\n",
    "\n",
    "where $\\vec{\\theta} = (V_\\text{max}, R_\\text{turn}, \\alpha)$ is the list of parameters in the model.  We can assume the prior probability of the parameters\n",
    "\n",
    "\\begin{equation}\n",
    "  p(\\vec{\\theta}|\\mathcal{M}_1)\n",
    "\\end{equation}\n",
    "\n",
    "is the product of 3 independent distributions for the 3 parameters."
   ]
  },
  {
   "cell_type": "code",
   "execution_count": 3,
   "metadata": {},
   "outputs": [],
   "source": [
    "def uniform(a, b, u):\n",
    "    '''Given u in [0,1], return a uniform number in [a,b]'''\n",
    "    return a + (b - a)*u\n",
    "\n",
    "\n",
    "def prior_xform1(u):\n",
    "    '''\n",
    "    Priors for the 3 parameters of model M1.  Required by the dynesty sampler.\n",
    "    \n",
    "    \n",
    "    Parameters\n",
    "    ==========\n",
    "    \n",
    "    u : ndarray\n",
    "        Array of uniform random numbers between 0 and 1.\n",
    "        \n",
    "        \n",
    "    Returns\n",
    "    =======\n",
    "    \n",
    "    priors : ndarray\n",
    "        Transformed random numbers giving prior ranges on model parameters.\n",
    "    '''\n",
    "    \n",
    "    Vmax = uniform(0, 100000, u[0])\n",
    "    Rturn = uniform(0, 100, u[1])\n",
    "    alpha = uniform(0, 10, u[2])\n",
    "    \n",
    "    return Vmax, Rturn, alpha"
   ]
  },
  {
   "cell_type": "code",
   "execution_count": null,
   "metadata": {},
   "outputs": [],
   "source": [
    "dsampler = dynesty.DynamicNestedSampler(rot_fit_BB, prior_xform1, ndim=3, \n",
    "                                        log1_args=())"
   ]
  }
 ],
 "metadata": {
  "kernelspec": {
   "display_name": "Python 3",
   "language": "python",
   "name": "python3"
  },
  "language_info": {
   "codemirror_mode": {
    "name": "ipython",
    "version": 3
   },
   "file_extension": ".py",
   "mimetype": "text/x-python",
   "name": "python",
   "nbconvert_exporter": "python",
   "pygments_lexer": "ipython3",
   "version": "3.7.6"
  }
 },
 "nbformat": 4,
 "nbformat_minor": 4
}

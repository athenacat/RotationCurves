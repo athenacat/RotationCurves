{
 "cells": [
  {
   "cell_type": "code",
   "execution_count": 23,
   "metadata": {},
   "outputs": [],
   "source": [
    "from astropy.table import Table\n",
    "\n",
    "import numpy as np\n",
    "\n",
    "import matplotlib.pyplot as plt"
   ]
  },
  {
   "cell_type": "markdown",
   "metadata": {},
   "source": [
    "# Data"
   ]
  },
  {
   "cell_type": "code",
   "execution_count": 19,
   "metadata": {},
   "outputs": [],
   "source": [
    "wrong_filename = '../spirals/WRONG-master_file_vflag_10_smooth2-27.txt'\n",
    "corrected_filename = '../spirals/Pipe3D-master_file_vflag_10_smooth2-27.txt'"
   ]
  },
  {
   "cell_type": "code",
   "execution_count": 20,
   "metadata": {},
   "outputs": [],
   "source": [
    "wrong_data = Table.read(wrong_filename, format='ascii.ecsv')\n",
    "corrected_data = Table.read(corrected_filename, format='ascii.ecsv')"
   ]
  },
  {
   "cell_type": "markdown",
   "metadata": {},
   "source": [
    "##### Remove bad galaxies"
   ]
  },
  {
   "cell_type": "code",
   "execution_count": 27,
   "metadata": {},
   "outputs": [],
   "source": [
    "bad_boolean_wrong = np.logical_or(wrong_data['curve_used'] == 'non', \n",
    "                                  wrong_data['curve_used'] == 'none')\n",
    "bad_boolean = np.logical_or(corrected_data['curve_used'] == 'non', \n",
    "                            corrected_data['curve_used'] == 'none')\n",
    "\n",
    "# We want to keep the same galaxies, so we want to remove any galaxy \n",
    "# that is \"bad\" in either data file\n",
    "either_bad_boolean = np.logical_or(bad_boolean_wrong, bad_boolean)\n",
    "\n",
    "wrong_good_galaxies = wrong_data[np.logical_not(either_bad_boolean)]\n",
    "good_galaxies = corrected_data[np.logical_not(either_bad_boolean)]"
   ]
  },
  {
   "cell_type": "markdown",
   "metadata": {},
   "source": [
    "# $M_\\text{DM}/M_*$ comparison"
   ]
  },
  {
   "cell_type": "code",
   "execution_count": 34,
   "metadata": {},
   "outputs": [
    {
     "data": {
      "text/plain": [
       "(0, 200)"
      ]
     },
     "execution_count": 34,
     "metadata": {},
     "output_type": "execute_result"
    },
    {
     "data": {
      "image/png": "[encoded data removed]",
      "text/plain": [
       "<Figure size 432x288 with 1 Axes>"
      ]
     },
     "metadata": {
      "needs_background": "light"
     },
     "output_type": "display_data"
    }
   ],
   "source": [
    "%matplotlib inline\n",
    "\n",
    "plt.figure()\n",
    "\n",
    "plt.plot(wrong_good_galaxies['Mdark_Mstar_ratio'], good_galaxies['Mdark_Mstar_ratio'], '.')\n",
    "\n",
    "plt.xlabel('Wrong ratio')\n",
    "plt.ylabel('Correct ratio')\n",
    "\n",
    "plt.axis('square')\n",
    "\n",
    "plt.xlim((0,200))\n",
    "plt.ylim((0,200))"
   ]
  },
  {
   "cell_type": "markdown",
   "metadata": {},
   "source": [
    "##### Not all the same galaxies are kept / removed.  Which ones changed?"
   ]
  },
  {
   "cell_type": "code",
   "execution_count": 35,
   "metadata": {},
   "outputs": [],
   "source": [
    "changed_galaxies = bad_boolean_wrong != bad_boolean"
   ]
  },
  {
   "cell_type": "code",
   "execution_count": 36,
   "metadata": {},
   "outputs": [
    {
     "data": {
      "text/html": [
       "<i>Table length=9</i>\n",
       "<table id=\"table4957160080\" class=\"table-striped table-bordered table-condensed\">\n",
       "<thead><tr><th>MaNGA_plate</th><th>MaNGA_fiberID</th><th>NSA_plate</th><th>NSA_fiberID</th><th>NSA_MJD</th><th>NSA_index</th><th>NSA_RA</th><th>NSA_DEC</th><th>NSA_ba</th><th>NSA_phi</th><th>NSA_redshift</th><th>NSA_Mstar</th><th>vflag</th><th>avg_v_max</th><th>avg_v_max_sigma</th><th>avg_alpha</th><th>avg_alpha_sigma</th><th>avg_chi_square_rot</th><th>pos_v_max</th><th>pos_v_max_sigma</th><th>pos_alpha</th><th>pos_alpha_sigma</th><th>pos_chi_square_rot</th><th>neg_v_max</th><th>neg_v_max_sigma</th><th>neg_alpha</th><th>neg_alpha_sigma</th><th>neg_chi_square_rot</th><th>center_flux</th><th>center_flux_error</th><th>Mtot</th><th>Mtot_error</th><th>Mdark</th><th>Mdark_error</th><th>Mstar</th><th>Mdark_Mstar_ratio</th><th>Mdark_Mstar_ratio_error</th><th>rabsmag</th><th>avg_r_turn</th><th>avg_r_turn_sigma</th><th>pos_r_turn</th><th>pos_r_turn_sigma</th><th>neg_r_turn</th><th>neg_r_turn_sigma</th><th>Z12logOH</th><th>logNO</th><th>t3</th><th>BPT</th><th>curve_used</th><th>points_cut</th><th>avg_chi_square_ndf</th><th>pos_chi_square_ndf</th><th>neg_chi_square_ndf</th><th>index</th><th>Z12logOH_O3N2</th><th>Z12logOH_N2O2</th><th>Z12logOH_N2</th><th>u_r</th><th>frac_masked_spaxels</th><th>smoothness_score</th></tr></thead>\n",
       "<thead><tr><th></th><th></th><th></th><th></th><th></th><th></th><th>deg</th><th>deg</th><th></th><th>deg</th><th></th><th></th><th></th><th>km / s</th><th>km / s</th><th></th><th></th><th></th><th>km / s</th><th>km / s</th><th></th><th></th><th></th><th>km / s</th><th>km / s</th><th></th><th></th><th></th><th>erg / (cm2 s)</th><th>erg / (cm2 s)</th><th>solMass</th><th>solMass</th><th>solMass</th><th>solMass</th><th>solMass</th><th></th><th></th><th></th><th>kpc</th><th>kpc</th><th>kpc</th><th>kpc</th><th>kpc</th><th>kpc</th><th></th><th></th><th></th><th></th><th></th><th></th><th></th><th></th><th></th><th></th><th></th><th></th><th></th><th></th><th></th><th></th></tr></thead>\n",
       "<thead><tr><th>int64</th><th>int64</th><th>int32</th><th>int32</th><th>int32</th><th>int32</th><th>float64</th><th>float64</th><th>float32</th><th>float32</th><th>float32</th><th>float32</th><th>float64</th><th>float64</th><th>float64</th><th>float64</th><th>float64</th><th>float64</th><th>float64</th><th>float64</th><th>float64</th><th>float64</th><th>float64</th><th>float64</th><th>float64</th><th>float64</th><th>float64</th><th>float64</th><th>float64</th><th>float64</th><th>float64</th><th>float64</th><th>float64</th><th>float64</th><th>float64</th><th>float64</th><th>float64</th><th>float64</th><th>float64</th><th>float64</th><th>float64</th><th>float64</th><th>float64</th><th>float64</th><th>float64</th><th>float64</th><th>float64</th><th>float64</th><th>str3</th><th>int64</th><th>float64</th><th>float64</th><th>float64</th><th>int64</th><th>float64</th><th>float64</th><th>float64</th><th>float64</th><th>float64</th><th>float64</th></tr></thead>\n",
       "<tr><td>7992</td><td>3703</td><td>351</td><td>450</td><td>51695</td><td>24552</td><td>255.7156505502501</td><td>62.60309107156912</td><td>0.39985538</td><td>11.332703</td><td>0.056426346</td><td>46794870000.0</td><td>-9.0</td><td>130.11371230554283</td><td>68.95987390929214</td><td>3.865787977268144</td><td>19.93404552696205</td><td>28.659836970633005</td><td>107.2943107992639</td><td>7.253462048870587</td><td>82.48122751680522</td><td>7.583917312166595e-10</td><td>48.34110287297777</td><td>175.82615289043855</td><td>9003138303.252234</td><td>5.144112558038412</td><td>1077510786.134735</td><td>39.125737847295376</td><td>0.07043346017599106</td><td>0.0012639839485286</td><td>-1.0</td><td>-1.0</td><td>-1.0</td><td>-1.0</td><td>59484135014.85221</td><td>-1.0</td><td>-1.0</td><td>-20.6281795501709</td><td>2.00710385622847</td><td>1.2833130651205322</td><td>1.9462398367843592</td><td>0.23442517725690754</td><td>3.502127250533787</td><td>141382433.428999</td><td>nan</td><td>-0.9830906969569346</td><td>2.162970701215784</td><td>1.0</td><td>non</td><td>4</td><td>28.659836970633005</td><td>48.34110287297777</td><td>39.125737847295376</td><td>200155</td><td>10.122070664722893</td><td>9.739782309863013</td><td>9.370965106979394</td><td>2.6351234316825867</td><td>0.1134020618556701</td><td>2.0127172490255023</td></tr>\n",
       "<tr><td>7977</td><td>12705</td><td>0</td><td>0</td><td>0</td><td>635923</td><td>332.89283800788445</td><td>11.795928663489386</td><td>0.6698726</td><td>174.14532</td><td>0.026948685</td><td>52217352000.0</td><td>-9.0</td><td>327.63074062081955</td><td>44.463906485494824</td><td>0.9357400753208082</td><td>0.41098653369203136</td><td>2674.2132676359747</td><td>526.1852489042375</td><td>115.71013624668522</td><td>0.6574241352437774</td><td>0.31282923908757465</td><td>22665.381891334124</td><td>194.16581525691421</td><td>26.011479279657873</td><td>1.5584400056955277</td><td>1.157429742786952</td><td>77.41918687599788</td><td>0.33759286999702454</td><td>0.00593389683120362</td><td>51500192984.89239</td><td>13798476376.133507</td><td>-55692111568.70878</td><td>13798476376.133507</td><td>107192304553.60117</td><td>-0.5195532627144901</td><td>0.12872637111028454</td><td>-21.046524047851562</td><td>0.6767244155225286</td><td>0.3145186993884355</td><td>0.4512695141779178</td><td>0.32625176591256577</td><td>1.3708855203435666</td><td>0.5047632014127638</td><td>nan</td><td>nan</td><td>nan</td><td>nan</td><td>neg</td><td>1</td><td>243.11029705781587</td><td>2060.489262848557</td><td>7.038107897817989</td><td>-1</td><td>nan</td><td>nan</td><td>nan</td><td>2.207711488008499</td><td>0.018023430459597478</td><td>1.1674996624302156</td></tr>\n",
       "<tr><td>9872</td><td>3704</td><td>1679</td><td>119</td><td>53149</td><td>341244</td><td>234.1276693167207</td><td>41.17476307725181</td><td>0.9675</td><td>46.30591</td><td>0.054738514</td><td>28745695000.0</td><td>1.0</td><td>267.3892883209081</td><td>12.296241989838595</td><td>4.259490083222744</td><td>1.685061186117212</td><td>42.30771652984579</td><td>291.3280003955952</td><td>3.2002714600961997</td><td>110.26233628327732</td><td>129728857.08192298</td><td>14.09973574413024</td><td>216.7422294837214</td><td>39.50479029452487</td><td>2.8047133877272254</td><td>3.4107579175770106</td><td>174.37066683188382</td><td>0.1596277803182602</td><td>0.00195107109631874</td><td>141297491140.5395</td><td>3104339879.8222017</td><td>82801224920.87552</td><td>3104339879.8222017</td><td>58496266219.66397</td><td>1.415495898660302</td><td>0.05306902611809186</td><td>-20.621030807495117</td><td>2.217533269754909</td><td>0.19823372222267388</td><td>1.8262329044423988</td><td>0.06298873766637596</td><td>1.8111462952030664</td><td>0.4527608962821939</td><td>nan</td><td>nan</td><td>nan</td><td>3.0</td><td>pos</td><td>4</td><td>21.153858264922896</td><td>7.04986787206512</td><td>87.18533341594191</td><td>1410204</td><td>10.40254872976474</td><td>9.375480697942724</td><td>9.24898808588269</td><td>2.073202431201935</td><td>0.03457943925233645</td><td>1.1110909564451235</td></tr>\n",
       "<tr><td>8552</td><td>12703</td><td>1677</td><td>405</td><td>53148</td><td>340823</td><td>227.40587281527002</td><td>45.13456750445173</td><td>0.8779962</td><td>26.95456</td><td>0.078741856</td><td>70477710000.0</td><td>1.0</td><td>455.6255646575872</td><td>131.71998749716676</td><td>1.6839830059199932</td><td>5.314902206296004</td><td>54.85121173107656</td><td>696.2835775401187</td><td>5.556231341537653</td><td>3.8167759126343745</td><td>0.76202659188171</td><td>240.0288446491372</td><td>145.9522516031581</td><td>9.498753364472673</td><td>7.939409105177802</td><td>7.441594630344942</td><td>265.8881783221835</td><td>0.05690426006913185</td><td>0.00122690116872407</td><td>939085677309.0964</td><td>542973719485.32794</td><td>757410284114.6025</td><td>542973719485.32794</td><td>181675393194.49396</td><td>4.169030658454396</td><td>2.988702597186859</td><td>-21.578840255737305</td><td>2.0028077588912447</td><td>6.599041130354584</td><td>2.517479908351971</td><td>0.20771633593261904</td><td>7.156468931569545</td><td>0.6585990992660613</td><td>nan</td><td>nan</td><td>nan</td><td>2.0</td><td>avg</td><td>8</td><td>9.141868621846093</td><td>40.004807441522864</td><td>44.31469638703058</td><td>1411109</td><td>10.080976465554059</td><td>9.635929822296797</td><td>9.430400409285363</td><td>2.1353933215141296</td><td>0.11673741661613099</td><td>1.3977096039038364</td></tr>\n",
       "<tr><td>8259</td><td>1901</td><td>1447</td><td>375</td><td>53120</td><td>297110</td><td>177.97192027501956</td><td>43.34806751749002</td><td>0.51728827</td><td>31.584167</td><td>0.035827443</td><td>2710064000.0</td><td>1.0</td><td>-1.0</td><td>-1.0</td><td>-1.0</td><td>-1.0</td><td>-1.0</td><td>-1.0</td><td>-1.0</td><td>-1.0</td><td>-1.0</td><td>-1.0</td><td>-1.0</td><td>-1.0</td><td>-1.0</td><td>-1.0</td><td>-1.0</td><td>0.07618296146392822</td><td>0.00138489395299428</td><td>-1.0</td><td>-1.0</td><td>-1.0</td><td>-1.0</td><td>8901315375.210848</td><td>-1.0</td><td>-1.0</td><td>-18.303089141845703</td><td>-1.0</td><td>-1.0</td><td>-1.0</td><td>-1.0</td><td>-1.0</td><td>-1.0</td><td>nan</td><td>nan</td><td>nan</td><td>5.0</td><td>non</td><td>4</td><td>-1.0</td><td>-1.0</td><td>-1.0</td><td>1300733</td><td>10.269030503925142</td><td>9.804222317182965</td><td>9.485819052567036</td><td>2.5147053599357605</td><td>0.42414355628058725</td><td>1.9879805697260091</td></tr>\n",
       "<tr><td>9033</td><td>6102</td><td>1048</td><td>241</td><td>52736</td><td>209447</td><td>223.0146621980767</td><td>47.07780104796571</td><td>0.44764942</td><td>170.80182</td><td>0.0695463</td><td>54192804000.0</td><td>0.0</td><td>408.64553872420447</td><td>365.1368944818565</td><td>362.7350831642303</td><td>11557373467.320219</td><td>53.99257889413895</td><td>625.974746156361</td><td>781.1841371144816</td><td>2.1370314281211025</td><td>5.281783866375132</td><td>348.3002947330068</td><td>328.47754507997246</td><td>170.91703255473894</td><td>330.09859573288213</td><td>7442574558.923961</td><td>38.80766591725503</td><td>0.11391307413578033</td><td>0.00181397050957747</td><td>253582842449.10556</td><td>263894001873.1082</td><td>137617817574.6507</td><td>263894001873.1082</td><td>115965024874.45486</td><td>1.1867183034163742</td><td>2.2756344178669647</td><td>-21.1743106842041</td><td>4.9769210316970245</td><td>0.913903037957757</td><td>6.275654206036879</td><td>6.02079279628803</td><td>4.060046889689294</td><td>2.1546274310387608</td><td>nan</td><td>nan</td><td>nan</td><td>1.0</td><td>neg</td><td>3</td><td>13.498144723534738</td><td>87.0750736832517</td><td>9.701916479313757</td><td>1380831</td><td>10.486759747476095</td><td>10.158786991035614</td><td>9.597522962588156</td><td>2.890178859233856</td><td>0.1936259771497294</td><td>2.1880104924030572</td></tr>\n",
       "<tr><td>8445</td><td>6103</td><td>2101</td><td>244</td><td>53858</td><td>442173</td><td>204.10268785316197</td><td>35.62805036464101</td><td>0.68912965</td><td>58.97113</td><td>0.05790147</td><td>39748310000.0</td><td>0.0</td><td>276.6474070134039</td><td>13.109727158543304</td><td>347.3603154839436</td><td>856223425.5027094</td><td>49.18977356069013</td><td>301.1589304742731</td><td>15.120987342430782</td><td>189.21097028476413</td><td>191020806.18973067</td><td>130.49539029429337</td><td>270.4540645980288</td><td>10.555893420441336</td><td>203.96537844488142</td><td>55338553.47458655</td><td>854.5400407126134</td><td>0.09756960719823837</td><td>0.00159609612578493</td><td>164728968008.07224</td><td>15612305278.586222</td><td>84463309693.03809</td><td>15612305278.586222</td><td>80265658315.03415</td><td>1.0522969781363856</td><td>0.1945079079437633</td><td>-20.78472328186035</td><td>1.7333282847806992</td><td>4.979883320148222</td><td>4.690425737793563</td><td>0.2737074067427388</td><td>3.55230609362624</td><td>0.9726625523766824</td><td>nan</td><td>nan</td><td>2.4400888751858636</td><td>4.0</td><td>avg</td><td>2</td><td>8.198295593448355</td><td>21.749231715715563</td><td>142.4233401187689</td><td>1862235</td><td>10.286669648682155</td><td>10.028757941116181</td><td>9.499273424207425</td><td>2.3982039093971252</td><td>0.03775811209439528</td><td>1.841728318037247</td></tr>\n",
       "<tr><td>7977</td><td>12704</td><td>0</td><td>0</td><td>0</td><td>689744</td><td>332.41827010939744</td><td>13.63580854645929</td><td>0.24895294</td><td>126.96423</td><td>0.027385654</td><td>18419681000.0</td><td>-9.0</td><td>154.29037963763747</td><td>67.59770223257111</td><td>1.9677462607322087</td><td>6.793787265247175</td><td>46.608998322012276</td><td>98.33941356052352</td><td>6.347487444743797</td><td>3.0769816102756478</td><td>3.199678740227512</td><td>126.62600934950083</td><td>201.76234667154222</td><td>34.489158608812964</td><td>2.535533979950063</td><td>3.441221121358939</td><td>125.9884873142907</td><td>0.0640411451458931</td><td>0.00194276035513731</td><td>35249687775.26052</td><td>30887186931.59095</td><td>-35715254716.94523</td><td>30887186931.59095</td><td>70964942492.20575</td><td>-0.5032802601209452</td><td>0.43524571213431706</td><td>-20.35204315185547</td><td>0.9755730394565302</td><td>1.721818906936425</td><td>0.7960652769013834</td><td>0.3070382954767542</td><td>1.410864428266848</td><td>0.6935464748490149</td><td>nan</td><td>nan</td><td>nan</td><td>nan</td><td>avg</td><td>8</td><td>9.321799664402455</td><td>25.325201869900166</td><td>25.197697462858137</td><td>-1</td><td>nan</td><td>nan</td><td>nan</td><td>2.436259090900421</td><td>0.14061557030778515</td><td>1.4448449638452423</td></tr>\n",
       "<tr><td>8442</td><td>3704</td><td>2104</td><td>506</td><td>53852</td><td>443307</td><td>200.09349071997985</td><td>31.58117032617028</td><td>0.66689676</td><td>117.94577</td><td>0.045290068</td><td>11605805000.0</td><td>0.0</td><td>223.72251192121294</td><td>99963303902405.61</td><td>50.14662672698632</td><td>117592047192023.89</td><td>27.54619523280033</td><td>265.65596645854623</td><td>0.002615356371644185</td><td>58.7386652701432</td><td>3.375174895091487e-10</td><td>109.42503301448026</td><td>199.4648321229599</td><td>0.02618003890815542</td><td>32.77558368132313</td><td>3.703293382861465e-24</td><td>128.52945329254322</td><td>0.09043850004673004</td><td>0.00229038177160538</td><td>-1.0</td><td>-1.0</td><td>-1.0</td><td>-1.0</td><td>29468158791.47787</td><td>-1.0</td><td>-1.0</td><td>-19.70870018005371</td><td>3.3600285105480165</td><td>1501339684123.4138</td><td>3.486952768219645</td><td>0.1992527588559043</td><td>4.377267282219974</td><td>1.1929810698852945</td><td>nan</td><td>nan</td><td>nan</td><td>1.0</td><td>non</td><td>5</td><td>27.54619523280033</td><td>109.42503301448026</td><td>128.52945329254322</td><td>1938913</td><td>10.560894169574352</td><td>9.298147129410818</td><td>8.994206317329049</td><td>2.249927669763565</td><td>0.13100848256361922</td><td>1.8474834715208108</td></tr>\n",
       "</table>"
      ],
      "text/plain": [
       "<Table length=9>\n",
       "MaNGA_plate MaNGA_fiberID NSA_plate ... frac_masked_spaxels   smoothness_score \n",
       "                                    ...                                        \n",
       "   int64        int64       int32   ...       float64             float64      \n",
       "----------- ------------- --------- ... -------------------- ------------------\n",
       "       7992          3703       351 ...   0.1134020618556701 2.0127172490255023\n",
       "       7977         12705         0 ... 0.018023430459597478 1.1674996624302156\n",
       "       9872          3704      1679 ...  0.03457943925233645 1.1110909564451235\n",
       "       8552         12703      1677 ...  0.11673741661613099 1.3977096039038364\n",
       "       8259          1901      1447 ...  0.42414355628058725 1.9879805697260091\n",
       "       9033          6102      1048 ...   0.1936259771497294 2.1880104924030572\n",
       "       8445          6103      2101 ...  0.03775811209439528  1.841728318037247\n",
       "       7977         12704         0 ...  0.14061557030778515 1.4448449638452423\n",
       "       8442          3704      2104 ...  0.13100848256361922 1.8474834715208108"
      ]
     },
     "execution_count": 36,
     "metadata": {},
     "output_type": "execute_result"
    }
   ],
   "source": [
    "corrected_data[changed_galaxies]"
   ]
  },
  {
   "cell_type": "code",
   "execution_count": null,
   "metadata": {},
   "outputs": [],
   "source": []
  },
  {
   "cell_type": "code",
   "execution_count": null,
   "metadata": {},
   "outputs": [],
   "source": []
  }
 ],
 "metadata": {
  "kernelspec": {
   "display_name": "Python 3",
   "language": "python",
   "name": "python3"
  },
  "language_info": {
   "codemirror_mode": {
    "name": "ipython",
    "version": 3
   },
   "file_extension": ".py",
   "mimetype": "text/x-python",
   "name": "python",
   "nbconvert_exporter": "python",
   "pygments_lexer": "ipython3",
   "version": "3.7.6"
  }
 },
 "nbformat": 4,
 "nbformat_minor": 4
}

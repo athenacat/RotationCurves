{
 "cells": [
  {
   "cell_type": "code",
   "execution_count": 1,
   "metadata": {},
   "outputs": [],
   "source": [
    "from astropy.table import Table\n",
    "\n",
    "import glob\n",
    "\n",
    "import numpy as np"
   ]
  },
  {
   "cell_type": "code",
   "execution_count": 2,
   "metadata": {},
   "outputs": [],
   "source": [
    "master_table = Table.read('../master_file_vflag_10_smooth2-27.txt', format='ascii.ecsv')"
   ]
  },
  {
   "cell_type": "markdown",
   "metadata": {},
   "source": [
    "## Galaxies with rotation curves"
   ]
  },
  {
   "cell_type": "code",
   "execution_count": 3,
   "metadata": {},
   "outputs": [
    {
     "name": "stdout",
     "output_type": "stream",
     "text": [
      "Galaxies in MaNGA DR15: 4815\n",
      "Galaxies with rotation curves: 2423\n"
     ]
    }
   ],
   "source": [
    "boolean = np.logical_or(master_table['curve_used'] == 'non', master_table['curve_used'] == 'none')\n",
    "#boolean = master_table['curve_used'] == -99\n",
    "\n",
    "rotCurve_galaxies = master_table[np.logical_not(boolean)]\n",
    "\n",
    "print('Galaxies in MaNGA DR15:', len(master_table))\n",
    "print('Galaxies with rotation curves:', len(rotCurve_galaxies))"
   ]
  },
  {
   "cell_type": "markdown",
   "metadata": {},
   "source": [
    "## Galaxies in each environment"
   ]
  },
  {
   "cell_type": "code",
   "execution_count": 4,
   "metadata": {},
   "outputs": [
    {
     "name": "stdout",
     "output_type": "stream",
     "text": [
      "Void galaxies with rotation curves: 641\n",
      "Wall galaxies with rotation curves: 937\n",
      "Edge galaxies with rotation curves: 845\n"
     ]
    }
   ],
   "source": [
    "vboolean = rotCurve_galaxies['vflag'] == 1\n",
    "wboolean = rotCurve_galaxies['vflag'] == 0\n",
    "\n",
    "void_table = rotCurve_galaxies[vboolean]\n",
    "wall_table = rotCurve_galaxies[wboolean]\n",
    "edge_table = rotCurve_galaxies[np.logical_not(np.logical_or(vboolean, wboolean))]\n",
    "\n",
    "print('Void galaxies with rotation curves:', len(void_table))\n",
    "print('Wall galaxies with rotation curves:', len(wall_table))\n",
    "print('Edge galaxies with rotation curves:', len(edge_table))"
   ]
  },
  {
   "cell_type": "markdown",
   "metadata": {},
   "source": [
    "## Galaxies by magnitude"
   ]
  },
  {
   "cell_type": "code",
   "execution_count": 6,
   "metadata": {},
   "outputs": [
    {
     "name": "stdout",
     "output_type": "stream",
     "text": [
      "Dwarf void galaxies: 4\n",
      "Dwarf wall galaxies: 1\n",
      "-17:-18 void galaxies: 77\n",
      "-17:-18 wall galaxies: 78\n",
      "Faint void galaxies (fainter than -18): 81\n",
      "Faint wall galaxies (fainter than -18): 79\n",
      "-18:-19 void galaxies: 168\n",
      "-18:-19 wall galaxies: 215\n",
      "-19:-20 void galaxies: 166\n",
      "-19:-20 wall galaxies: 244\n",
      "Void galaxies brighter than -20: 226\n",
      "Wall galaxies brighter than -20: 399\n",
      "-20:-21 void galaxies: 139\n",
      "-20:-21 wall galaxies: 216\n",
      "Void galaxies brighter than -21: 87\n",
      "Wall galaxies brighter than -21: 183\n"
     ]
    }
   ],
   "source": [
    "print('Dwarf void galaxies:', sum(void_table['rabsmag'] >= -17))\n",
    "print('Dwarf wall galaxies:', sum(wall_table['rabsmag'] >= -17))\n",
    "\n",
    "print('-17:-18 void galaxies:', sum( np.logical_and( void_table['rabsmag'] < -17, void_table['rabsmag'] >= -18)))\n",
    "print('-17:-18 wall galaxies:', sum( np.logical_and( wall_table['rabsmag'] < -17, wall_table['rabsmag'] >= -18)))\n",
    "\n",
    "print('Faint void galaxies (fainter than -18):', sum(void_table['rabsmag'] >= -18))\n",
    "print('Faint wall galaxies (fainter than -18):', sum(wall_table['rabsmag'] >= -18))\n",
    "\n",
    "print('-18:-19 void galaxies:', sum( np.logical_and( void_table['rabsmag'] < -18, void_table['rabsmag'] >= -19)))\n",
    "print('-18:-19 wall galaxies:', sum( np.logical_and( wall_table['rabsmag'] < -18, wall_table['rabsmag'] >= -19)))\n",
    "\n",
    "print('-19:-20 void galaxies:', sum( np.logical_and( void_table['rabsmag'] < -19, void_table['rabsmag'] >= -20)))\n",
    "print('-19:-20 wall galaxies:', sum( np.logical_and( wall_table['rabsmag'] < -19, wall_table['rabsmag'] >= -20)))\n",
    "\n",
    "print('Void galaxies brighter than -20:', sum( void_table['rabsmag'] < -20))\n",
    "print('Wall galaxies brighter than -20:', sum( wall_table['rabsmag'] < -20))\n",
    "\n",
    "print('-20:-21 void galaxies:', sum( np.logical_and( void_table['rabsmag'] < -20, void_table['rabsmag'] >= -21)))\n",
    "print('-20:-21 wall galaxies:', sum( np.logical_and( wall_table['rabsmag'] < -20, wall_table['rabsmag'] >= -21)))\n",
    "\n",
    "print('Void galaxies brighter than -21:', sum( void_table['rabsmag'] < -21))\n",
    "print('Wall galaxies brighter than -21:', sum( wall_table['rabsmag'] < -21))"
   ]
  },
  {
   "cell_type": "markdown",
   "metadata": {},
   "source": [
    "## Fraction of masked spaxels"
   ]
  },
  {
   "cell_type": "code",
   "execution_count": 7,
   "metadata": {},
   "outputs": [
    {
     "name": "stdout",
     "output_type": "stream",
     "text": [
      "Average number of masked spaxels: 0.21540507883094215\n"
     ]
    }
   ],
   "source": [
    "sum_frac_masked_spaxels = 0\n",
    "N_gal = 0\n",
    "\n",
    "for file in glob.iglob('../rot_curve_data_files/*_gal_stat_data.txt'):\n",
    "    \n",
    "    # Extract plate, fiberID\n",
    "    file_name = file[24:]\n",
    "    components = file_name.split('_')\n",
    "    plate, fiberID = components[0].split('-')\n",
    "    \n",
    "    # Find galaxy in master_table\n",
    "    plate_indices = np.argwhere(master_table['MaNGA_plate'] == int(plate))\n",
    "    fiber_idx = np.where(master_table['MaNGA_fiberID'][plate_indices] == int(fiberID))\n",
    "    gal_idx = plate_indices[fiber_idx]\n",
    "    \n",
    "    if master_table['curve_used'][gal_idx] != 'non' and master_table['curve_used'][gal_idx] != 'none':\n",
    "        \n",
    "        # Read in data\n",
    "        gal_stats = Table.read(file, format='ascii.ecsv')\n",
    "\n",
    "        # Update number of galaxies\n",
    "        N_gal += 1\n",
    "\n",
    "        # Update sum of the fraction of the number of masked spaxels\n",
    "        sum_frac_masked_spaxels += gal_stats['frac_masked_spaxels'][0]\n",
    "        \n",
    "        \n",
    "print('Average number of masked spaxels:', sum_frac_masked_spaxels/N_gal)"
   ]
  },
  {
   "cell_type": "code",
   "execution_count": null,
   "metadata": {
    "scrolled": false
   },
   "outputs": [],
   "source": []
  },
  {
   "cell_type": "code",
   "execution_count": null,
   "metadata": {},
   "outputs": [],
   "source": []
  }
 ],
 "metadata": {
  "kernelspec": {
   "display_name": "Python 2",
   "language": "python",
   "name": "python2"
  },
  "language_info": {
   "codemirror_mode": {
    "name": "ipython",
    "version": 2
   },
   "file_extension": ".py",
   "mimetype": "text/x-python",
   "name": "python",
   "nbconvert_exporter": "python",
   "pygments_lexer": "ipython2",
   "version": "2.7.16"
  }
 },
 "nbformat": 4,
 "nbformat_minor": 2
}

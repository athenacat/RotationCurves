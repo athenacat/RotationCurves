{
 "cells": [
  {
   "cell_type": "code",
   "execution_count": 4,
   "metadata": {},
   "outputs": [],
   "source": [
    "from astropy.table import Table\n",
    "\n",
    "import glob\n",
    "\n",
    "import numpy as np"
   ]
  },
  {
   "cell_type": "code",
   "execution_count": 12,
   "metadata": {},
   "outputs": [
    {
     "name": "stdout",
     "output_type": "stream",
     "text": [
      "['MaNGA_plate', 'MaNGA_fiberID', 'NSA_plate', 'NSA_fiberID', 'NSA_MJD', 'NSA_index', 'NSA_RA', 'NSA_DEC', 'NSA_ba', 'NSA_phi', 'NSA_redshift', 'NSA_Mstar', 'vflag', 'avg_v_max', 'avg_v_max_sigma', 'avg_alpha', 'avg_alpha_sigma', 'avg_chi_square_rot', 'pos_v_max', 'pos_v_max_sigma', 'pos_alpha', 'pos_alpha_sigma', 'pos_chi_square_rot', 'neg_v_max', 'neg_v_max_sigma', 'neg_alpha', 'neg_alpha_sigma', 'neg_chi_square_rot', 'center_flux', 'center_flux_error', 'Mtot', 'Mtot_error', 'Mdark', 'Mdark_error', 'Mstar', 'Mdark_Mstar_ratio', 'Mdark_Mstar_ratio_error', 'rabsmag', 'avg_r_turn', 'avg_r_turn_sigma', 'pos_r_turn', 'pos_r_turn_sigma', 'neg_r_turn', 'neg_r_turn_sigma', 'Z12logOH', 'logNO', 't3', 'BPT', 'curve_used', 'points_cut', 'avg_chi_square_ndf', 'pos_chi_square_ndf', 'neg_chi_square_ndf', 'index', 'Z12logOH_O3N2', 'Z12logOH_N2O2', 'Z12logOH_N2']\n"
     ]
    }
   ],
   "source": [
    "master_table = Table.read('../master_file_vflag_10.txt', format='ascii.ecsv')"
   ]
  },
  {
   "cell_type": "markdown",
   "metadata": {},
   "source": [
    "## Galaxies with rotation curves"
   ]
  },
  {
   "cell_type": "code",
   "execution_count": 12,
   "metadata": {},
   "outputs": [
    {
     "name": "stdout",
     "output_type": "stream",
     "text": [
      "Galaxies in MaNGA DR15: 4815\n",
      "Galaxies with rotation curves: 3371\n"
     ]
    }
   ],
   "source": [
    "boolean = np.logical_or(master_table['curve_used'] == 'non', master_table['curve_used'] == 'none')\n",
    "\n",
    "rotCurve_galaxies = master_table[np.logical_not(boolean)]\n",
    "\n",
    "print('Galaxies in MaNGA DR15:', len(master_table))\n",
    "print('Galaxies with rotation curves:', len(rotCurve_galaxies))"
   ]
  },
  {
   "cell_type": "markdown",
   "metadata": {},
   "source": [
    "## Galaxies in each environment"
   ]
  },
  {
   "cell_type": "code",
   "execution_count": 13,
   "metadata": {},
   "outputs": [
    {
     "name": "stdout",
     "output_type": "stream",
     "text": [
      "Void galaxies with rotation curves: 930\n",
      "Wall galaxies with rotation curves: 1255\n",
      "Edge galaxies with rotation curves: 1186\n"
     ]
    }
   ],
   "source": [
    "vboolean = rotCurve_galaxies['vflag'] == 1\n",
    "wboolean = rotCurve_galaxies['vflag'] == 0\n",
    "\n",
    "void_table = rotCurve_galaxies[vboolean]\n",
    "wall_table = rotCurve_galaxies[wboolean]\n",
    "edge_table = rotCurve_galaxies[np.logical_not(np.logical_or(vboolean, wboolean))]\n",
    "\n",
    "print('Void galaxies with rotation curves:', len(void_table))\n",
    "print('Wall galaxies with rotation curves:', len(wall_table))\n",
    "print('Edge galaxies with rotation curves:', len(edge_table))"
   ]
  },
  {
   "cell_type": "markdown",
   "metadata": {},
   "source": [
    "## Galaxies by magnitude"
   ]
  },
  {
   "cell_type": "code",
   "execution_count": 15,
   "metadata": {},
   "outputs": [
    {
     "name": "stdout",
     "output_type": "stream",
     "text": [
      "Dwarf void galaxies: 39\n",
      "Dwarf wall galaxies: 27\n",
      "-17:-18 void galaxies: 115\n",
      "-17:-18 wall galaxies: 146\n",
      "-18:-19 void galaxies: 256\n",
      "-18:-19 wall galaxies: 312\n",
      "-19:-20 void galaxies: 272\n",
      "-19:-20 wall galaxies: 325\n",
      "Void galaxies brighter than -20: 248\n",
      "Wall galaxies brighter than -20: 445\n"
     ]
    }
   ],
   "source": [
    "print('Dwarf void galaxies:', sum(void_table['rabsmag'] >= -17))\n",
    "print('Dwarf wall galaxies:', sum(wall_table['rabsmag'] >= -17))\n",
    "\n",
    "print('-17:-18 void galaxies:', sum( np.logical_and( void_table['rabsmag'] < -17, void_table['rabsmag'] >= -18)))\n",
    "print('-17:-18 wall galaxies:', sum( np.logical_and( wall_table['rabsmag'] < -17, wall_table['rabsmag'] >= -18)))\n",
    "\n",
    "print('-18:-19 void galaxies:', sum( np.logical_and( void_table['rabsmag'] < -18, void_table['rabsmag'] >= -19)))\n",
    "print('-18:-19 wall galaxies:', sum( np.logical_and( wall_table['rabsmag'] < -18, wall_table['rabsmag'] >= -19)))\n",
    "\n",
    "print('-19:-20 void galaxies:', sum( np.logical_and( void_table['rabsmag'] < -19, void_table['rabsmag'] >= -20)))\n",
    "print('-19:-20 wall galaxies:', sum( np.logical_and( wall_table['rabsmag'] < -19, wall_table['rabsmag'] >= -20)))\n",
    "\n",
    "print('Void galaxies brighter than -20:', sum( void_table['rabsmag'] < -20))\n",
    "print('Wall galaxies brighter than -20:', sum( wall_table['rabsmag'] < -20))"
   ]
  },
  {
   "cell_type": "markdown",
   "metadata": {},
   "source": [
    "## Fraction of masked spaxels"
   ]
  },
  {
   "cell_type": "code",
   "execution_count": 17,
   "metadata": {},
   "outputs": [
    {
     "name": "stdout",
     "output_type": "stream",
     "text": [
      "Average number of masked spaxels: 0.212001870176713\n"
     ]
    }
   ],
   "source": [
    "sum_frac_masked_spaxels = 0\n",
    "N_gal = 0\n",
    "\n",
    "for file in glob.iglob('../rot_curve_data_files/*_gal_stat_data.txt'):\n",
    "    \n",
    "    # Extract plate, fiberID\n",
    "    file_name = file[24:]\n",
    "    components = file_name.split('_')\n",
    "    plate, fiberID = components[0].split('-')\n",
    "    \n",
    "    # Find galaxy in master_table\n",
    "    plate_indices = np.argwhere(master_table['MaNGA_plate'] == int(plate))\n",
    "    fiber_idx = np.where(master_table['MaNGA_fiberID'][plate_indices] == int(fiberID))\n",
    "    gal_idx = plate_indices[fiber_idx]\n",
    "    \n",
    "    if master_table['curve_used'][gal_idx] != 'non' and master_table['curve_used'][gal_idx] != 'none':\n",
    "        \n",
    "        # Read in data\n",
    "        gal_stats = Table.read(file, format='ascii.ecsv')\n",
    "\n",
    "        # Update number of galaxies\n",
    "        N_gal += 1\n",
    "\n",
    "        # Update sum of the fraction of the number of masked spaxels\n",
    "        sum_frac_masked_spaxels += gal_stats['frac_masked_spaxels'][0]\n",
    "        \n",
    "        \n",
    "print('Average number of masked spaxels:', sum_frac_masked_spaxels/N_gal)"
   ]
  },
  {
   "cell_type": "code",
   "execution_count": null,
   "metadata": {
    "scrolled": false
   },
   "outputs": [],
   "source": []
  },
  {
   "cell_type": "code",
   "execution_count": null,
   "metadata": {},
   "outputs": [],
   "source": []
  }
 ],
 "metadata": {
  "kernelspec": {
   "display_name": "Python 3",
   "language": "python",
   "name": "python3"
  },
  "language_info": {
   "codemirror_mode": {
    "name": "ipython",
    "version": 3
   },
   "file_extension": ".py",
   "mimetype": "text/x-python",
   "name": "python",
   "nbconvert_exporter": "python",
   "pygments_lexer": "ipython3",
   "version": "3.6.8"
  }
 },
 "nbformat": 4,
 "nbformat_minor": 2
}

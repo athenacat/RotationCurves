{
 "cells": [
  {
   "cell_type": "code",
   "execution_count": 1,
   "metadata": {},
   "outputs": [],
   "source": [
    "import numpy as np\n",
    "import numpy.ma as ma\n",
    "\n",
    "from astropy.table import QTable\n",
    "\n",
    "import dynesty\n",
    "from dynesty import plotting as dyplot\n",
    "\n",
    "import emcee\n",
    "import corner\n",
    "\n",
    "import sys\n",
    "sys.path.insert(1,\"/Users/kellydouglass/Documents/Research/Rotation_curves/RotationCurves/spirals/\")\n",
    "from DRP_rotation_curve import extract_data\n",
    "from DRP_vel_map_functions import model_vel_map, vel_logL_BB, logL_BB, deproject_spaxel, calculate_chi2\n",
    "#from DRP_vel_map_plottingFunctions import plot_rot_curve\n",
    "\n",
    "import matplotlib.pyplot as plt\n",
    "%matplotlib notebook"
   ]
  },
  {
   "cell_type": "code",
   "execution_count": 2,
   "metadata": {},
   "outputs": [],
   "source": [
    "MANGA_FOLDER = '/Users/kellydouglass/Documents/Research/data/SDSS/dr16/manga/spectro/'\n",
    "VEL_MAP_FOLDER = MANGA_FOLDER + 'analysis/v2_4_3/2.2.1/HYB10-GAU-MILESHC/'"
   ]
  },
  {
   "cell_type": "markdown",
   "metadata": {},
   "source": [
    "# Sample galaxy properties"
   ]
  },
  {
   "cell_type": "code",
   "execution_count": 3,
   "metadata": {},
   "outputs": [],
   "source": [
    "gal_ID = '7443-12705'\n",
    "#gal_ID = '8486-12701'\n",
    "\n",
    "manga_plate, manga_IFU = gal_ID.split('-')\n",
    "gal_filename = VEL_MAP_FOLDER + manga_plate + '/' + manga_IFU + '/manga-' + gal_ID + '-MAPS-HYB10-GAU-MILESHC.fits.gz'"
   ]
  },
  {
   "cell_type": "code",
   "execution_count": 4,
   "metadata": {},
   "outputs": [],
   "source": [
    "Ha_vel, Ha_vel_ivar, Ha_vel_mask, r_band, r_band_ivar = extract_data(gal_filename)\n",
    "\n",
    "mr_band = ma.array(r_band, mask=Ha_vel_mask)\n",
    "mHa_vel = ma.array(Ha_vel, mask=Ha_vel_mask)\n",
    "mHa_vel_ivar = ma.array(Ha_vel_ivar, mask=Ha_vel_mask)"
   ]
  },
  {
   "cell_type": "code",
   "execution_count": 5,
   "metadata": {},
   "outputs": [],
   "source": [
    "oneD_fit_file = '../spirals/DRPall-master_file_30.txt'\n",
    "\n",
    "oneD_fit_parameters = QTable.read(oneD_fit_file, format='ascii.ecsv')\n",
    "\n",
    "gal_oneD_fit_parameters_boolean = np.logical_and(oneD_fit_parameters['MaNGA_plate'] == int(manga_plate), \n",
    "                                                 oneD_fit_parameters['MaNGA_IFU'] == int(manga_IFU))\n",
    "\n",
    "gal_oneD_fit_parameters_row = oneD_fit_parameters[gal_oneD_fit_parameters_boolean]"
   ]
  },
  {
   "cell_type": "code",
   "execution_count": 36,
   "metadata": {},
   "outputs": [
    {
     "name": "stdout",
     "output_type": "stream",
     "text": [
      "[-11.739962, 1.0683978716829448, 37, 37, 0.6447036817356814, 272.1956986958439, 3.9922481117178874, 1.6526717602899932]\n"
     ]
    }
   ],
   "source": [
    "i_angle = np.arccos(gal_oneD_fit_parameters_row['ba'][0])\n",
    "center = np.unravel_index(ma.argmax(mr_band), mr_band.shape)\n",
    "v_sys = mHa_vel[center]\n",
    "phi = gal_oneD_fit_parameters_row['phi'][0].value*np.pi/180\n",
    "v_max = gal_oneD_fit_parameters_row['avg_v_max'][0].value\n",
    "r_turn = gal_oneD_fit_parameters_row['avg_r_turn'][0].value\n",
    "alpha = gal_oneD_fit_parameters_row['avg_alpha'][0]\n",
    "\n",
    "# Find spaxel along semi-major axis\n",
    "delta_x = int(center[1]*0.5)\n",
    "delta_y = int(delta_x/np.tan(phi))\n",
    "semi_major_axis_spaxel = tuple(np.subtract(center, (-delta_y, delta_x)))\n",
    "\n",
    "# Check value along semi-major axis\n",
    "if mHa_vel[semi_major_axis_spaxel] < 0:\n",
    "    phi_guess = phi + np.pi\n",
    "else:\n",
    "    phi_guess = phi\n",
    "\n",
    "pos_params = [v_sys, i_angle, center[0], center[1], phi_guess]\n",
    "vel_params = [v_max, r_turn, alpha]\n",
    "best_fit_params = pos_params + vel_params\n",
    "'''\n",
    "best_fit_values = {'v_sys':v_sys,\n",
    "                   'ba':gal_oneD_fit_parameters_row['ba'][0],\n",
    "                   'x0':center[0],\n",
    "                   'y0':center[1],\n",
    "                   'phi':phi_guess,\n",
    "                   'r_turn':r_turn,\n",
    "                   'v_max':v_max,\n",
    "                   'alpha':alpha}\n",
    "''';\n",
    "\n",
    "print(best_fit_params)"
   ]
  },
  {
   "cell_type": "code",
   "execution_count": 7,
   "metadata": {},
   "outputs": [],
   "source": [
    "map_shape = mHa_vel.shape"
   ]
  },
  {
   "cell_type": "code",
   "execution_count": 8,
   "metadata": {},
   "outputs": [],
   "source": [
    "H_0 = 100      # Hubble's Constant in units of h km/s/Mpc\n",
    "c = 299792.458 # Speed of light in units of km/s\n",
    "\n",
    "MANGA_FIBER_DIAMETER = 2*(1/60)*(1/60)*(np.pi/180) # angular fiber diameter (2\") in radians\n",
    "MANGA_SPAXEL_SIZE = 0.5*(1/60)*(1/60)*(np.pi/180)  # spaxel size (0.5\") in radians\n",
    "\n",
    "\n",
    "dist_to_galaxy_Mpc = c*gal_oneD_fit_parameters_row['redshift'][0]/H_0\n",
    "dist_to_galaxy_kpc = dist_to_galaxy_Mpc*1000\n",
    "\n",
    "pix_scale_factor = dist_to_galaxy_kpc*np.tan(MANGA_SPAXEL_SIZE)"
   ]
  },
  {
   "cell_type": "markdown",
   "metadata": {},
   "source": [
    "# Functions for dynesty sampler"
   ]
  },
  {
   "cell_type": "code",
   "execution_count": 58,
   "metadata": {},
   "outputs": [],
   "source": [
    "def uniform(a, b, u):\n",
    "    \"\"\"Given u in [0,1], return a uniform number in [a,b].\"\"\"\n",
    "    return a + (b-a)*u\n",
    "\n",
    "\n",
    "def jeffreys(a, b, u):\n",
    "    \"\"\"Given u in [0,1], return a Jeffreys random number in [a,b].\"\"\"\n",
    "    return a**(1-u) * b**u\n",
    "\n",
    "\n",
    "def prior_xforBB(u):\n",
    "    \"\"\"\n",
    "    Priors for the parameters of the BB velocity curve model. \n",
    "    Required by the dynesty sampler.\n",
    "    \n",
    "    Parameters\n",
    "    ----------\n",
    "    u : ndarray\n",
    "        Array of uniform random numbers between 0 and 1.\n",
    "        \n",
    "    Returns\n",
    "    -------\n",
    "    priors : ndarray\n",
    "        Transformed random numbers giving prior ranges on model parameters.\n",
    "    \"\"\"\n",
    "    v_sys    = uniform(-300, 300, u[0])\n",
    "    i_angle  = uniform(0, np.pi, u[1])\n",
    "    i_center = jeffreys(0, 74, u[2])\n",
    "    j_center = jeffreys(0, 74, u[3])\n",
    "    phi      = uniform(-np.pi, np.pi, u[4])\n",
    "    v_max    = uniform(1., 1e5, u[5])\n",
    "    r_turn   = uniform(0.1, 100., u[6])\n",
    "    alpha    = uniform(np.nextafter(0, 1), 100., u[7])\n",
    "    \n",
    "    return v_sys, i_angle, i_center, j_center, phi, v_max, r_turn, alpha\n",
    "\n",
    "\n",
    "def prior_xforBB_vel(u):\n",
    "    \"\"\"\n",
    "    Priors for the parameters of the BB velocity curve model. \n",
    "    Required by the dynesty sampler.\n",
    "    \n",
    "    Parameters\n",
    "    ----------\n",
    "    u : ndarray\n",
    "        Array of uniform random numbers between 0 and 1.\n",
    "        \n",
    "    Returns\n",
    "    -------\n",
    "    priors : ndarray\n",
    "        Transformed random numbers giving prior ranges on model parameters.\n",
    "    \"\"\"\n",
    "    v_max    = uniform(1., 1e5, u[0])\n",
    "    r_turn   = uniform(0.1, 100., u[1])\n",
    "    alpha    = uniform(np.nextafter(0, 1), 100., u[2])\n",
    "    \n",
    "    return v_max, r_turn, alpha"
   ]
  },
  {
   "cell_type": "markdown",
   "metadata": {},
   "source": [
    "# Nested sampler"
   ]
  },
  {
   "cell_type": "code",
   "execution_count": 10,
   "metadata": {
    "scrolled": true
   },
   "outputs": [
    {
     "name": "stderr",
     "output_type": "stream",
     "text": [
      "0it [00:00, ?it/s]Traceback (most recent call last):\n",
      "  File \"/Users/kellydouglass/opt/anaconda3/lib/python3.8/site-packages/dynesty/dynesty.py\", line 939, in __call__\n",
      "    return self.func(x, *self.args, **self.kwargs)\n",
      "  File \"/Users/kellydouglass/Documents/Research/Rotation_curves/RotationCurves/spirals/DRP_vel_map_functions.py\", line 539, in vel_logL_BB\n",
      "    lambda1 = model_vel_map(params, vel_map.shape, pix_scale, 'BB')\n",
      "  File \"/Users/kellydouglass/Documents/Research/Rotation_curves/RotationCurves/spirals/DRP_vel_map_functions.py\", line 234, in model_vel_map\n",
      "    r, theta[i,j] = deproject_spaxel((i,j), center, phi, i_angle)\n",
      "KeyboardInterrupt\n",
      "0it [00:23, ?it/s]"
     ]
    },
    {
     "name": "stdout",
     "output_type": "stream",
     "text": [
      "Exception while calling loglikelihood function:\n",
      "  params: [7.60733950e+04 4.35941553e+01 8.44527961e+01]\n",
      "  args: ([-11.739962, 1.0683978716829448, 37, 37, 0.6447036817356814], 0.4685401594333536, masked_array(\n",
      "  data=[[--, --, --, ..., --, --, --],\n",
      "        [--, --, --, ..., --, --, --],\n",
      "        [--, --, --, ..., --, --, --],\n",
      "        ...,\n",
      "        [--, --, --, ..., --, --, --],\n",
      "        [--, --, --, ..., --, --, --],\n",
      "        [--, --, --, ..., --, --, --]],\n",
      "  mask=[[ True,  True,  True, ...,  True,  True,  True],\n",
      "        [ True,  True,  True, ...,  True,  True,  True],\n",
      "        [ True,  True,  True, ...,  True,  True,  True],\n",
      "        ...,\n",
      "        [ True,  True,  True, ...,  True,  True,  True],\n",
      "        [ True,  True,  True, ...,  True,  True,  True],\n",
      "        [ True,  True,  True, ...,  True,  True,  True]],\n",
      "  fill_value=1e+20,\n",
      "  dtype=float32), masked_array(\n",
      "  data=[[--, --, --, ..., --, --, --],\n",
      "        [--, --, --, ..., --, --, --],\n",
      "        [--, --, --, ..., --, --, --],\n",
      "        ...,\n",
      "        [--, --, --, ..., --, --, --],\n",
      "        [--, --, --, ..., --, --, --],\n",
      "        [--, --, --, ..., --, --, --]],\n",
      "  mask=[[ True,  True,  True, ...,  True,  True,  True],\n",
      "        [ True,  True,  True, ...,  True,  True,  True],\n",
      "        [ True,  True,  True, ...,  True,  True,  True],\n",
      "        ...,\n",
      "        [ True,  True,  True, ...,  True,  True,  True],\n",
      "        [ True,  True,  True, ...,  True,  True,  True],\n",
      "        [ True,  True,  True, ...,  True,  True,  True]],\n",
      "  fill_value=1e+20,\n",
      "  dtype=float32))\n",
      "  kwargs: {}\n",
      "  exception:\n"
     ]
    },
    {
     "name": "stderr",
     "output_type": "stream",
     "text": [
      "\n"
     ]
    },
    {
     "ename": "KeyboardInterrupt",
     "evalue": "",
     "output_type": "error",
     "traceback": [
      "\u001b[0;31m---------------------------------------------------------------------------\u001b[0m",
      "\u001b[0;31mKeyboardInterrupt\u001b[0m                         Traceback (most recent call last)",
      "\u001b[0;32m<ipython-input-10-9ee628f73fc3>\u001b[0m in \u001b[0;36m<module>\u001b[0;34m\u001b[0m\n\u001b[1;32m      5\u001b[0m                                         sample='auto')\n\u001b[1;32m      6\u001b[0m \u001b[0;34m\u001b[0m\u001b[0m\n\u001b[0;32m----> 7\u001b[0;31m \u001b[0mdsampler\u001b[0m\u001b[0;34m.\u001b[0m\u001b[0mrun_nested\u001b[0m\u001b[0;34m(\u001b[0m\u001b[0;34m)\u001b[0m\u001b[0;34m\u001b[0m\u001b[0;34m\u001b[0m\u001b[0m\n\u001b[0m\u001b[1;32m      8\u001b[0m \u001b[0mdres1\u001b[0m \u001b[0;34m=\u001b[0m \u001b[0mdsampler\u001b[0m\u001b[0;34m.\u001b[0m\u001b[0mresults\u001b[0m\u001b[0;34m\u001b[0m\u001b[0;34m\u001b[0m\u001b[0m\n",
      "\u001b[0;32m~/opt/anaconda3/lib/python3.8/site-packages/dynesty/dynamicsampler.py\u001b[0m in \u001b[0;36mrun_nested\u001b[0;34m(self, nlive_init, maxiter_init, maxcall_init, dlogz_init, logl_max_init, n_effective_init, nlive_batch, wt_function, wt_kwargs, maxiter_batch, maxcall_batch, maxiter, maxcall, maxbatch, n_effective, stop_function, stop_kwargs, use_stop, save_bounds, print_progress, print_func, live_points)\u001b[0m\n\u001b[1;32m   1617\u001b[0m         \u001b[0;32mtry\u001b[0m\u001b[0;34m:\u001b[0m\u001b[0;34m\u001b[0m\u001b[0;34m\u001b[0m\u001b[0m\n\u001b[1;32m   1618\u001b[0m             \u001b[0;32mif\u001b[0m \u001b[0;32mnot\u001b[0m \u001b[0mself\u001b[0m\u001b[0;34m.\u001b[0m\u001b[0mbase\u001b[0m\u001b[0;34m:\u001b[0m\u001b[0;34m\u001b[0m\u001b[0;34m\u001b[0m\u001b[0m\n\u001b[0;32m-> 1619\u001b[0;31m                 for results in self.sample_initial(nlive=nlive_init,\n\u001b[0m\u001b[1;32m   1620\u001b[0m                                                    \u001b[0mdlogz\u001b[0m\u001b[0;34m=\u001b[0m\u001b[0mdlogz_init\u001b[0m\u001b[0;34m,\u001b[0m\u001b[0;34m\u001b[0m\u001b[0;34m\u001b[0m\u001b[0m\n\u001b[1;32m   1621\u001b[0m                                                    \u001b[0mmaxcall\u001b[0m\u001b[0;34m=\u001b[0m\u001b[0mmaxcall_init\u001b[0m\u001b[0;34m,\u001b[0m\u001b[0;34m\u001b[0m\u001b[0;34m\u001b[0m\u001b[0m\n",
      "\u001b[0;32m~/opt/anaconda3/lib/python3.8/site-packages/dynesty/dynamicsampler.py\u001b[0m in \u001b[0;36msample_initial\u001b[0;34m(self, nlive, update_interval, first_update, maxiter, maxcall, logl_max, dlogz, n_effective, live_points)\u001b[0m\n\u001b[1;32m    758\u001b[0m                                                     np.array(self.live_u))))\n\u001b[1;32m    759\u001b[0m                 \u001b[0;32mif\u001b[0m \u001b[0mself\u001b[0m\u001b[0;34m.\u001b[0m\u001b[0muse_pool_logl\u001b[0m\u001b[0;34m:\u001b[0m\u001b[0;34m\u001b[0m\u001b[0;34m\u001b[0m\u001b[0m\n\u001b[0;32m--> 760\u001b[0;31m                     self.live_logl = np.array(list(self.M(self.loglikelihood,\n\u001b[0m\u001b[1;32m    761\u001b[0m                                               np.array(self.live_v))))\n\u001b[1;32m    762\u001b[0m                 \u001b[0;32melse\u001b[0m\u001b[0;34m:\u001b[0m\u001b[0;34m\u001b[0m\u001b[0;34m\u001b[0m\u001b[0m\n",
      "\u001b[0;32m~/opt/anaconda3/lib/python3.8/site-packages/dynesty/dynesty.py\u001b[0m in \u001b[0;36m__call__\u001b[0;34m(self, x)\u001b[0m\n\u001b[1;32m    937\u001b[0m     \u001b[0;32mdef\u001b[0m \u001b[0m__call__\u001b[0m\u001b[0;34m(\u001b[0m\u001b[0mself\u001b[0m\u001b[0;34m,\u001b[0m \u001b[0mx\u001b[0m\u001b[0;34m)\u001b[0m\u001b[0;34m:\u001b[0m\u001b[0;34m\u001b[0m\u001b[0;34m\u001b[0m\u001b[0m\n\u001b[1;32m    938\u001b[0m         \u001b[0;32mtry\u001b[0m\u001b[0;34m:\u001b[0m\u001b[0;34m\u001b[0m\u001b[0;34m\u001b[0m\u001b[0m\n\u001b[0;32m--> 939\u001b[0;31m             \u001b[0;32mreturn\u001b[0m \u001b[0mself\u001b[0m\u001b[0;34m.\u001b[0m\u001b[0mfunc\u001b[0m\u001b[0;34m(\u001b[0m\u001b[0mx\u001b[0m\u001b[0;34m,\u001b[0m \u001b[0;34m*\u001b[0m\u001b[0mself\u001b[0m\u001b[0;34m.\u001b[0m\u001b[0margs\u001b[0m\u001b[0;34m,\u001b[0m \u001b[0;34m**\u001b[0m\u001b[0mself\u001b[0m\u001b[0;34m.\u001b[0m\u001b[0mkwargs\u001b[0m\u001b[0;34m)\u001b[0m\u001b[0;34m\u001b[0m\u001b[0;34m\u001b[0m\u001b[0m\n\u001b[0m\u001b[1;32m    940\u001b[0m         \u001b[0;32mexcept\u001b[0m\u001b[0;34m:\u001b[0m\u001b[0;34m\u001b[0m\u001b[0;34m\u001b[0m\u001b[0m\n\u001b[1;32m    941\u001b[0m             \u001b[0;32mimport\u001b[0m \u001b[0mtraceback\u001b[0m\u001b[0;34m\u001b[0m\u001b[0;34m\u001b[0m\u001b[0m\n",
      "\u001b[0;32m~/Documents/Research/Rotation_curves/RotationCurves/spirals/DRP_vel_map_functions.py\u001b[0m in \u001b[0;36mvel_logL_BB\u001b[0;34m(vel_params, pos_params, pix_scale, vel_map, vel_map_ivar)\u001b[0m\n\u001b[1;32m    537\u001b[0m     \u001b[0mparams\u001b[0m \u001b[0;34m=\u001b[0m \u001b[0mnp\u001b[0m\u001b[0;34m.\u001b[0m\u001b[0mconcatenate\u001b[0m\u001b[0;34m(\u001b[0m\u001b[0;34m[\u001b[0m\u001b[0mpos_params\u001b[0m\u001b[0;34m,\u001b[0m \u001b[0mvel_params\u001b[0m\u001b[0;34m]\u001b[0m\u001b[0;34m)\u001b[0m\u001b[0;34m\u001b[0m\u001b[0;34m\u001b[0m\u001b[0m\n\u001b[1;32m    538\u001b[0m \u001b[0;34m\u001b[0m\u001b[0m\n\u001b[0;32m--> 539\u001b[0;31m     \u001b[0mlambda1\u001b[0m \u001b[0;34m=\u001b[0m \u001b[0mmodel_vel_map\u001b[0m\u001b[0;34m(\u001b[0m\u001b[0mparams\u001b[0m\u001b[0;34m,\u001b[0m \u001b[0mvel_map\u001b[0m\u001b[0;34m.\u001b[0m\u001b[0mshape\u001b[0m\u001b[0;34m,\u001b[0m \u001b[0mpix_scale\u001b[0m\u001b[0;34m,\u001b[0m \u001b[0;34m'BB'\u001b[0m\u001b[0;34m)\u001b[0m\u001b[0;34m\u001b[0m\u001b[0;34m\u001b[0m\u001b[0m\n\u001b[0m\u001b[1;32m    540\u001b[0m     \u001b[0mlambda1\u001b[0m\u001b[0;34m[\u001b[0m\u001b[0mlambda1\u001b[0m \u001b[0;34m<=\u001b[0m \u001b[0;36m0\u001b[0m\u001b[0;34m]\u001b[0m \u001b[0;34m=\u001b[0m \u001b[0mnp\u001b[0m\u001b[0;34m.\u001b[0m\u001b[0mfinfo\u001b[0m\u001b[0;34m(\u001b[0m \u001b[0mdtype\u001b[0m\u001b[0;34m=\u001b[0m\u001b[0mnp\u001b[0m\u001b[0;34m.\u001b[0m\u001b[0mfloat64\u001b[0m\u001b[0;34m)\u001b[0m\u001b[0;34m.\u001b[0m\u001b[0mtiny\u001b[0m\u001b[0;34m\u001b[0m\u001b[0;34m\u001b[0m\u001b[0m\n\u001b[1;32m    541\u001b[0m \u001b[0;34m\u001b[0m\u001b[0m\n",
      "\u001b[0;32m~/Documents/Research/Rotation_curves/RotationCurves/spirals/DRP_vel_map_functions.py\u001b[0m in \u001b[0;36mmodel_vel_map\u001b[0;34m(params, map_shape, scale, fit_function)\u001b[0m\n\u001b[1;32m    232\u001b[0m             \u001b[0;31m# De-projected radius for the current point\u001b[0m\u001b[0;34m\u001b[0m\u001b[0;34m\u001b[0m\u001b[0;34m\u001b[0m\u001b[0m\n\u001b[1;32m    233\u001b[0m             \u001b[0mcenter\u001b[0m \u001b[0;34m=\u001b[0m \u001b[0;34m(\u001b[0m\u001b[0mi_center\u001b[0m\u001b[0;34m,\u001b[0m \u001b[0mj_center\u001b[0m\u001b[0;34m)\u001b[0m\u001b[0;34m\u001b[0m\u001b[0;34m\u001b[0m\u001b[0m\n\u001b[0;32m--> 234\u001b[0;31m             \u001b[0mr\u001b[0m\u001b[0;34m,\u001b[0m \u001b[0mtheta\u001b[0m\u001b[0;34m[\u001b[0m\u001b[0mi\u001b[0m\u001b[0;34m,\u001b[0m\u001b[0mj\u001b[0m\u001b[0;34m]\u001b[0m \u001b[0;34m=\u001b[0m \u001b[0mdeproject_spaxel\u001b[0m\u001b[0;34m(\u001b[0m\u001b[0;34m(\u001b[0m\u001b[0mi\u001b[0m\u001b[0;34m,\u001b[0m\u001b[0mj\u001b[0m\u001b[0;34m)\u001b[0m\u001b[0;34m,\u001b[0m \u001b[0mcenter\u001b[0m\u001b[0;34m,\u001b[0m \u001b[0mphi\u001b[0m\u001b[0;34m,\u001b[0m \u001b[0mi_angle\u001b[0m\u001b[0;34m)\u001b[0m\u001b[0;34m\u001b[0m\u001b[0;34m\u001b[0m\u001b[0m\n\u001b[0m\u001b[1;32m    235\u001b[0m \u001b[0;34m\u001b[0m\u001b[0m\n\u001b[1;32m    236\u001b[0m             \u001b[0;31m# Rotational velocity at current point\u001b[0m\u001b[0;34m\u001b[0m\u001b[0;34m\u001b[0m\u001b[0;34m\u001b[0m\u001b[0m\n",
      "\u001b[0;31mKeyboardInterrupt\u001b[0m: "
     ]
    }
   ],
   "source": [
    "dsampler = dynesty.DynamicNestedSampler(vel_logL_BB, prior_xforBB_vel, ndim=3,\n",
    "                                        logl_args=(pos_params, pix_scale_factor, mHa_vel, mHa_vel_ivar),\n",
    "                                        nlive=2000,\n",
    "                                        bound='multi',\n",
    "                                        sample='auto')\n",
    "\n",
    "dsampler.run_nested()\n",
    "dres1 = dsampler.results"
   ]
  },
  {
   "cell_type": "code",
   "execution_count": null,
   "metadata": {},
   "outputs": [],
   "source": []
  }
 ],
 "metadata": {
  "kernelspec": {
   "display_name": "Python 3",
   "language": "python",
   "name": "python3"
  },
  "language_info": {
   "codemirror_mode": {
    "name": "ipython",
    "version": 3
   },
   "file_extension": ".py",
   "mimetype": "text/x-python",
   "name": "python",
   "nbconvert_exporter": "python",
   "pygments_lexer": "ipython3",
   "version": "3.8.5"
  }
 },
 "nbformat": 4,
 "nbformat_minor": 4
}

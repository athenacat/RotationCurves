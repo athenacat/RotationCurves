{
 "cells": [
  {
   "cell_type": "markdown",
   "id": "213d9866",
   "metadata": {},
   "source": [
    "How many galaxies for which we have successful rotation curve fits do we also have CO observations for?"
   ]
  },
  {
   "cell_type": "code",
   "execution_count": 4,
   "id": "6a2b3ec5",
   "metadata": {},
   "outputs": [],
   "source": [
    "from astropy.table import Table\n",
    "\n",
    "import numpy as np\n",
    "\n",
    "import sys\n",
    "sys.path.insert(1, '/Users/kellydouglass/Documents/Research/Rotation_curves/RotationCurves/spirals/')\n",
    "from dark_matter_mass_v1 import rot_fit_BB"
   ]
  },
  {
   "cell_type": "code",
   "execution_count": 2,
   "id": "ef0bcc79",
   "metadata": {},
   "outputs": [],
   "source": [
    "H_0 = 100      # Hubble's Constant in units of h km/s/Mpc\n",
    "c = 299792.458 # Speed of light in units of km/s"
   ]
  },
  {
   "cell_type": "markdown",
   "id": "d93c2c0e",
   "metadata": {},
   "source": [
    "# Data"
   ]
  },
  {
   "cell_type": "code",
   "execution_count": 3,
   "id": "0b5b9c42",
   "metadata": {},
   "outputs": [
    {
     "name": "stderr",
     "output_type": "stream",
     "text": [
      "WARNING: OverflowError converting to FloatType in column avg_alpha, possibly resulting in degraded precision. [astropy.io.ascii.fastbasic]\n",
      "WARNING: OverflowError converting to FloatType in column pos_alpha, possibly resulting in degraded precision. [astropy.io.ascii.fastbasic]\n",
      "WARNING: OverflowError converting to FloatType in column neg_alpha, possibly resulting in degraded precision. [astropy.io.ascii.fastbasic]\n"
     ]
    }
   ],
   "source": [
    "data_filename = '../spirals/DRP-master_file_vflag_BB_smooth1p85_mapFit_N2O2_HIdr2_morph_SK_H2_v6.txt'\n",
    "\n",
    "data = Table.read(data_filename, format='ascii.commented_header')"
   ]
  },
  {
   "cell_type": "code",
   "execution_count": 5,
   "id": "4e9bbb4d",
   "metadata": {},
   "outputs": [
    {
     "name": "stderr",
     "output_type": "stream",
     "text": [
      "/Users/kellydouglass/Documents/Research/Rotation_curves/RotationCurves/spirals/dark_matter_mass_v1.py:74: RuntimeWarning: overflow encountered in power\n",
      "  v = v_max * (np.abs(depro_radius) / (r_turn**alpha + np.abs(depro_radius)**alpha)**(1/alpha))\n"
     ]
    }
   ],
   "source": [
    "################################################################################\n",
    "# Calculate the velocity at R90, Rmax\n",
    "#-------------------------------------------------------------------------------\n",
    "# Convert r from arcsec to kpc\n",
    "#-------------------------------------------------------------------------------\n",
    "dist_to_galaxy_Mpc = c*data['NSA_redshift']/H_0\n",
    "dist_to_galaxy_kpc = dist_to_galaxy_Mpc*1000\n",
    "\n",
    "data['R90_kpc'] = dist_to_galaxy_kpc*np.tan(data['NSA_elpetro_th90']*(1./60)*(1./60)*(np.pi/180))\n",
    "#-------------------------------------------------------------------------------\n",
    "\n",
    "data['V90_kms'] = rot_fit_BB(data['R90_kpc'], \n",
    "                             [data['Vmax_map'], \n",
    "                              data['Rturn_map'], \n",
    "                              data['alpha_map']])\n",
    "\n",
    "data['VRmax_kms'] = rot_fit_BB(data['Rmax_map'], \n",
    "                               [data['Vmax_map'], \n",
    "                                data['Rturn_map'], \n",
    "                                data['alpha_map']])\n",
    "################################################################################"
   ]
  },
  {
   "cell_type": "markdown",
   "id": "41580d2f",
   "metadata": {},
   "source": [
    "## Calculate mass ratios"
   ]
  },
  {
   "cell_type": "code",
   "execution_count": 6,
   "id": "a6d49187",
   "metadata": {},
   "outputs": [],
   "source": [
    "data['M90_Mdisk_ratio'] = 10**(data['M90_map'] - data['M90_disk_map'])\n",
    "\n",
    "data['M90_MdiskHI_ratio'] = 10**data['M90_map']/(10**data['M90_disk_map'] + 10**data['logHI'])\n",
    "\n",
    "data['M90_vis'] = np.log10(10**data['M90_disk_map'] + 10**data['logHI'])"
   ]
  },
  {
   "cell_type": "markdown",
   "id": "de23b3fa",
   "metadata": {},
   "source": [
    "## Remove galaxies with bad velocity map fits"
   ]
  },
  {
   "cell_type": "code",
   "execution_count": 7,
   "id": "03215643",
   "metadata": {},
   "outputs": [
    {
     "name": "stdout",
     "output_type": "stream",
     "text": [
      "1988\n"
     ]
    }
   ],
   "source": [
    "bad_boolean = np.logical_or.reduce([np.isnan(data['M90_map']), \n",
    "                                    np.isnan(data['M90_disk_map']), \n",
    "                                    data['alpha_map'] > 99, \n",
    "                                    data['ba_map'] > 0.998, \n",
    "                                    data['V90_kms']/data['Vmax_map'] < 0.9, \n",
    "                                    (data['Tidal'] & (data['DL_merge'] > 0.97)), \n",
    "                                    data['map_frac_unmasked'] < 0.05, \n",
    "                                    (data['map_frac_unmasked'] > 0.13) & (data['DRP_map_smoothness'] > 1.96), \n",
    "                                    (data['map_frac_unmasked'] > 0.07) & (data['DRP_map_smoothness'] > 2.9), \n",
    "                                    (data['map_frac_unmasked'] > -0.0638*data['DRP_map_smoothness'] + 0.255) & (data['DRP_map_smoothness'] > 1.96), \n",
    "                                    data['M90_Mdisk_ratio'] > 1050])\n",
    "\n",
    "good_galaxies = data[~bad_boolean]\n",
    "\n",
    "'''\n",
    "bad_boolean = np.logical_or.reduce([data['M90_map'] == -99, \n",
    "                                    data['M90_disk_map'] == -99, \n",
    "                                    data['alpha_map'] > 99, \n",
    "                                    data['ba_map'] > 0.998])\n",
    "\n",
    "good_galaxies = data[~bad_boolean]\n",
    "'''\n",
    "print(len(good_galaxies))"
   ]
  },
  {
   "cell_type": "markdown",
   "id": "a0ec6149",
   "metadata": {},
   "source": [
    "## Pull out those objects with H$_2$ masses"
   ]
  },
  {
   "cell_type": "code",
   "execution_count": 8,
   "id": "ef6a0809",
   "metadata": {},
   "outputs": [
    {
     "name": "stdout",
     "output_type": "stream",
     "text": [
      "143\n"
     ]
    }
   ],
   "source": [
    "H2_boolean = np.isnan(good_galaxies['logH2'])\n",
    "\n",
    "goodH2_galaxies = good_galaxies[~H2_boolean]\n",
    "\n",
    "print(len(goodH2_galaxies))"
   ]
  },
  {
   "cell_type": "markdown",
   "id": "f6df5bba",
   "metadata": {},
   "source": [
    "## Pull out those objects with HI masses"
   ]
  },
  {
   "cell_type": "code",
   "execution_count": 9,
   "id": "02034356",
   "metadata": {},
   "outputs": [
    {
     "name": "stdout",
     "output_type": "stream",
     "text": [
      "77\n"
     ]
    }
   ],
   "source": [
    "#HI_boolean = np.logical_or(good_galaxies['logHI'] == -99, good_galaxies['logHI'] == -999)\n",
    "HI_boolean = np.logical_or(np.isnan(goodH2_galaxies['logHI']), \n",
    "                           goodH2_galaxies['logHI'] == -999)\n",
    "\n",
    "goodH2HI_galaxies = goodH2_galaxies[~HI_boolean]\n",
    "\n",
    "print(len(goodH2HI_galaxies))"
   ]
  },
  {
   "cell_type": "code",
   "execution_count": null,
   "id": "81ec295f",
   "metadata": {},
   "outputs": [],
   "source": []
  }
 ],
 "metadata": {
  "kernelspec": {
   "display_name": "Python 3 (ipykernel)",
   "language": "python",
   "name": "python3"
  },
  "language_info": {
   "codemirror_mode": {
    "name": "ipython",
    "version": 3
   },
   "file_extension": ".py",
   "mimetype": "text/x-python",
   "name": "python",
   "nbconvert_exporter": "python",
   "pygments_lexer": "ipython3",
   "version": "3.8.12"
  }
 },
 "nbformat": 4,
 "nbformat_minor": 5
}

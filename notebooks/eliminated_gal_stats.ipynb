{
 "cells": [
  {
   "cell_type": "code",
   "execution_count": 1,
   "metadata": {},
   "outputs": [],
   "source": [
    "from astropy.table import Table\n",
    "\n",
    "import numpy as np\n",
    "\n",
    "import matplotlib.pyplot as plt\n",
    "%matplotlib inline"
   ]
  },
  {
   "cell_type": "code",
   "execution_count": 2,
   "metadata": {},
   "outputs": [],
   "source": [
    "master_table = Table.read('master_file_vflag_6.txt', format='ascii.ecsv')"
   ]
  },
  {
   "cell_type": "markdown",
   "metadata": {},
   "source": [
    "## Isolate eliminated galaxies"
   ]
  },
  {
   "cell_type": "code",
   "execution_count": 3,
   "metadata": {},
   "outputs": [],
   "source": [
    "eliminated_boolean = np.logical_or(master_table['curve_used'] == 'non', master_table['curve_used'] == 'none')\n",
    "\n",
    "eliminated_galaxies = master_table[eliminated_boolean]"
   ]
  },
  {
   "cell_type": "markdown",
   "metadata": {},
   "source": [
    "## Separate by environment"
   ]
  },
  {
   "cell_type": "code",
   "execution_count": 4,
   "metadata": {},
   "outputs": [],
   "source": [
    "##################################################################\n",
    "# Eliminated galaxies\n",
    "#-----------------------------------------------------------------\n",
    "vboolean = eliminated_galaxies['vflag'] == 1\n",
    "wboolean = eliminated_galaxies['vflag'] == 0\n",
    "\n",
    "void_eliminated_galaxies = eliminated_galaxies[vboolean]\n",
    "wall_eliminated_galaxies = eliminated_galaxies[wboolean]\n",
    "##################################################################\n",
    "\n",
    "\n",
    "##################################################################\n",
    "# All galaxies\n",
    "#-----------------------------------------------------------------\n",
    "vboolean = master_table['vflag'] == 1\n",
    "wboolean = master_table['vflag'] == 0\n",
    "\n",
    "void_galaxies = master_table[vboolean]\n",
    "wall_galaxies = master_table[wboolean]\n",
    "##################################################################"
   ]
  },
  {
   "cell_type": "markdown",
   "metadata": {},
   "source": [
    "## Bin by absolute magnitude"
   ]
  },
  {
   "cell_type": "code",
   "execution_count": 5,
   "metadata": {},
   "outputs": [],
   "source": [
    "# Histogram parameters\n",
    "bins = np.array([0, -17, -18, -19, -20, -26])\n",
    "\n",
    "\n",
    "# Initialize table to store the number of galaxies in each bin of the histogram(s).\n",
    "eliminated_count_table = Table()\n",
    "count_table = Table()\n",
    "\n",
    "\n",
    "# First column is the bins\n",
    "eliminated_count_table['Bins'] = bins[1:]\n",
    "count_table['Bins'] = bins[1:]\n",
    "\n",
    "# Second column is the number of galaxies in each magnitude bin\n",
    "eliminated_count_table['All'],_ = np.histogram(np.absolute(eliminated_galaxies['rabsmag']), bins=np.absolute(bins))\n",
    "count_table['All'],_ = np.histogram(np.absolute(master_table['rabsmag']), bins=np.absolute(bins))\n",
    "\n",
    "# Third column is the number of void galaxies in each magnitude bin\n",
    "eliminated_count_table['Void'],_ = np.histogram(np.absolute(void_eliminated_galaxies['rabsmag']), bins=np.absolute(bins))\n",
    "count_table['Void'],_ = np.histogram(np.absolute(void_galaxies['rabsmag']), bins=np.absolute(bins))\n",
    "\n",
    "# Fourth column is the number of wall galaxies in each magnitude bin\n",
    "eliminated_count_table['Wall'],_ = np.histogram(np.absolute(wall_eliminated_galaxies['rabsmag']), bins=np.absolute(bins))\n",
    "count_table['Wall'],_ = np.histogram(np.absolute(wall_galaxies['rabsmag']), bins=np.absolute(bins))"
   ]
  },
  {
   "cell_type": "markdown",
   "metadata": {},
   "source": [
    "## Save table"
   ]
  },
  {
   "cell_type": "code",
   "execution_count": 25,
   "metadata": {},
   "outputs": [],
   "source": [
    "eliminated_count_table.write('eliminated_gal_stats.txt', format='ascii.commented_header')"
   ]
  },
  {
   "cell_type": "markdown",
   "metadata": {},
   "source": [
    "## Comparisons"
   ]
  },
  {
   "cell_type": "code",
   "execution_count": 12,
   "metadata": {},
   "outputs": [
    {
     "data": {
      "image/png": "[encoded data removed]",
      "text/plain": [
       "<Figure size 432x288 with 1 Axes>"
      ]
     },
     "metadata": {
      "needs_background": "light"
     },
     "output_type": "display_data"
    }
   ],
   "source": [
    "plt.figure()\n",
    "plt.hist(master_table['rabsmag'])\n",
    "plt.hist(eliminated_galaxies['rabsmag'])\n",
    "plt.show()"
   ]
  },
  {
   "cell_type": "code",
   "execution_count": 8,
   "metadata": {},
   "outputs": [
    {
     "name": "stdout",
     "output_type": "stream",
     "text": [
      "Bins\n",
      "----\n",
      " -17\n",
      " -18\n",
      " -19\n",
      " -20\n",
      " -26         All        \n",
      "-------------------\n",
      " 0.4517766497461929\n",
      "0.31166347992351817\n",
      "0.32413793103448274\n",
      " 0.3517465475223396\n",
      "0.43838028169014087\n",
      "        Void       \n",
      "-------------------\n",
      "0.45161290322580644\n",
      " 0.2847682119205298\n",
      "0.31486880466472306\n",
      " 0.3481675392670157\n",
      "0.41595441595441596\n",
      "        Wall       \n",
      "-------------------\n",
      " 0.5476190476190477\n",
      "              0.325\n",
      "0.34186046511627904\n",
      " 0.3598233995584989\n",
      " 0.4610951008645533\n"
     ]
    }
   ],
   "source": [
    "print(count_table['Bins'], eliminated_count_table['All']/count_table['All'])\n",
    "print(eliminated_count_table['Void']/count_table['Void'])\n",
    "print(eliminated_count_table['Wall']/count_table['Wall'])"
   ]
  },
  {
   "cell_type": "code",
   "execution_count": 21,
   "metadata": {},
   "outputs": [
    {
     "data": {
      "image/png": "[encoded data removed]",
      "text/plain": [
       "<Figure size 432x288 with 1 Axes>"
      ]
     },
     "metadata": {
      "needs_background": "light"
     },
     "output_type": "display_data"
    }
   ],
   "source": [
    "bin_edges = [-1.5, -0.5, 0.5, 1.5, 2.5, 3.5, 4.5, 5.5]\n",
    "bin_values = [-1, 1, 2, 3, 4, 5]\n",
    "bin_labels = ['Unclassifiable', 'SF', 'low S/N SF', 'Composite', 'AGN non-Liner', 'low S/N Liner']\n",
    "\n",
    "plt.figure()\n",
    "plt.hist(master_table['BPT'], bins=bin_edges, label='All')\n",
    "plt.hist(eliminated_galaxies['BPT'], bins=bin_edges, label='Eliminated')\n",
    "plt.xticks(bin_values, bin_labels, rotation=45)\n",
    "plt.legend()\n",
    "plt.show()"
   ]
  },
  {
   "cell_type": "code",
   "execution_count": null,
   "metadata": {},
   "outputs": [],
   "source": []
  }
 ],
 "metadata": {
  "kernelspec": {
   "display_name": "Python 3",
   "language": "python",
   "name": "python3"
  },
  "language_info": {
   "codemirror_mode": {
    "name": "ipython",
    "version": 3
   },
   "file_extension": ".py",
   "mimetype": "text/x-python",
   "name": "python",
   "nbconvert_exporter": "python",
   "pygments_lexer": "ipython3",
   "version": "3.6.8"
  }
 },
 "nbformat": 4,
 "nbformat_minor": 2
}

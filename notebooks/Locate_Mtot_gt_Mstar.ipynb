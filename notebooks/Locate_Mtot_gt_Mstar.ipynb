{
 "cells": [
  {
   "cell_type": "markdown",
   "metadata": {},
   "source": [
    "Locate all galaxies with $M_{tot} > M_*$ for all points in the rotation curve."
   ]
  },
  {
   "cell_type": "code",
   "execution_count": 1,
   "metadata": {},
   "outputs": [],
   "source": [
    "from astropy.table import QTable\n",
    "\n",
    "import numpy as np\n",
    "\n",
    "import sys\n",
    "sys.path.insert(1, '/Users/kellydouglass/Documents/Research/Rotation_curves/RotationCurves/spirals/')\n",
    "from Pipe3D_rotation_curve import extract_data, calc_rot_curve"
   ]
  },
  {
   "cell_type": "markdown",
   "metadata": {},
   "source": [
    "# Read in data"
   ]
  },
  {
   "cell_type": "code",
   "execution_count": 2,
   "metadata": {},
   "outputs": [],
   "source": [
    "master_table = QTable.read( '../spirals/Pipe3D-master_file_vflag_10_smooth2-27.txt', format='ascii.ecsv')\n",
    "#master_table = QTable.read('../spirals/DRPall-master_file_30.txt', format='ascii.ecsv')"
   ]
  },
  {
   "cell_type": "code",
   "execution_count": 3,
   "metadata": {},
   "outputs": [],
   "source": [
    "ROT_CURVE_FILE_DIR = '../spirals/Pipe3D-rot_curve_data_files/'\n",
    "#ROT_CURVE_FILE_DIR = '../spirals/DRP-rot_curve_data_files/'\n",
    "\n",
    "PIPE3D_FOLDER = '../data/MaNGA/MaNGA_DR15/pipe3d/'\n",
    "#MANGA_FOLDER = '../data/MaNGA/MaNGA_DR16/HYB10-GAU-MILESHC/'"
   ]
  },
  {
   "cell_type": "markdown",
   "metadata": {},
   "source": [
    "# Check galaxies\n",
    "\n",
    "For each galaxy that makes the final data cut (with `'curve_used' != 'none'`), check to see if all of its points have $M_{tot} \\geq M_*$."
   ]
  },
  {
   "cell_type": "code",
   "execution_count": 4,
   "metadata": {},
   "outputs": [],
   "source": [
    "good_galaxies = master_table[np.logical_and(master_table['curve_used'] != 'none', \n",
    "                                            master_table['curve_used'] != 'non')]"
   ]
  },
  {
   "cell_type": "code",
   "execution_count": 5,
   "metadata": {},
   "outputs": [
    {
     "data": {
      "text/plain": [
       "2426"
      ]
     },
     "execution_count": 5,
     "metadata": {},
     "output_type": "execute_result"
    }
   ],
   "source": [
    "len(good_galaxies)"
   ]
  },
  {
   "cell_type": "code",
   "execution_count": 7,
   "metadata": {},
   "outputs": [
    {
     "name": "stdout",
     "output_type": "stream",
     "text": [
      "ALL DATA POINTS IN 6.138495309230457 kpc ANNULUS ARE MASKED!!!\n",
      "ALL DATA POINTS IN 7.015423210549094 kpc ANNULUS ARE MASKED!!!\n",
      "ALL DATA POINTS IN 7.892351111867731 kpc ANNULUS ARE MASKED!!!\n"
     ]
    },
    {
     "name": "stderr",
     "output_type": "stream",
     "text": [
      "/Users/kellydouglass/opt/anaconda3/lib/python3.7/site-packages/astropy/units/quantity.py:477: RuntimeWarning: divide by zero encountered in true_divide\n",
      "  result = super().__array_ufunc__(function, method, *arrays, **kwargs)\n",
      "/Users/kellydouglass/opt/anaconda3/lib/python3.7/site-packages/astropy/units/quantity.py:477: RuntimeWarning: invalid value encountered in multiply\n",
      "  result = super().__array_ufunc__(function, method, *arrays, **kwargs)\n"
     ]
    },
    {
     "name": "stdout",
     "output_type": "stream",
     "text": [
      "ALL DATA POINTS IN 4.490420102590221 kpc ANNULUS ARE MASKED!!!\n",
      "ALL DATA POINTS IN 5.131908688674539 kpc ANNULUS ARE MASKED!!!\n",
      "ALL DATA POINTS IN 5.773397274758857 kpc ANNULUS ARE MASKED!!!\n",
      "ALL DATA POINTS IN 6.414885860843174 kpc ANNULUS ARE MASKED!!!\n",
      "ALL DATA POINTS IN 7.0563744469274905 kpc ANNULUS ARE MASKED!!!\n",
      "ALL DATA POINTS IN 7.697863033011808 kpc ANNULUS ARE MASKED!!!\n",
      "ALL DATA POINTS IN 1.673583138517217 kpc ANNULUS ARE MASKED!!!\n",
      "ALL DATA POINTS IN 1.9126664440196766 kpc ANNULUS ARE MASKED!!!\n",
      "ALL DATA POINTS IN 0.94558444968794 kpc ANNULUS ARE MASKED!!!\n",
      "ALL DATA POINTS IN 1.89116889937588 kpc ANNULUS ARE MASKED!!!\n",
      "ALL DATA POINTS IN 5.487494912825857 kpc ANNULUS ARE MASKED!!!\n",
      "ALL DATA POINTS IN 6.58499389539103 kpc ANNULUS ARE MASKED!!!\n",
      "ALL DATA POINTS IN 7.682492877956201 kpc ANNULUS ARE MASKED!!!\n",
      "ALL DATA POINTS IN 8.779991860521372 kpc ANNULUS ARE MASKED!!!\n",
      "ALL DATA POINTS IN 9.877490843086544 kpc ANNULUS ARE MASKED!!!\n",
      "ALL DATA POINTS IN 10.974989825651715 kpc ANNULUS ARE MASKED!!!\n",
      "ALL DATA POINTS IN 12.072488808216887 kpc ANNULUS ARE MASKED!!!\n",
      "ALL DATA POINTS IN 2.868211319670559 kpc ANNULUS ARE MASKED!!!\n",
      "ALL DATA POINTS IN 3.2267377346293786 kpc ANNULUS ARE MASKED!!!\n",
      "ALL DATA POINTS IN 3.5852641495881987 kpc ANNULUS ARE MASKED!!!\n",
      "ALL DATA POINTS IN 6.588378586846461 kpc ANNULUS ARE MASKED!!!\n",
      "ALL DATA POINTS IN 7.411925910202268 kpc ANNULUS ARE MASKED!!!\n",
      "ALL DATA POINTS IN 8.235473233558077 kpc ANNULUS ARE MASKED!!!\n",
      "ALL DATA POINTS IN 9.059020556913884 kpc ANNULUS ARE MASKED!!!\n",
      "ALL DATA POINTS IN 9.882567880269692 kpc ANNULUS ARE MASKED!!!\n",
      "ALL DATA POINTS IN 10.7061152036255 kpc ANNULUS ARE MASKED!!!\n",
      "ALL DATA POINTS IN 11.529662526981307 kpc ANNULUS ARE MASKED!!!\n",
      "ALL DATA POINTS IN 12.353209850337114 kpc ANNULUS ARE MASKED!!!\n",
      "ALL DATA POINTS IN 13.176757173692922 kpc ANNULUS ARE MASKED!!!\n",
      "ALL DATA POINTS IN 5.341549910758685 kpc ANNULUS ARE MASKED!!!\n",
      "ALL DATA POINTS IN 6.009243649603521 kpc ANNULUS ARE MASKED!!!\n",
      "ALL DATA POINTS IN 6.676937388448357 kpc ANNULUS ARE MASKED!!!\n",
      "ALL DATA POINTS IN 1.986559891702952 kpc ANNULUS ARE MASKED!!!\n",
      "ALL DATA POINTS IN 2.3176532069867775 kpc ANNULUS ARE MASKED!!!\n",
      "ALL DATA POINTS IN 2.648746522270603 kpc ANNULUS ARE MASKED!!!\n",
      "ALL DATA POINTS IN 2.979839837554428 kpc ANNULUS ARE MASKED!!!\n",
      "ALL DATA POINTS IN 6.894410311819928 kpc ANNULUS ARE MASKED!!!\n",
      "ALL DATA POINTS IN 7.7562116007974184 kpc ANNULUS ARE MASKED!!!\n",
      "ALL DATA POINTS IN 8.61801288977491 kpc ANNULUS ARE MASKED!!!\n",
      "ALL DATA POINTS IN 9.4798141787524 kpc ANNULUS ARE MASKED!!!\n",
      "ALL DATA POINTS IN 10.341615467729891 kpc ANNULUS ARE MASKED!!!\n",
      "ALL DATA POINTS IN 5.573838331211885 kpc ANNULUS ARE MASKED!!!\n",
      "ALL DATA POINTS IN 6.502811386413866 kpc ANNULUS ARE MASKED!!!\n",
      "ALL DATA POINTS IN 7.4317844416158465 kpc ANNULUS ARE MASKED!!!\n",
      "ALL DATA POINTS IN 8.360757496817827 kpc ANNULUS ARE MASKED!!!\n",
      "ALL DATA POINTS IN 4.161951260557644 kpc ANNULUS ARE MASKED!!!\n",
      "ALL DATA POINTS IN 4.855609803983918 kpc ANNULUS ARE MASKED!!!\n",
      "ALL DATA POINTS IN 5.549268347410192 kpc ANNULUS ARE MASKED!!!\n",
      "ALL DATA POINTS IN 6.242926890836466 kpc ANNULUS ARE MASKED!!!\n",
      "ALL DATA POINTS IN 6.9365854342627395 kpc ANNULUS ARE MASKED!!!\n",
      "ALL DATA POINTS IN 7.630243977689013 kpc ANNULUS ARE MASKED!!!\n",
      "ALL DATA POINTS IN 8.323902521115288 kpc ANNULUS ARE MASKED!!!\n",
      "ALL DATA POINTS IN 9.017561064541562 kpc ANNULUS ARE MASKED!!!\n",
      "ALL DATA POINTS IN 9.711219607967836 kpc ANNULUS ARE MASKED!!!\n",
      "ALL DATA POINTS IN 10.40487815139411 kpc ANNULUS ARE MASKED!!!\n",
      "ALL DATA POINTS IN 11.098536694820384 kpc ANNULUS ARE MASKED!!!\n",
      "ALL DATA POINTS IN 1.0540961027142206 kpc ANNULUS ARE MASKED!!!\n",
      "ALL DATA POINTS IN 1.2649153232570647 kpc ANNULUS ARE MASKED!!!\n",
      "ALL DATA POINTS IN 1.4757345437999088 kpc ANNULUS ARE MASKED!!!\n",
      "ALL DATA POINTS IN 1.6865537643427528 kpc ANNULUS ARE MASKED!!!\n",
      "ALL DATA POINTS IN 1.897372984885597 kpc ANNULUS ARE MASKED!!!\n",
      "ALL DATA POINTS IN 5.998719171566787 kpc ANNULUS ARE MASKED!!!\n",
      "ALL DATA POINTS IN 9.961047543725128 kpc ANNULUS ARE MASKED!!!\n",
      "ALL DATA POINTS IN 10.95715229809764 kpc ANNULUS ARE MASKED!!!\n",
      "ALL DATA POINTS IN 11.953257052470153 kpc ANNULUS ARE MASKED!!!\n",
      "ALL DATA POINTS IN 12.949361806842667 kpc ANNULUS ARE MASKED!!!\n",
      "ALL DATA POINTS IN 13.945466561215179 kpc ANNULUS ARE MASKED!!!\n",
      "ALL DATA POINTS IN 14.94157131558769 kpc ANNULUS ARE MASKED!!!\n",
      "ALL DATA POINTS IN 4.6976196167483035 kpc ANNULUS ARE MASKED!!!\n",
      "ALL DATA POINTS IN 3.788025046337752 kpc ANNULUS ARE MASKED!!!\n",
      "ALL DATA POINTS IN 4.261528177129971 kpc ANNULUS ARE MASKED!!!\n",
      "ALL DATA POINTS IN 4.73503130792219 kpc ANNULUS ARE MASKED!!!\n",
      "ALL DATA POINTS IN 5.208534438714409 kpc ANNULUS ARE MASKED!!!\n",
      "ALL DATA POINTS IN 5.682037569506628 kpc ANNULUS ARE MASKED!!!\n",
      "ALL DATA POINTS IN 6.155540700298847 kpc ANNULUS ARE MASKED!!!\n",
      "ALL DATA POINTS IN 3.097845730956384 kpc ANNULUS ARE MASKED!!!\n",
      "ALL DATA POINTS IN 3.717414877147661 kpc ANNULUS ARE MASKED!!!\n",
      "ALL DATA POINTS IN 4.336984023338937 kpc ANNULUS ARE MASKED!!!\n",
      "ALL DATA POINTS IN 4.956553169530214 kpc ANNULUS ARE MASKED!!!\n",
      "ALL DATA POINTS IN 4.915813313933778 kpc ANNULUS ARE MASKED!!!\n",
      "ALL DATA POINTS IN 5.325464423428259 kpc ANNULUS ARE MASKED!!!\n",
      "ALL DATA POINTS IN 5.735115532922741 kpc ANNULUS ARE MASKED!!!\n",
      "ALL DATA POINTS IN 6.144766642417222 kpc ANNULUS ARE MASKED!!!\n",
      "ALL DATA POINTS IN 6.5544177519117035 kpc ANNULUS ARE MASKED!!!\n",
      "ALL DATA POINTS IN 10.91086835341611 kpc ANNULUS ARE MASKED!!!\n",
      "ALL DATA POINTS IN 0.96405490133288 kpc ANNULUS ARE MASKED!!!\n",
      "ALL DATA POINTS IN 12.955229247882135 kpc ANNULUS ARE MASKED!!!\n",
      "ALL DATA POINTS IN 14.80597628329387 kpc ANNULUS ARE MASKED!!!\n",
      "ALL DATA POINTS IN 3.8469520957510475 kpc ANNULUS ARE MASKED!!!\n",
      "ALL DATA POINTS IN 4.274391217501164 kpc ANNULUS ARE MASKED!!!\n",
      "ALL DATA POINTS IN 4.701830339251281 kpc ANNULUS ARE MASKED!!!\n",
      "ALL DATA POINTS IN 5.129269461001397 kpc ANNULUS ARE MASKED!!!\n",
      "ALL DATA POINTS IN 5.556708582751513 kpc ANNULUS ARE MASKED!!!\n",
      "ALL DATA POINTS IN 5.98414770450163 kpc ANNULUS ARE MASKED!!!\n",
      "ALL DATA POINTS IN 10.402625624936327 kpc ANNULUS ARE MASKED!!!\n",
      "ALL DATA POINTS IN 2.0558437872623685 kpc ANNULUS ARE MASKED!!!\n",
      "ALL DATA POINTS IN 2.4670125447148425 kpc ANNULUS ARE MASKED!!!\n",
      "ALL DATA POINTS IN 2.878181302167316 kpc ANNULUS ARE MASKED!!!\n",
      "ALL DATA POINTS IN 3.2893500596197898 kpc ANNULUS ARE MASKED!!!\n",
      "ALL DATA POINTS IN 3.7005188170722634 kpc ANNULUS ARE MASKED!!!\n",
      "ALL DATA POINTS IN 4.111687574524737 kpc ANNULUS ARE MASKED!!!\n",
      "ALL DATA POINTS IN 4.522856331977211 kpc ANNULUS ARE MASKED!!!\n",
      "ALL DATA POINTS IN 7.394516396244867 kpc ANNULUS ARE MASKED!!!\n",
      "ALL DATA POINTS IN 7.963325349802164 kpc ANNULUS ARE MASKED!!!\n",
      "ALL DATA POINTS IN 3.764756673270683 kpc ANNULUS ARE MASKED!!!\n",
      "ALL DATA POINTS IN 7.036209456695802 kpc ANNULUS ARE MASKED!!!\n",
      "ALL DATA POINTS IN 7.577456337980094 kpc ANNULUS ARE MASKED!!!\n",
      "ALL DATA POINTS IN 8.118703219264386 kpc ANNULUS ARE MASKED!!!\n",
      "ALL DATA POINTS IN 8.659950100548679 kpc ANNULUS ARE MASKED!!!\n",
      "ALL DATA POINTS IN 3.550665977772172 kpc ANNULUS ARE MASKED!!!\n",
      "ALL DATA POINTS IN 2.9825782853307854 kpc ANNULUS ARE MASKED!!!\n",
      "ALL DATA POINTS IN 3.3554005709971335 kpc ANNULUS ARE MASKED!!!\n",
      "ALL DATA POINTS IN 3.7282228566634816 kpc ANNULUS ARE MASKED!!!\n",
      "ALL DATA POINTS IN 4.10104514232983 kpc ANNULUS ARE MASKED!!!\n",
      "ALL DATA POINTS IN 4.473867427996178 kpc ANNULUS ARE MASKED!!!\n",
      "ALL DATA POINTS IN 7.722128507203423 kpc ANNULUS ARE MASKED!!!\n",
      "ALL DATA POINTS IN 1.6242205280410251 kpc ANNULUS ARE MASKED!!!\n",
      "ALL DATA POINTS IN 10.866835364997003 kpc ANNULUS ARE MASKED!!!\n",
      "ALL DATA POINTS IN 4.675716907557524 kpc ANNULUS ARE MASKED!!!\n",
      "ALL DATA POINTS IN 5.610860289069029 kpc ANNULUS ARE MASKED!!!\n",
      "ALL DATA POINTS IN 7.642208216579528 kpc ANNULUS ARE MASKED!!!\n",
      "ALL DATA POINTS IN 8.336954418086757 kpc ANNULUS ARE MASKED!!!\n",
      "ALL DATA POINTS IN 9.031700619593988 kpc ANNULUS ARE MASKED!!!\n",
      "ALL DATA POINTS IN 9.726446821101216 kpc ANNULUS ARE MASKED!!!\n",
      "ALL DATA POINTS IN 10.421193022608447 kpc ANNULUS ARE MASKED!!!\n",
      "ALL DATA POINTS IN 11.115939224115676 kpc ANNULUS ARE MASKED!!!\n",
      "ALL DATA POINTS IN 6.314052517261259 kpc ANNULUS ARE MASKED!!!\n",
      "ALL DATA POINTS IN 6.799748864742894 kpc ANNULUS ARE MASKED!!!\n",
      "ALL DATA POINTS IN 7.28544521222453 kpc ANNULUS ARE MASKED!!!\n",
      "ALL DATA POINTS IN 7.771141559706165 kpc ANNULUS ARE MASKED!!!\n"
     ]
    },
    {
     "name": "stdout",
     "output_type": "stream",
     "text": [
      "ALL DATA POINTS IN 2.8432852263906465 kpc ANNULUS ARE MASKED!!!\n",
      "ALL DATA POINTS IN 3.249468830160739 kpc ANNULUS ARE MASKED!!!\n",
      "ALL DATA POINTS IN 3.6556524339308316 kpc ANNULUS ARE MASKED!!!\n",
      "ALL DATA POINTS IN 4.061836037700924 kpc ANNULUS ARE MASKED!!!\n",
      "ALL DATA POINTS IN 4.468019641471016 kpc ANNULUS ARE MASKED!!!\n",
      "ALL DATA POINTS IN 3.0804918235725167 kpc ANNULUS ARE MASKED!!!\n",
      "ALL DATA POINTS IN 3.4227686928583516 kpc ANNULUS ARE MASKED!!!\n"
     ]
    }
   ],
   "source": [
    "Mtot_gt_Mstar_IDs = []\n",
    "\n",
    "for i in range(len(good_galaxies)):\n",
    "    \n",
    "    ############################################################################\n",
    "    # Construct galaxy file name\n",
    "    #---------------------------------------------------------------------------\n",
    "    plate = str(good_galaxies['MaNGA_plate'][i])\n",
    "    gal_ID = plate + '-' + str(good_galaxies['MaNGA_fiberID'][i])\n",
    "    \n",
    "    #file_name = MANGA_FOLDER + plate + '/manga-' + gal_ID + '-MAPS-HYB10-GAU-MILESHC.fits.gz'\n",
    "    file_name = PIPE3D_FOLDER + plate + '/manga-' + gal_ID + '.Pipe3D.cube.fits.gz'\n",
    "    \n",
    "    rot_curve_filename = ROT_CURVE_FILE_DIR + gal_ID + '_rot_curve_data.txt'\n",
    "    ############################################################################\n",
    "    \n",
    "    \n",
    "    ############################################################################\n",
    "    # Compile data for rotation curves\n",
    "    #---------------------------------------------------------------------------\n",
    "    _,_,Ha_vel, Ha_vel_error, v_band, v_band_err, sMass_density,_,_ = extract_data( file_name)\n",
    "    \n",
    "    rot_data_table,_,_ = calc_rot_curve( Ha_vel, Ha_vel_error, v_band, \n",
    "                                         v_band_err, sMass_density, \n",
    "                                         good_galaxies['NSA_ba'][i], \n",
    "                                         good_galaxies['NSA_phi'][i], \n",
    "                                         good_galaxies['NSA_redshift'][i], \n",
    "                                         gal_ID, plot_diagnostics=False)\n",
    "    \n",
    "    rot_curve_table = QTable.read(rot_curve_filename, format='ascii.ecsv')\n",
    "    ############################################################################\n",
    "    \n",
    "    \n",
    "    ############################################################################\n",
    "    # Compare total mass to stellar mass at each radius in rotation curve\n",
    "    #\n",
    "    # The total mass will be larger than the stellar mass when the velocity due \n",
    "    # to the total mass is greater than the velocity due to the stellar mass.\n",
    "    #---------------------------------------------------------------------------\n",
    "    if good_galaxies['curve_used'][i] == 'avg':\n",
    "        Mtot_vel = rot_curve_table['rot_vel_avg']\n",
    "    elif good_galaxies['curve_used'][i] == 'pos':\n",
    "        Mtot_vel = rot_curve_table['max_velocity']\n",
    "    else:\n",
    "        Mtot_vel = rot_curve_table['min_velocity']\n",
    "    \n",
    "    Mstar_vel = rot_data_table['sVel_rot']\n",
    "    \n",
    "    vel_diff = Mtot_vel - Mstar_vel\n",
    "    \n",
    "    if sum(vel_diff < 0) == 0:\n",
    "        # Total mass is always larger than stellar mass\n",
    "        Mtot_gt_Mstar_IDs.append(gal_ID)\n",
    "    ############################################################################"
   ]
  },
  {
   "cell_type": "code",
   "execution_count": 8,
   "metadata": {},
   "outputs": [
    {
     "data": {
      "text/plain": [
       "41"
      ]
     },
     "execution_count": 8,
     "metadata": {},
     "output_type": "execute_result"
    }
   ],
   "source": [
    "len(Mtot_gt_Mstar_IDs)"
   ]
  },
  {
   "cell_type": "code",
   "execution_count": 9,
   "metadata": {},
   "outputs": [
    {
     "data": {
      "text/plain": [
       "['8466-6101',\n",
       " '8984-12702',\n",
       " '8977-12704',\n",
       " '8950-12701',\n",
       " '8552-12703',\n",
       " '9041-3701',\n",
       " '9038-12702',\n",
       " '8978-6101',\n",
       " '8936-12703',\n",
       " '8989-3702',\n",
       " '8717-6102',\n",
       " '8615-12705',\n",
       " '9184-3704',\n",
       " '8335-12702',\n",
       " '8131-3701',\n",
       " '8604-12701',\n",
       " '9033-3704',\n",
       " '7957-3701',\n",
       " '8997-9102',\n",
       " '9181-3704',\n",
       " '9002-6103',\n",
       " '8993-12705',\n",
       " '8156-12704',\n",
       " '9182-3701',\n",
       " '9196-9102',\n",
       " '8977-6102',\n",
       " '8146-9101',\n",
       " '8592-12705',\n",
       " '9505-12702',\n",
       " '8940-9101',\n",
       " '8140-6104',\n",
       " '9184-12703',\n",
       " '8139-12705',\n",
       " '8243-9102',\n",
       " '8451-6101',\n",
       " '8725-6101',\n",
       " '9509-12703',\n",
       " '9184-3701',\n",
       " '8462-3701',\n",
       " '8315-12703',\n",
       " '9491-12703']"
      ]
     },
     "execution_count": 9,
     "metadata": {},
     "output_type": "execute_result"
    }
   ],
   "source": [
    "Mtot_gt_Mstar_IDs"
   ]
  },
  {
   "cell_type": "code",
   "execution_count": null,
   "metadata": {},
   "outputs": [],
   "source": []
  }
 ],
 "metadata": {
  "kernelspec": {
   "display_name": "Python 3",
   "language": "python",
   "name": "python3"
  },
  "language_info": {
   "codemirror_mode": {
    "name": "ipython",
    "version": 3
   },
   "file_extension": ".py",
   "mimetype": "text/x-python",
   "name": "python",
   "nbconvert_exporter": "python",
   "pygments_lexer": "ipython3",
   "version": "3.7.6"
  }
 },
 "nbformat": 4,
 "nbformat_minor": 4
}

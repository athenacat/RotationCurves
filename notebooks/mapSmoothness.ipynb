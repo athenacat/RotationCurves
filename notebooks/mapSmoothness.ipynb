{
 "cells": [
  {
   "cell_type": "code",
   "execution_count": 7,
   "metadata": {},
   "outputs": [],
   "source": [
    "from astropy.table import QTable\n",
    "from astropy.io import fits\n",
    "\n",
    "import sys\n",
    "sys.path.insert(1, '/Users/kellydouglass/Documents/Research/Rotation_curves/RotationCurves/')\n",
    "from rotation_curve_v2_1 import extract_data\n",
    "from rotation_curve_v2_1_functions import build_mask\n",
    "from mapSmoothness_functions import how_smooth\n",
    "\n",
    "import matplotlib.pyplot as plt\n",
    "%matplotlib inline"
   ]
  },
  {
   "cell_type": "markdown",
   "metadata": {},
   "source": [
    "## Galaxy data"
   ]
  },
  {
   "cell_type": "code",
   "execution_count": 2,
   "metadata": {},
   "outputs": [],
   "source": [
    "galaxies = QTable.read('../master_file_vflag_10.txt', format='ascii.ecsv')\n",
    "\n",
    "galaxies['smoothness_score'] = -1."
   ]
  },
  {
   "cell_type": "markdown",
   "metadata": {},
   "source": [
    "## Calculate smoothness scores"
   ]
  },
  {
   "cell_type": "code",
   "execution_count": 4,
   "metadata": {},
   "outputs": [
    {
     "name": "stderr",
     "output_type": "stream",
     "text": [
      "/Users/kellydouglass/Documents/Research/Rotation_curves/RotationCurves/mapSmoothness_functions.py:93: RuntimeWarning: invalid value encountered in true_divide\n",
      "  return score/num_unmasked_spaxels\n"
     ]
    }
   ],
   "source": [
    "for i in range(len(galaxies)):\n",
    "    \n",
    "    ############################################################################\n",
    "    # Build galaxy file name\n",
    "    #---------------------------------------------------------------------------\n",
    "    plate = galaxies['MaNGA_plate'][i]\n",
    "    fiber = galaxies['MaNGA_fiberID'][i]\n",
    "    \n",
    "    galaxy_fits_filename = '../manga_files/MaNGA_DR15/' + str(plate) + '/manga-' + str(plate) + '-' + str(fiber) + '.Pipe3D.cube.fits.gz'\n",
    "    ############################################################################\n",
    "\n",
    "\n",
    "    ############################################################################\n",
    "    # Read in data\n",
    "    #---------------------------------------------------------------------------\n",
    "    _, Ha_vel, Ha_vel_error, v_band, v_band_err, sMass_density,_,_,_,_ = extract_data( galaxy_fits_filename)\n",
    "\n",
    "\n",
    "    data_mask = build_mask( Ha_vel_error, v_band, v_band_err, sMass_density)\n",
    "    ############################################################################\n",
    "\n",
    "\n",
    "    ############################################################################\n",
    "    # Calculate degree of smoothness of velocity map\n",
    "    #---------------------------------------------------------------------------\n",
    "    smoothness_score = how_smooth( Ha_vel, data_mask)\n",
    "\n",
    "    galaxies['smoothness_score'][i] = smoothness_score\n",
    "    ############################################################################\n",
    "    \n",
    "galaxies.write('../master_file_vflag_10_smooth.txt', format='ascii.ecsv')"
   ]
  },
  {
   "cell_type": "code",
   "execution_count": 9,
   "metadata": {},
   "outputs": [
    {
     "data": {
      "text/plain": [
       "(array([  3.,   2.,   4.,   4.,   4.,   3.,   2.,   3.,   1.,   2.,   4.,\n",
       "          1.,   3.,  10.,   4.,   4.,  10.,  18.,  22.,  17.,  24.,  26.,\n",
       "         28.,  31.,  35.,  36.,  56.,  46.,  48.,  49.,  63.,  72.,  63.,\n",
       "         71.,  66.,  69.,  75.,  73.,  74.,  83.,  84.,  75.,  86.,  77.,\n",
       "         78.,  85.,  79.,  75.,  69.,  75.,  62.,  53.,  66.,  74.,  60.,\n",
       "         55.,  52.,  54.,  51.,  47.,  57.,  38.,  35.,  46.,  53.,  49.,\n",
       "         51.,  53.,  73.,  72.,  76.,  73., 110., 109., 141., 164., 158.,\n",
       "        167., 165., 127.,  73.,  57.,  35.,  15.,  17.,   7.,   1.,   3.,\n",
       "          3.,   0.,   2.,   0.,   1.,   0.,   0.,   0.,   0.,   0.,   0.,\n",
       "          1.]),\n",
       " array([0.        , 0.0328494 , 0.06569879, 0.09854819, 0.13139758,\n",
       "        0.16424698, 0.19709637, 0.22994577, 0.26279516, 0.29564456,\n",
       "        0.32849395, 0.36134335, 0.39419274, 0.42704214, 0.45989153,\n",
       "        0.49274093, 0.52559032, 0.55843972, 0.59128912, 0.62413851,\n",
       "        0.65698791, 0.6898373 , 0.7226867 , 0.75553609, 0.78838549,\n",
       "        0.82123488, 0.85408428, 0.88693367, 0.91978307, 0.95263246,\n",
       "        0.98548186, 1.01833125, 1.05118065, 1.08403004, 1.11687944,\n",
       "        1.14972884, 1.18257823, 1.21542763, 1.24827702, 1.28112642,\n",
       "        1.31397581, 1.34682521, 1.3796746 , 1.412524  , 1.44537339,\n",
       "        1.47822279, 1.51107218, 1.54392158, 1.57677097, 1.60962037,\n",
       "        1.64246976, 1.67531916, 1.70816855, 1.74101795, 1.77386735,\n",
       "        1.80671674, 1.83956614, 1.87241553, 1.90526493, 1.93811432,\n",
       "        1.97096372, 2.00381311, 2.03666251, 2.0695119 , 2.1023613 ,\n",
       "        2.13521069, 2.16806009, 2.20090948, 2.23375888, 2.26660827,\n",
       "        2.29945767, 2.33230707, 2.36515646, 2.39800586, 2.43085525,\n",
       "        2.46370465, 2.49655404, 2.52940344, 2.56225283, 2.59510223,\n",
       "        2.62795162, 2.66080102, 2.69365041, 2.72649981, 2.7593492 ,\n",
       "        2.7921986 , 2.82504799, 2.85789739, 2.89074679, 2.92359618,\n",
       "        2.95644558, 2.98929497, 3.02214437, 3.05499376, 3.08784316,\n",
       "        3.12069255, 3.15354195, 3.18639134, 3.21924074, 3.25209013,\n",
       "        3.28493953]),\n",
       " <a list of 100 Patch objects>)"
      ]
     },
     "execution_count": 9,
     "metadata": {},
     "output_type": "execute_result"
    },
    {
     "data": {
      "image/png": "[encoded data removed]",
      "text/plain": [
       "<Figure size 432x288 with 1 Axes>"
      ]
     },
     "metadata": {
      "needs_background": "light"
     },
     "output_type": "display_data"
    }
   ],
   "source": [
    "plt.figure()\n",
    "plt.hist(galaxies['smoothness_score'], bins=100)"
   ]
  },
  {
   "cell_type": "code",
   "execution_count": 10,
   "metadata": {},
   "outputs": [],
   "source": []
  },
  {
   "cell_type": "code",
   "execution_count": null,
   "metadata": {},
   "outputs": [],
   "source": []
  }
 ],
 "metadata": {
  "kernelspec": {
   "display_name": "Python 3",
   "language": "python",
   "name": "python3"
  },
  "language_info": {
   "codemirror_mode": {
    "name": "ipython",
    "version": 3
   },
   "file_extension": ".py",
   "mimetype": "text/x-python",
   "name": "python",
   "nbconvert_exporter": "python",
   "pygments_lexer": "ipython3",
   "version": "3.6.8"
  }
 },
 "nbformat": 4,
 "nbformat_minor": 2
}

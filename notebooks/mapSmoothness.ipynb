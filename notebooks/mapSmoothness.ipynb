{
 "cells": [
  {
   "cell_type": "code",
   "execution_count": 1,
   "metadata": {},
   "outputs": [],
   "source": [
    "from astropy.table import QTable\n",
    "from astropy.io import fits\n",
    "\n",
    "import sys\n",
    "\n",
    "sys.path.insert(1, '/Users/kellydouglass/Documents/Research/Rotation_curves/RotationCurves/spirals/')\n",
    "from Pipe3D_rotation_curve import extract_data\n",
    "from Pipe3D_rotation_curve_functions import build_mask\n",
    "\n",
    "sys.path.insert(2, '/Users/kellydouglass/Documents/Research/Rotation_curves/RotationCurves/')\n",
    "from mapSmoothness_functions import how_smooth\n",
    "\n",
    "import matplotlib.pyplot as plt"
   ]
  },
  {
   "cell_type": "markdown",
   "metadata": {},
   "source": [
    "## Galaxy data"
   ]
  },
  {
   "cell_type": "code",
   "execution_count": 5,
   "metadata": {},
   "outputs": [],
   "source": [
    "galaxies = QTable.read('../spirals/Pipe3D-master_file_vflag_10.txt', format='ascii.ecsv')\n",
    "\n",
    "galaxies['smoothness_score'] = -1."
   ]
  },
  {
   "cell_type": "markdown",
   "metadata": {},
   "source": [
    "## Calculate smoothness scores"
   ]
  },
  {
   "cell_type": "code",
   "execution_count": 6,
   "metadata": {},
   "outputs": [
    {
     "name": "stderr",
     "output_type": "stream",
     "text": [
      "/Users/kellydouglass/Documents/Research/Rotation_curves/RotationCurves/mapSmoothness_functions.py:93: RuntimeWarning: invalid value encountered in true_divide\n",
      "  return score/num_unmasked_spaxels\n"
     ]
    }
   ],
   "source": [
    "for i in range(len(galaxies)):\n",
    "    \n",
    "    ############################################################################\n",
    "    # Build galaxy file name\n",
    "    #---------------------------------------------------------------------------\n",
    "    plate = galaxies['MaNGA_plate'][i]\n",
    "    IFU = galaxies['MaNGA_fiberID'][i]\n",
    "    \n",
    "    galaxy_fits_filename = '../data/MaNGA/MaNGA_DR15/pipe3d/' + str(plate) + '/manga-' + str(plate) + '-' + str(IFU) + '.Pipe3D.cube.fits.gz'\n",
    "    ############################################################################\n",
    "\n",
    "\n",
    "    ############################################################################\n",
    "    # Read in data\n",
    "    #---------------------------------------------------------------------------\n",
    "    _,_, Ha_vel, Ha_vel_error, v_band, v_band_err, sMass_density,_,_ = extract_data( galaxy_fits_filename)\n",
    "\n",
    "\n",
    "    data_mask = build_mask( Ha_vel_error, v_band, v_band_err, sMass_density)\n",
    "    ############################################################################\n",
    "\n",
    "\n",
    "    ############################################################################\n",
    "    # Calculate degree of smoothness of velocity map\n",
    "    #---------------------------------------------------------------------------\n",
    "    smoothness_score = how_smooth( Ha_vel, data_mask)\n",
    "\n",
    "    galaxies['smoothness_score'][i] = smoothness_score\n",
    "    ############################################################################\n",
    "    \n",
    "galaxies.write('../spirals/Pipe3D-master_file_vflag_10_smooth.txt', format='ascii.ecsv')"
   ]
  },
  {
   "cell_type": "code",
   "execution_count": 7,
   "metadata": {},
   "outputs": [],
   "source": [
    "galaxies = QTable.read('../spirals/Pipe3D-master_file_vflag_10_smooth.txt', format='ascii.ecsv')"
   ]
  },
  {
   "cell_type": "code",
   "execution_count": 8,
   "metadata": {},
   "outputs": [
    {
     "data": {
      "image/png": "[encoded data removed]",
      "text/plain": [
       "<Figure size 432x288 with 1 Axes>"
      ]
     },
     "metadata": {
      "needs_background": "light"
     },
     "output_type": "display_data"
    }
   ],
   "source": [
    "%matplotlib inline\n",
    "\n",
    "plt.figure()\n",
    "\n",
    "plt.hist(galaxies['smoothness_score'], bins=100);"
   ]
  },
  {
   "cell_type": "code",
   "execution_count": 10,
   "metadata": {},
   "outputs": [],
   "source": []
  },
  {
   "cell_type": "code",
   "execution_count": null,
   "metadata": {},
   "outputs": [],
   "source": []
  }
 ],
 "metadata": {
  "kernelspec": {
   "display_name": "Python 3",
   "language": "python",
   "name": "python3"
  },
  "language_info": {
   "codemirror_mode": {
    "name": "ipython",
    "version": 3
   },
   "file_extension": ".py",
   "mimetype": "text/x-python",
   "name": "python",
   "nbconvert_exporter": "python",
   "pygments_lexer": "ipython3",
   "version": "3.7.6"
  }
 },
 "nbformat": 4,
 "nbformat_minor": 2
}

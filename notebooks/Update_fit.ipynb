{
 "cells": [
  {
   "cell_type": "markdown",
   "id": "3bc365be-a250-421f-84d5-b9e99d0d3fad",
   "metadata": {},
   "source": [
    "This notebook will read in one of the output files produced from a mass run of `DRP_vel_map_main.py` and replace the best-fit values for a single galaxy with that produced from running the same file on a single galaxy."
   ]
  },
  {
   "cell_type": "code",
   "execution_count": 1,
   "id": "f62e9096-8aeb-4657-a913-49e34d6a7580",
   "metadata": {},
   "outputs": [],
   "source": [
    "from astropy.table import Table"
   ]
  },
  {
   "cell_type": "markdown",
   "id": "c2d2c964-41db-476d-87ab-7698eeda22e9",
   "metadata": {},
   "source": [
    "# Read in data file to be updated"
   ]
  },
  {
   "cell_type": "code",
   "execution_count": 2,
   "id": "f8769258-921e-46b1-9b3a-696d54e235ab",
   "metadata": {},
   "outputs": [],
   "source": [
    "file_directory = '../spirals/'\n",
    "\n",
    "filename = 'DRP-master_file_vflag_BB_smooth1p85_mapFit_N2O2_HIdr2_morph_SK_H2_noWords_v7.txt'\n",
    "\n",
    "bestfits = Table.read(file_directory + filename, format='ascii.commented_header')"
   ]
  },
  {
   "cell_type": "markdown",
   "id": "8dcdd8d0-d327-4399-a397-18a0eb2394bc",
   "metadata": {},
   "source": [
    "# New best-fit values\n",
    "\n",
    "This is copied from the terminal output from running `DRP_vel_map_main.py` on a single galaxy."
   ]
  },
  {
   "cell_type": "code",
   "execution_count": 4,
   "id": "1f054a8e-4b51-49b4-8080-f46d3c021dce",
   "metadata": {},
   "outputs": [],
   "source": [
    "galaxy = '8932-3701'\n",
    "\n",
    "new_fit = {'v_sys': -10.285785709896832, 'v_sys_err': 0.7723118586746296, \n",
    "           'ba': 0.8680227270743877, 'ba_err': 0.023318484140285506, \n",
    "           'x0': 23.017905043889055, 'x0_err': 0.12553935343583777, \n",
    "           'y0': 22.54438525364445, 'y0_err': 0.21118220187009965, \n",
    "           'phi': 192.13562476657347, 'phi_err': 0.5492368629144834, \n",
    "           'v_max': 157.89944276833614, 'v_max_err': 12.793622575959118, \n",
    "           'r_turn': 1.4230282990409966, 'r_turn_err': 0.05199443117054093, \n",
    "           'chi2': 139.6251781675083, \n",
    "           'alpha': 3.1690643032870778, 'alpha_err': 0.6133449877410929, \n",
    "           'Rmax': 3.7763138480366076}\n",
    "\n",
    "mass_new = {'M': 10.354210442562145, 'M_err': 9.948982075472824}\n",
    "\n",
    "fit_flag = -1"
   ]
  },
  {
   "cell_type": "markdown",
   "id": "218ffec4-ce62-4b85-bb1a-20c0b8e2b6b2",
   "metadata": {},
   "source": [
    "# Replace values in output file with those given above.\n",
    "\n",
    "## 1) Find the row in the table corresponding to the galaxy"
   ]
  },
  {
   "cell_type": "code",
   "execution_count": 5,
   "id": "1f8b4a4a-988e-4e4b-93a6-45588b5113e1",
   "metadata": {},
   "outputs": [],
   "source": [
    "plate, ifu = galaxy.split('-')\n",
    "\n",
    "row_boolean = (bestfits['MaNGA_plate'] == int(plate)) & (bestfits['MaNGA_IFU'] == int(ifu))"
   ]
  },
  {
   "cell_type": "markdown",
   "id": "99a12285-c0d0-42a2-ae2e-09dfe513f764",
   "metadata": {},
   "source": [
    "## 2) Replace each of the specified properties"
   ]
  },
  {
   "cell_type": "code",
   "execution_count": 10,
   "id": "19e71c1a-e4fa-4397-9f7a-1bec5c8feaf2",
   "metadata": {},
   "outputs": [],
   "source": [
    "bestfits['Vsys_map'][row_boolean] = new_fit['v_sys']\n",
    "bestfits['Vsys_err_map'][row_boolean] = new_fit['v_sys_err']\n",
    "\n",
    "bestfits['ba_map'][row_boolean] = new_fit['ba']\n",
    "bestfits['ba_err_map'][row_boolean] = new_fit['ba_err']\n",
    "\n",
    "bestfits['x0_map'][row_boolean] = new_fit['x0']\n",
    "bestfits['x0_err_map'][row_boolean] = new_fit['x0_err']\n",
    "\n",
    "bestfits['y0_map'][row_boolean] = new_fit['y0']\n",
    "bestfits['y0_err_map'][row_boolean] = new_fit['y0_err']\n",
    "\n",
    "bestfits['phi_map'][row_boolean] = new_fit['phi']\n",
    "bestfits['phi_err_map'][row_boolean] = new_fit['phi']\n",
    "\n",
    "bestfits['Vmax_map'][row_boolean] = new_fit['v_max']\n",
    "bestfits['Vmax_err_map'][row_boolean] = new_fit['v_max_err']\n",
    "\n",
    "bestfits['Rturn_map'][row_boolean] = new_fit['r_turn']\n",
    "bestfits['Rturn_err_map'][row_boolean] = new_fit['r_turn_err']\n",
    "\n",
    "bestfits['chi2_map'][row_boolean] = new_fit['chi2']\n",
    "\n",
    "bestfits['alpha_map'][row_boolean] = new_fit['alpha']\n",
    "bestfits['alpha_err_map'][row_boolean] = new_fit['alpha_err']\n",
    "\n",
    "bestfits['Rmax_map'][row_boolean] = new_fit['Rmax']"
   ]
  },
  {
   "cell_type": "code",
   "execution_count": 12,
   "id": "5074296b-0f9e-4047-92ae-2ce279b25d78",
   "metadata": {},
   "outputs": [],
   "source": [
    "bestfits['M90_map'][row_boolean] = mass_new['M']\n",
    "bestfits['M90_err_map'][row_boolean] = mass_new['M_err']"
   ]
  },
  {
   "cell_type": "code",
   "execution_count": 13,
   "id": "9662dce4-a784-44f2-b441-039b08c6dc2d",
   "metadata": {},
   "outputs": [],
   "source": [
    "bestfits['map_fit_flag'][row_boolean] = fit_flag"
   ]
  },
  {
   "cell_type": "markdown",
   "id": "1b5e2f72-b138-4167-8590-cb8071946432",
   "metadata": {},
   "source": [
    "# Write updated file over original"
   ]
  },
  {
   "cell_type": "code",
   "execution_count": 14,
   "id": "e701242f-635a-4ac0-9b1a-dff3d0e1a20f",
   "metadata": {},
   "outputs": [],
   "source": [
    "bestfits.write(file_directory + filename, format='ascii.commented_header', overwrite=True)"
   ]
  },
  {
   "cell_type": "code",
   "execution_count": null,
   "id": "6564002c-b986-42b7-a670-06ea34109df8",
   "metadata": {},
   "outputs": [],
   "source": []
  }
 ],
 "metadata": {
  "kernelspec": {
   "display_name": "Python 3 (ipykernel)",
   "language": "python",
   "name": "python3"
  },
  "language_info": {
   "codemirror_mode": {
    "name": "ipython",
    "version": 3
   },
   "file_extension": ".py",
   "mimetype": "text/x-python",
   "name": "python",
   "nbconvert_exporter": "python",
   "pygments_lexer": "ipython3",
   "version": "3.8.15"
  }
 },
 "nbformat": 4,
 "nbformat_minor": 5
}

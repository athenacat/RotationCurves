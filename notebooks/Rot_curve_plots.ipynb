{
 "cells": [
  {
   "cell_type": "code",
   "execution_count": 1,
   "metadata": {},
   "outputs": [],
   "source": [
    "import numpy as np\n",
    "\n",
    "from astropy.table import QTable\n",
    "\n",
    "import matplotlib.pyplot as plt\n",
    "\n",
    "import sys\n",
    "sys.path.insert(1, '/Users/kellydouglass/Documents/Research/Rotation_curves/RotationCurves/')\n",
    "from rotation_curve_v2_1 import extract_data, calc_rot_curve\n",
    "from dark_matter_mass_v1_2_plottingFunctions import plot_fitted_rot_curve, plot_fitted_rot_curve_mass"
   ]
  },
  {
   "cell_type": "markdown",
   "metadata": {},
   "source": [
    "## Galaxies to plot"
   ]
  },
  {
   "cell_type": "code",
   "execution_count": 2,
   "metadata": {},
   "outputs": [],
   "source": [
    "RUN_ALL_GALAXIES = True\n",
    "\n",
    "FILE_IDS = ['7443-12705']\n",
    "\n",
    "IMAGE_DIR = '../images/'"
   ]
  },
  {
   "cell_type": "markdown",
   "metadata": {},
   "source": [
    "## Read in data"
   ]
  },
  {
   "cell_type": "code",
   "execution_count": 3,
   "metadata": {},
   "outputs": [],
   "source": [
    "master_table = QTable.read( '../master_file_vflag_10.txt', format='ascii.ecsv')\n",
    "\n",
    "\n",
    "MANGA_FOLDER = '../manga_files/MaNGA_DR15/'"
   ]
  },
  {
   "cell_type": "markdown",
   "metadata": {},
   "source": [
    "# Create fitted rotation curve plots"
   ]
  },
  {
   "cell_type": "code",
   "execution_count": 4,
   "metadata": {},
   "outputs": [
    {
     "name": "stderr",
     "output_type": "stream",
     "text": [
      "/Users/kellydouglass/Documents/Research/Rotation_curves/RotationCurves/dark_matter_mass_v1_2.py:65: RuntimeWarning: divide by zero encountered in reciprocal\n",
      "  return v_max * (depro_radius / (r_turn**alpha + depro_radius**alpha)**(1/alpha))\n",
      "/Users/kellydouglass/Documents/Research/Rotation_curves/RotationCurves/dark_matter_mass_v1_2.py:65: RuntimeWarning: divide by zero encountered in true_divide\n",
      "  return v_max * (depro_radius / (r_turn**alpha + depro_radius**alpha)**(1/alpha))\n",
      "/Users/kellydouglass/Documents/Research/Rotation_curves/RotationCurves/dark_matter_mass_v1_2.py:65: RuntimeWarning: invalid value encountered in true_divide\n",
      "  return v_max * (depro_radius / (r_turn**alpha + depro_radius**alpha)**(1/alpha))\n",
      "/Users/kellydouglass/Documents/Research/Rotation_curves/RotationCurves/dark_matter_mass_v1_2.py:65: RuntimeWarning: overflow encountered in power\n",
      "  return v_max * (depro_radius / (r_turn**alpha + depro_radius**alpha)**(1/alpha))\n",
      "/Users/kellydouglass/Documents/Research/Rotation_curves/RotationCurves/dark_matter_mass_v1_2.py:65: RuntimeWarning: divide by zero encountered in power\n",
      "  return v_max * (depro_radius / (r_turn**alpha + depro_radius**alpha)**(1/alpha))\n",
      "/Users/kellydouglass/Documents/Research/Rotation_curves/RotationCurves/dark_matter_mass_v1_2.py:65: RuntimeWarning: overflow encountered in add\n",
      "  return v_max * (depro_radius / (r_turn**alpha + depro_radius**alpha)**(1/alpha))\n",
      "/Users/kellydouglass/Documents/Research/Rotation_curves/RotationCurves/dark_matter_mass_v1_2.py:65: RuntimeWarning: overflow encountered in double_scalars\n",
      "  return v_max * (depro_radius / (r_turn**alpha + depro_radius**alpha)**(1/alpha))\n"
     ]
    }
   ],
   "source": [
    "if RUN_ALL_GALAXIES:\n",
    "    for i in range(len(master_table)):\n",
    "        \n",
    "        #######################################################################\n",
    "        # Construct galaxy ID\n",
    "        #----------------------------------------------------------------------\n",
    "        gal_ID = str(master_table['MaNGA_plate'][i]) + '-' + str(master_table['MaNGA_fiberID'][i])\n",
    "        #----------------------------------------------------------------------\n",
    "        \n",
    "        \n",
    "        #######################################################################\n",
    "        # Plot fitted rotation curve\n",
    "        #----------------------------------------------------------------------\n",
    "        plot_fitted_rot_curve( gal_ID, master_table[i], IMAGE_DIR=IMAGE_DIR)\n",
    "        #----------------------------------------------------------------------\n",
    "        \n",
    "else:\n",
    "    for i in range(len(FILE_IDS)):\n",
    "        \n",
    "        #######################################################################\n",
    "        # Find galaxy in master_table\n",
    "        #----------------------------------------------------------------------\n",
    "        plate, fiber = FILE_IDS[i].split('-')\n",
    "        \n",
    "        plate_boolean = master_table['MaNGA_plate'] == int(plate)\n",
    "        fiber_boolean = master_table['MaNGA_fiberID'] == int(fiber)\n",
    "        \n",
    "        row = master_table[plate_boolean & fiber_boolean]\n",
    "        \n",
    "        print(row['avg_v_max'], row['rabsmag'][0])\n",
    "        #----------------------------------------------------------------------\n",
    "        \n",
    "        \n",
    "        #######################################################################\n",
    "        # Plot fitted rotation curve\n",
    "        #----------------------------------------------------------------------\n",
    "        plot_fitted_rot_curve( FILE_IDS[i], row[0])\n",
    "        #----------------------------------------------------------------------"
   ]
  },
  {
   "cell_type": "markdown",
   "metadata": {},
   "source": [
    "# Create fitted rotation curve plot with DM, $M_*$ curves"
   ]
  },
  {
   "cell_type": "code",
   "execution_count": 5,
   "metadata": {},
   "outputs": [
    {
     "name": "stdout",
     "output_type": "stream",
     "text": [
      "0.064473525\n"
     ]
    },
    {
     "data": {
      "image/png": "[encoded data removed]",
      "text/plain": [
       "<Figure size 504x360 with 1 Axes>"
      ]
     },
     "metadata": {
      "needs_background": "light"
     },
     "output_type": "display_data"
    }
   ],
   "source": [
    "if RUN_ALL_GALAXIES:\n",
    "    for i in range(len(master_table)):\n",
    "        \n",
    "        ############################################################################\n",
    "        # Construct galaxy file name\n",
    "        #---------------------------------------------------------------------------\n",
    "        gal_ID = str(master_table['MaNGA_plate'][i]) + '-' + str(master_table['MaNGA_fiberID'][i])\n",
    "        \n",
    "        file_name = MANGA_FOLDER + str(master_table['MaNGA_plate'][i]) + '/manga-' \\\n",
    "                   + gal_ID + '.Pipe3D.cube.fits.gz'\n",
    "        #---------------------------------------------------------------------------\n",
    "        \n",
    "        \n",
    "        ############################################################################\n",
    "        # Read data from fits file\n",
    "        #---------------------------------------------------------------------------\n",
    "        Ha_vel, Ha_vel_error, v_band, v_band_err, sMass_density,_,_,_,_ = extract_data( file_name)\n",
    "        #---------------------------------------------------------------------------\n",
    "        \n",
    "        \n",
    "        ############################################################################\n",
    "        # Extract rotation curve data\n",
    "        #---------------------------------------------------------------------------\n",
    "        rot_data_table,_,_ = calc_rot_curve( Ha_vel, Ha_vel_error, v_band, \n",
    "                                             v_band_err, sMass_density, \n",
    "                                             master_table['NSA_ba'][i], \n",
    "                                             master_table['NSA_phi'][i], \n",
    "                                             master_table['NSA_redshift'][i], gal_ID)\n",
    "        #---------------------------------------------------------------------------\n",
    "        \n",
    "        \n",
    "        ############################################################################\n",
    "        # Plot fitted rotation curve\n",
    "        #---------------------------------------------------------------------------\n",
    "        plot_fitted_rot_curve_mass( gal_ID, master_table[i], rot_data_table, IMAGE_DIR=IMAGE_DIR)\n",
    "        #---------------------------------------------------------------------------\n",
    "        \n",
    "else:\n",
    "    for i in range(len(FILE_IDS)):\n",
    "        \n",
    "        ############################################################################\n",
    "        # Construct galaxy file name\n",
    "        #---------------------------------------------------------------------------\n",
    "        plate, fiber = FILE_IDS[i].split('-')\n",
    "        \n",
    "        file_name = MANGA_FOLDER + plate + '/manga-' + FILE_IDS[i] + '.Pipe3D.cube.fits.gz'\n",
    "        #---------------------------------------------------------------------------\n",
    "        \n",
    "        \n",
    "        ############################################################################\n",
    "        # Read data from fits file\n",
    "        #---------------------------------------------------------------------------\n",
    "        Ha_vel, Ha_vel_error, v_band, v_band_err, sMass_density,_,_,_,_ = extract_data( file_name)\n",
    "        #---------------------------------------------------------------------------\n",
    "        \n",
    "        \n",
    "        ############################################################################\n",
    "        # Find galaxy in master_table\n",
    "        #---------------------------------------------------------------------------\n",
    "        plate_boolean = master_table['MaNGA_plate'] == int(plate)\n",
    "        fiber_boolean = master_table['MaNGA_fiberID'] == int(fiber)\n",
    "        \n",
    "        row = master_table[plate_boolean & fiber_boolean]\n",
    "        print( row['NSA_redshift'][0])\n",
    "        #---------------------------------------------------------------------------\n",
    "        \n",
    "        \n",
    "        ############################################################################\n",
    "        # Extract rotation curve data\n",
    "        #---------------------------------------------------------------------------\n",
    "        rot_data_table,_,_ = calc_rot_curve( Ha_vel, Ha_vel_error, v_band, \n",
    "                                             v_band_err, sMass_density, \n",
    "                                             row['NSA_ba'][0], row['NSA_phi'][0], \n",
    "                                             row['NSA_redshift'][0], FILE_IDS[i])\n",
    "        #---------------------------------------------------------------------------\n",
    "        \n",
    "        \n",
    "        ############################################################################\n",
    "        # Plot fitted rotation curve\n",
    "        #---------------------------------------------------------------------------\n",
    "        plot_fitted_rot_curve_mass( FILE_IDS[i], row[0], rot_data_table)\n",
    "        #---------------------------------------------------------------------------"
   ]
  },
  {
   "cell_type": "code",
   "execution_count": null,
   "metadata": {},
   "outputs": [],
   "source": []
  }
 ],
 "metadata": {
  "kernelspec": {
   "display_name": "Python 3",
   "language": "python",
   "name": "python3"
  },
  "language_info": {
   "codemirror_mode": {
    "name": "ipython",
    "version": 3
   },
   "file_extension": ".py",
   "mimetype": "text/x-python",
   "name": "python",
   "nbconvert_exporter": "python",
   "pygments_lexer": "ipython3",
   "version": "3.6.8"
  }
 },
 "nbformat": 4,
 "nbformat_minor": 2
}

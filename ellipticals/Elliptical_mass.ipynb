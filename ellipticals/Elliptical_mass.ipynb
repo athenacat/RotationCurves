{
 "cells": [
  {
   "cell_type": "code",
   "execution_count": 37,
   "metadata": {},
   "outputs": [],
   "source": [
    "from astropy.io import fits\n",
    "from astropy.table import Table\n",
    "\n",
    "import numpy as np\n",
    "import numpy.ma as ma\n",
    "\n",
    "import matplotlib.pyplot as plt\n",
    "%matplotlib inline"
   ]
  },
  {
   "cell_type": "code",
   "execution_count": 2,
   "metadata": {},
   "outputs": [],
   "source": [
    "G = 6.674e-11 # m^3 kg^-1 s^-2\n",
    "c = 3e5 # km/s\n",
    "Msun = 1.989e30 # kg\n",
    "\n",
    "h = 1\n",
    "H0 = 100*h # km/s/Mpc"
   ]
  },
  {
   "cell_type": "markdown",
   "metadata": {},
   "source": [
    "# Import galaxy data"
   ]
  },
  {
   "cell_type": "code",
   "execution_count": 4,
   "metadata": {},
   "outputs": [],
   "source": [
    "dr = 17\n",
    "\n",
    "if dr <= 16:\n",
    "    data_directory = '/Users/kellydouglass/Documents/Research/data/SDSS/dr16/manga/spectro/analysis/v2_4_3/2.2.1/'\n",
    "else: # dr >= 17\n",
    "    data_directory = '/scratch/kdougla7/data/SDSS/dr17/manga/spectro/analysis/v3_1_1/3.1.0/'\n",
    "\n",
    "if dr <= 16:\n",
    "    DRP_directory = '/Users/kellydouglass/Documents/Research/data/SDSS/dr16/manga/spectro/redux/v2_4_3/'\n",
    "else: # dr >= 17\n",
    "    DRP_directory = '/scratch/kdougla7/data/SDSS/dr17/manga/spectro/redux/v3_1_1/'"
   ]
  },
  {
   "cell_type": "code",
   "execution_count": 29,
   "metadata": {},
   "outputs": [
    {
     "name": "stderr",
     "output_type": "stream",
     "text": [
      "/software/python3/3.6.5/lib/python3.6/site-packages/ipykernel/__main__.py:31: RuntimeWarning: invalid value encountered in sqrt\n"
     ]
    }
   ],
   "source": [
    "galaxy_ID = '7443-1902'\n",
    "\n",
    "plate, fiber = galaxy_ID.split('-')\n",
    "\n",
    "if dr <= 16:\n",
    "    galaxy_data = fits.open(data_directory + 'HYB10-GAU-MILESHC/' + plate + '/' + fiber + '/manga-' + galaxy_ID + '-MAPS-HYB10-GAU-MILESHC.fits.gz')\n",
    "else: # dr >= 17\n",
    "    galaxy_data = fits.open(data_directory + 'HYB10-MILESHC-MASTARSSP/' + plate + '/' + fiber + '/manga-' + galaxy_ID + '-MAPS-HYB10-MILESHC-MASTARSSP.fits.gz')\n",
    "\n",
    "# Extract H-alpha velocity map\n",
    "if dr <= 16: # H-alpha is in channel 19\n",
    "    Ha_vel = galaxy_data['EMLINE_GVEL'].data[18]\n",
    "else: # dr >= 17, where H-alpha is in channel 24\n",
    "    Ha_vel = galaxy_data['EMLINE_GVEL'].data[23]\n",
    "\n",
    "# H-alpha mask extension\n",
    "Ha_mask_extension = galaxy_data['EMLINE_GVEL'].header['QUALDATA']\n",
    "\n",
    "# Extract stellar velocity map\n",
    "star_vel = galaxy_data['STELLAR_VEL'].data\n",
    "\n",
    "# Stellar velocity mask extension\n",
    "star_vel_mask_extension = galaxy_data['STELLAR_VEL'].header['QUALDATA']\n",
    "\n",
    "# Extract (and correct for instrumental resolution effects) stellar velocity dispersion map\n",
    "if dr <= 16:\n",
    "    star_sigma = np.sqrt(galaxy_data['STELLAR_SIGMA'].data**2 \n",
    "                         - galaxy_data['STELLAR_SIGMACORR'].data**2)\n",
    "else: # dr >= 17\n",
    "    star_sigma = np.sqrt(galaxy_data['STELLAR_SIGMA'].data**2\n",
    "                         - galaxy_data['STELLAR_SIGMACORR'].data[0]**2)\n",
    "# See https://www.sdss.org/dr16/manga/manga-data/working-with-manga-data/ for correction details\n",
    "\n",
    "# Stellar velocity dispersion mask extension\n",
    "star_sigma_mask_extension = galaxy_data['STELLAR_SIGMA'].header['QUALDATA']\n",
    "\n",
    "# Extract stellar mass density map\n",
    "#sMass_density = galaxy_data[1].data[19]\n",
    "\n",
    "# Extract average mass-to-light ratio map\n",
    "#MtoL = galaxy_data[1].data[17]\n",
    "\n",
    "# Extract average r-band image\n",
    "r_band = galaxy_data['SPX_MFLUX'].data"
   ]
  },
  {
   "cell_type": "code",
   "execution_count": 6,
   "metadata": {},
   "outputs": [
    {
     "name": "stdout",
     "output_type": "stream",
     "text": [
      "Filename: /scratch/kdougla7/data/SDSS/dr17/manga/spectro/analysis/v3_1_1/3.1.0/HYB10-MILESHC-MASTARSSP/7443/1902/manga-7443-1902-MAPS-HYB10-MILESHC-MASTARSSP.fits.gz\n",
      "No.    Name      Ver    Type      Cards   Dimensions   Format\n",
      "  0  PRIMARY       1 PrimaryHDU     147   ()      \n",
      "  1  SPX_SKYCOO    1 ImageHDU        44   (32, 32, 2)   float32   \n",
      "  2  SPX_ELLCOO    1 ImageHDU        49   (32, 32, 4)   float32   \n",
      "  3  SPX_MFLUX     1 ImageHDU        37   (32, 32)   float32   \n",
      "  4  SPX_MFLUX_IVAR    1 ImageHDU        38   (32, 32)   float32   \n",
      "  5  SPX_SNR       1 ImageHDU        35   (32, 32)   float32   \n",
      "  6  BINID         1 ImageHDU        46   (32, 32, 5)   int32   \n",
      "  7  BIN_LWSKYCOO    1 ImageHDU        44   (32, 32, 2)   float32   \n",
      "  8  BIN_LWELLCOO    1 ImageHDU        49   (32, 32, 4)   float32   \n",
      "  9  BIN_AREA      1 ImageHDU        36   (32, 32)   float32   \n",
      " 10  BIN_FAREA     1 ImageHDU        35   (32, 32)   float32   \n",
      " 11  BIN_MFLUX     1 ImageHDU        38   (32, 32)   float32   \n",
      " 12  BIN_MFLUX_IVAR    1 ImageHDU        39   (32, 32)   float32   \n",
      " 13  BIN_MFLUX_MASK    1 ImageHDU        38   (32, 32)   int32   \n",
      " 14  BIN_SNR       1 ImageHDU        35   (32, 32)   float32   \n",
      " 15  STELLAR_VEL    1 ImageHDU        38   (32, 32)   float32   \n",
      " 16  STELLAR_VEL_IVAR    1 ImageHDU        39   (32, 32)   float32   \n",
      " 17  STELLAR_VEL_MASK    1 ImageHDU        38   (32, 32)   int32   \n",
      " 18  STELLAR_SIGMA    1 ImageHDU        38   (32, 32)   float32   \n",
      " 19  STELLAR_SIGMA_IVAR    1 ImageHDU        39   (32, 32)   float32   \n",
      " 20  STELLAR_SIGMA_MASK    1 ImageHDU        38   (32, 32)   int32   \n",
      " 21  STELLAR_SIGMACORR    1 ImageHDU        44   (32, 32, 2)   float32   \n",
      " 22  STELLAR_FOM    1 ImageHDU        59   (32, 32, 9)   float32   \n",
      " 23  EMLINE_SFLUX    1 ImageHDU        79   (32, 32, 35)   float32   \n",
      " 24  EMLINE_SFLUX_IVAR    1 ImageHDU        80   (32, 32, 35)   float32   \n",
      " 25  EMLINE_SFLUX_MASK    1 ImageHDU        79   (32, 32, 35)   int32   \n",
      " 26  EMLINE_SEW    1 ImageHDU        79   (32, 32, 35)   float32   \n",
      " 27  EMLINE_SEW_CNT    1 ImageHDU        77   (32, 32, 35)   float32   \n",
      " 28  EMLINE_SEW_IVAR    1 ImageHDU        80   (32, 32, 35)   float32   \n",
      " 29  EMLINE_SEW_MASK    1 ImageHDU        79   (32, 32, 35)   int32   \n",
      " 30  EMLINE_GFLUX    1 ImageHDU        79   (32, 32, 35)   float32   \n",
      " 31  EMLINE_GFLUX_IVAR    1 ImageHDU        80   (32, 32, 35)   float32   \n",
      " 32  EMLINE_GFLUX_MASK    1 ImageHDU        79   (32, 32, 35)   int32   \n",
      " 33  EMLINE_GEW    1 ImageHDU        79   (32, 32, 35)   float32   \n",
      " 34  EMLINE_GEW_CNT    1 ImageHDU        77   (32, 32, 35)   float32   \n",
      " 35  EMLINE_GEW_IVAR    1 ImageHDU        80   (32, 32, 35)   float32   \n",
      " 36  EMLINE_GEW_MASK    1 ImageHDU        79   (32, 32, 35)   int32   \n",
      " 37  EMLINE_GVEL    1 ImageHDU        79   (32, 32, 35)   float32   \n",
      " 38  EMLINE_GVEL_IVAR    1 ImageHDU        80   (32, 32, 35)   float32   \n",
      " 39  EMLINE_GVEL_MASK    1 ImageHDU        79   (32, 32, 35)   int32   \n",
      " 40  EMLINE_GSIGMA    1 ImageHDU        79   (32, 32, 35)   float32   \n",
      " 41  EMLINE_GSIGMA_IVAR    1 ImageHDU        80   (32, 32, 35)   float32   \n",
      " 42  EMLINE_GSIGMA_MASK    1 ImageHDU        79   (32, 32, 35)   int32   \n",
      " 43  EMLINE_INSTSIGMA    1 ImageHDU        77   (32, 32, 35)   float32   \n",
      " 44  EMLINE_TPLSIGMA    1 ImageHDU        77   (32, 32, 35)   float32   \n",
      " 45  EMLINE_GA     1 ImageHDU        77   (32, 32, 35)   float32   \n",
      " 46  EMLINE_GANR    1 ImageHDU        76   (32, 32, 35)   float32   \n",
      " 47  EMLINE_FOM    1 ImageHDU        59   (32, 32, 9)   float32   \n",
      " 48  EMLINE_LFOM    1 ImageHDU        76   (32, 32, 35)   float32   \n",
      " 49  SPECINDEX     1 ImageHDU       135   (32, 32, 46)   float32   \n",
      " 50  SPECINDEX_IVAR    1 ImageHDU       136   (32, 32, 46)   float32   \n",
      " 51  SPECINDEX_MASK    1 ImageHDU        90   (32, 32, 46)   int32   \n",
      " 52  SPECINDEX_CORR    1 ImageHDU        87   (32, 32, 46)   float32   \n",
      " 53  SPECINDEX_MODEL    1 ImageHDU        87   (32, 32, 46)   float32   \n",
      " 54  SPECINDEX_BF    1 ImageHDU       135   (32, 32, 46)   float32   \n",
      " 55  SPECINDEX_BF_IVAR    1 ImageHDU       136   (32, 32, 46)   float32   \n",
      " 56  SPECINDEX_BF_MASK    1 ImageHDU        90   (32, 32, 46)   int32   \n",
      " 57  SPECINDEX_BF_CORR    1 ImageHDU        87   (32, 32, 46)   float32   \n",
      " 58  SPECINDEX_BF_MODEL    1 ImageHDU        87   (32, 32, 46)   float32   \n",
      " 59  SPECINDEX_WGT    1 ImageHDU       135   (32, 32, 46)   float32   \n",
      " 60  SPECINDEX_WGT_IVAR    1 ImageHDU       136   (32, 32, 46)   float32   \n",
      " 61  SPECINDEX_WGT_MASK    1 ImageHDU        90   (32, 32, 46)   int32   \n",
      " 62  SPECINDEX_WGT_CORR    1 ImageHDU        87   (32, 32, 46)   float32   \n",
      " 63  SPECINDEX_WGT_MODEL    1 ImageHDU        87   (32, 32, 46)   float32   \n"
     ]
    }
   ],
   "source": [
    "galaxy_data.info()"
   ]
  },
  {
   "cell_type": "code",
   "execution_count": 8,
   "metadata": {},
   "outputs": [],
   "source": [
    "'''\n",
    "master_filename = '../master_file.txt'\n",
    "\n",
    "general_data = Table.read(master_filename, format='ascii.ecsv')\n",
    "'''\n",
    "\n",
    "if dr <= 16:\n",
    "    drp_filename = DRP_directory + 'drpall-v2_4_3.fits'\n",
    "else: # dr >= 17\n",
    "    drp_filename = DRP_directory + 'drpall-v3_1_1.fits'\n",
    "\n",
    "hdul = fits.open(drp_filename)\n",
    "general_data = Table(hdul[1].data)\n",
    "hdul.close()"
   ]
  },
  {
   "cell_type": "code",
   "execution_count": 9,
   "metadata": {},
   "outputs": [
    {
     "data": {
      "text/plain": [
       "['plate',\n",
       " 'ifudsgn',\n",
       " 'plateifu',\n",
       " 'mangaid',\n",
       " 'versdrp2',\n",
       " 'versdrp3',\n",
       " 'verscore',\n",
       " 'versutil',\n",
       " 'versprim',\n",
       " 'platetyp',\n",
       " 'srvymode',\n",
       " 'objra',\n",
       " 'objdec',\n",
       " 'ifuglon',\n",
       " 'ifuglat',\n",
       " 'ifura',\n",
       " 'ifudec',\n",
       " 'ebvgal',\n",
       " 'nexp',\n",
       " 'exptime',\n",
       " 'drp3qual',\n",
       " 'bluesn2',\n",
       " 'redsn2',\n",
       " 'harname',\n",
       " 'frlplug',\n",
       " 'cartid',\n",
       " 'designid',\n",
       " 'cenra',\n",
       " 'cendec',\n",
       " 'airmsmin',\n",
       " 'airmsmed',\n",
       " 'airmsmax',\n",
       " 'seemin',\n",
       " 'seemed',\n",
       " 'seemax',\n",
       " 'transmin',\n",
       " 'transmed',\n",
       " 'transmax',\n",
       " 'mjdmin',\n",
       " 'mjdmed',\n",
       " 'mjdmax',\n",
       " 'gfwhm',\n",
       " 'rfwhm',\n",
       " 'ifwhm',\n",
       " 'zfwhm',\n",
       " 'mngtarg1',\n",
       " 'mngtarg2',\n",
       " 'mngtarg3',\n",
       " 'catidnum',\n",
       " 'plttarg',\n",
       " 'manga_tileid',\n",
       " 'nsa_iauname',\n",
       " 'ifudesignsize',\n",
       " 'ifutargetsize',\n",
       " 'ifudesignwrongsize',\n",
       " 'z',\n",
       " 'zmin',\n",
       " 'zmax',\n",
       " 'szmin',\n",
       " 'szmax',\n",
       " 'ezmin',\n",
       " 'ezmax',\n",
       " 'probs',\n",
       " 'pweight',\n",
       " 'psweight',\n",
       " 'psrweight',\n",
       " 'sweight',\n",
       " 'srweight',\n",
       " 'eweight',\n",
       " 'esweight',\n",
       " 'esrweight',\n",
       " 'nsa_field',\n",
       " 'nsa_run',\n",
       " 'nsa_camcol',\n",
       " 'nsa_version',\n",
       " 'nsa_nsaid',\n",
       " 'nsa_nsaid_v1b',\n",
       " 'nsa_z',\n",
       " 'nsa_zdist',\n",
       " 'nsa_sersic_absmag',\n",
       " 'nsa_elpetro_absmag',\n",
       " 'nsa_elpetro_amivar',\n",
       " 'nsa_sersic_mass',\n",
       " 'nsa_elpetro_mass',\n",
       " 'nsa_elpetro_ba',\n",
       " 'nsa_elpetro_phi',\n",
       " 'nsa_extinction',\n",
       " 'nsa_elpetro_th50_r',\n",
       " 'nsa_petro_th50',\n",
       " 'nsa_petro_flux',\n",
       " 'nsa_petro_flux_ivar',\n",
       " 'nsa_elpetro_flux',\n",
       " 'nsa_elpetro_flux_ivar',\n",
       " 'nsa_sersic_ba',\n",
       " 'nsa_sersic_n',\n",
       " 'nsa_sersic_phi',\n",
       " 'nsa_sersic_th50',\n",
       " 'nsa_sersic_flux',\n",
       " 'nsa_sersic_flux_ivar']"
      ]
     },
     "execution_count": 9,
     "metadata": {},
     "output_type": "execute_result"
    }
   ],
   "source": [
    "general_data.colnames"
   ]
  },
  {
   "cell_type": "code",
   "execution_count": 10,
   "metadata": {},
   "outputs": [
    {
     "data": {
      "text/plain": [
       "-20.2458"
      ]
     },
     "execution_count": 10,
     "metadata": {},
     "output_type": "execute_result"
    }
   ],
   "source": [
    "general_data['nsa_elpetro_th50_r']\n",
    "\n",
    "general_data['plateifu']\n",
    "\n",
    "general_data['nsa_elpetro_absmag'][10][4]"
   ]
  },
  {
   "cell_type": "markdown",
   "metadata": {},
   "source": [
    "# Mask \"bad\" data"
   ]
  },
  {
   "cell_type": "markdown",
   "metadata": {},
   "source": [
    "H$\\alpha$ velocity map"
   ]
  },
  {
   "cell_type": "code",
   "execution_count": 11,
   "metadata": {},
   "outputs": [],
   "source": [
    "if dr <= 16:\n",
    "    mHa_vel = ma.array(Ha_vel, mask=galaxy_data[Ha_mask_extension].data[18] > 0)\n",
    "else: # dr >= 17\n",
    "    mHa_vel = ma.array(Ha_vel, mask=galaxy_data[Ha_mask_extension].data[23] > 0)\n",
    "\n",
    "Ha_vel_max = np.max(np.abs(mHa_vel))"
   ]
  },
  {
   "cell_type": "markdown",
   "metadata": {},
   "source": [
    "DAP stellar velocity map"
   ]
  },
  {
   "cell_type": "code",
   "execution_count": 12,
   "metadata": {},
   "outputs": [],
   "source": [
    "mStar_vel = ma.array(star_vel, mask=galaxy_data[star_vel_mask_extension].data > 0)\n",
    "\n",
    "star_vel_max = np.max(np.abs(mStar_vel))"
   ]
  },
  {
   "cell_type": "markdown",
   "metadata": {},
   "source": [
    "DAP stellar velocity dispersion map"
   ]
  },
  {
   "cell_type": "code",
   "execution_count": 30,
   "metadata": {},
   "outputs": [],
   "source": [
    "mStar_sigma = ma.array(star_sigma, mask=galaxy_data[star_sigma_mask_extension].data > 0)\n",
    "\n",
    "mStar_sigma = ma.masked_invalid(mStar_sigma)"
   ]
  },
  {
   "cell_type": "code",
   "execution_count": 31,
   "metadata": {},
   "outputs": [],
   "source": [
    "mr_band = ma.masked_equal(r_band, 0)"
   ]
  },
  {
   "cell_type": "markdown",
   "metadata": {},
   "source": [
    "# Plot velocity map"
   ]
  },
  {
   "cell_type": "code",
   "execution_count": 36,
   "metadata": {},
   "outputs": [
    {
     "data": {
      "image/png": "[encoded data removed]",
      "text/plain": [
       "<Figure size 720x288 with 4 Axes>"
      ]
     },
     "metadata": {},
     "output_type": "display_data"
    }
   ],
   "source": [
    "plt.figure(figsize=(10,4), tight_layout=True)\n",
    "\n",
    "plt.subplot(121)\n",
    "plt.title(r'H$\\alpha$ velocity map')\n",
    "plt.imshow(mHa_vel, cmap='RdBu_r', origin='lower')\n",
    "cbar1 = plt.colorbar()\n",
    "plt.clim(-Ha_vel_max, Ha_vel_max)\n",
    "cbar1.ax.set_ylabel(r'H$\\alpha$ velocity [km/s]')\n",
    "plt.xlabel('spaxel')\n",
    "plt.ylabel('spaxel')\n",
    "\n",
    "plt.subplot(122)\n",
    "plt.title('Stellar velocity map')\n",
    "plt.imshow(mStar_vel, cmap='RdBu', origin='lower')\n",
    "cbar2 = plt.colorbar()\n",
    "plt.clim(-star_vel_max, star_vel_max)\n",
    "cbar2.ax.set_ylabel(r'$v_*$ [km/s]')\n",
    "plt.xlabel('spaxel')\n",
    "plt.ylabel('spaxel');"
   ]
  },
  {
   "cell_type": "markdown",
   "metadata": {},
   "source": [
    "# Velocity dispersion"
   ]
  },
  {
   "cell_type": "code",
   "execution_count": 38,
   "metadata": {},
   "outputs": [
    {
     "name": "stderr",
     "output_type": "stream",
     "text": [
      "/software/python3/3.6.5/lib/python3.6/site-packages/numpy/lib/histograms.py:839: RuntimeWarning: invalid value encountered in greater_equal\n",
      "  keep = (tmp_a >= first_edge)\n",
      "/software/python3/3.6.5/lib/python3.6/site-packages/numpy/lib/histograms.py:840: RuntimeWarning: invalid value encountered in less_equal\n",
      "  keep &= (tmp_a <= last_edge)\n"
     ]
    },
    {
     "data": {
      "image/png": "[encoded data removed]",
      "text/plain": [
       "<Figure size 864x288 with 4 Axes>"
      ]
     },
     "metadata": {},
     "output_type": "display_data"
    }
   ],
   "source": [
    "plt.figure(figsize=(12,4), tight_layout=True)\n",
    "\n",
    "plt.subplot(131)\n",
    "plt.title(r'Distribution of $v^2$ in H$\\alpha$')\n",
    "plt.hist(mHa_vel.flatten()**2, bins=50)\n",
    "plt.xlabel(r'H$\\alpha$ 6564 Gaussian velocity [km/s]')\n",
    "\n",
    "plt.subplot(132)\n",
    "plt.title('Stellar velocity dispersion map')\n",
    "plt.imshow(mStar_sigma, origin='lower')\n",
    "cbar = plt.colorbar()\n",
    "cbar.ax.set_ylabel(r'$\\sigma_*$ [km/s]')\n",
    "plt.xlabel('spaxel')\n",
    "plt.ylabel('spaxel')\n",
    "\n",
    "plt.subplot(133)\n",
    "plt.title(r'Distribution of $\\sigma_*$')\n",
    "plt.hist(mStar_sigma.flatten(), bins=50)\n",
    "plt.xlabel(r'$\\sigma_*$ [km/s]');"
   ]
  },
  {
   "cell_type": "markdown",
   "metadata": {},
   "source": [
    "Segev recommends that we use the median of the stellar velocity dispersion distribution for our mass calculations."
   ]
  },
  {
   "cell_type": "code",
   "execution_count": 39,
   "metadata": {},
   "outputs": [
    {
     "data": {
      "text/plain": [
       "125164.7281553398"
      ]
     },
     "execution_count": 39,
     "metadata": {},
     "output_type": "execute_result"
    }
   ],
   "source": [
    "sigma_Ha = np.mean(mHa_vel*mHa_vel)\n",
    "\n",
    "sigma_Ha"
   ]
  },
  {
   "cell_type": "code",
   "execution_count": 40,
   "metadata": {},
   "outputs": [
    {
     "data": {
      "text/plain": [
       "53.214664"
      ]
     },
     "execution_count": 40,
     "metadata": {},
     "output_type": "execute_result"
    }
   ],
   "source": [
    "avg_star_sigma = np.nanmean(mStar_sigma)\n",
    "\n",
    "median_star_sigma = ma.median(mStar_sigma)\n",
    "\n",
    "# Convert from km/s to m/s\n",
    "median_star_sigma_mpers = median_star_sigma*1000\n",
    "\n",
    "median_star_sigma"
   ]
  },
  {
   "cell_type": "markdown",
   "metadata": {},
   "source": [
    "I should check this velocity dispersion against the Faber-Jackson relation.\n",
    "\n",
    "For this galaxy, according to Figure 9 of Aguerri12, the median $\\sigma_0$ is closer to the expected value for the velocity dispersion for a galaxy with this stellar mass than the central $\\sigma_0$.\n",
    "\n",
    "##### What if we use the velocity dispersion at the center of the galaxy?"
   ]
  },
  {
   "cell_type": "code",
   "execution_count": 41,
   "metadata": {},
   "outputs": [
    {
     "data": {
      "text/plain": [
       "48.825554"
      ]
     },
     "execution_count": 41,
     "metadata": {},
     "output_type": "execute_result"
    }
   ],
   "source": [
    "# Center of galaxy is defined as the spaxel with the maximum luminosity\n",
    "center_spaxel = np.unravel_index(ma.argmax(mr_band, axis=None), mr_band.shape)\n",
    "\n",
    "center_star_sigma = mStar_sigma[center_spaxel]\n",
    "\n",
    "# Convert from km/s to m/s\n",
    "center_star_sigma_mpers = center_star_sigma*1000\n",
    "\n",
    "center_star_sigma"
   ]
  },
  {
   "cell_type": "markdown",
   "metadata": {},
   "source": [
    "# Mass distribution"
   ]
  },
  {
   "cell_type": "code",
   "execution_count": 42,
   "metadata": {},
   "outputs": [
    {
     "data": {
      "image/png": "[encoded data removed]",
      "text/plain": [
       "<Figure size 1296x360 with 2 Axes>"
      ]
     },
     "metadata": {},
     "output_type": "display_data"
    }
   ],
   "source": [
    "plt.figure(figsize=(18,5))\n",
    "\n",
    "plt.subplot(131)\n",
    "plt.title('Mean r-band image')\n",
    "plt.imshow(mr_band, origin='lower')\n",
    "cbar1 = plt.colorbar()\n",
    "cbar1.ax.set_ylabel(r'Average r-band flux [10$^{-17}$ erg/s/cm$^2$]')\n",
    "'''\n",
    "plt.subplot(132)\n",
    "plt.title('Pipe3d stellar mass density')\n",
    "plt.imshow(sMass_density)\n",
    "cbar2 = plt.colorbar()\n",
    "cbar2.ax.set_ylabel(r'Stellar mass density [log($M_\\odot$)]')\n",
    "\n",
    "plt.subplot(133)\n",
    "plt.title('Pipe3d stellar mass-to-light ratio')\n",
    "plt.imshow(MtoL)\n",
    "cbar3 = plt.colorbar()\n",
    "cbar3.ax.set_ylabel(r'M/L [log($M_\\odot$/$L_\\odot$)]')\n",
    "''';"
   ]
  },
  {
   "cell_type": "markdown",
   "metadata": {},
   "source": [
    "# Galaxy mass\n",
    "\n",
    "We can use the virial theorem to calculate the total mass in an elliptical galaxy, since it is primarily supported by the stars' pressure rather than rotation.\n",
    "\n",
    "\\begin{equation}\n",
    "  M \\approx 2.5 \\frac{\\left< v^2 \\right> r_h}{G} \\approx 7.5 \\frac{\\sigma^2 r_h}{G}\n",
    "\\end{equation}\n",
    "\n",
    "(Eqn. 20.17 from *Foundations of Astrophysics* by Ryden & Peterson) where $r_h$ is the half-light radius (really, the half-mass radius, but we cannot measure this).\n",
    "\n",
    "So, first, we need to find $r_h$, presumably from the r-band image."
   ]
  },
  {
   "cell_type": "markdown",
   "metadata": {},
   "source": [
    "The total flux from the galaxy is not necessarily contained within the MaNGA footprint.  Ideally, then, we should use a total flux value from the legacy SDSS.  Then, we count out in consecutive annuli (using the NSA b/a, phi angles to start) until we reach 50% of this flux.  The resulting annulus is our $r_h$."
   ]
  },
  {
   "cell_type": "markdown",
   "metadata": {},
   "source": [
    "I have the 'NSA_index' in the master file, so I should be able to quickly extract other parameters from the NSA as needed.  At the moment, quantities that the NSA has that we might need for this analysis are:\n",
    "* SERSICFLUX or nsa_sersic_flux - the 2D Sersic fit flux in FNugriz\n",
    "* SERSIC_N or nsa_sersic_n - the 2D Sersic index\n",
    "* SERSIC_BA or nsa_sersic_ba - the b/a axis ratio (already using)\n",
    "* SERSIC_PHI or nsa_sersic_phi - the angle (E of N) of the major axis (already using)\n",
    "* SERSIC_TH50 or nsa_sersic_th50 [arcsec] - 50% light radius along major axis from Sersic 2D fit\n",
    "\n",
    "Or, we use the circular Petrosian fits:\n",
    "* PETROTH50 or nsa_petro_th50 [arcsec] - 50% light radius from Petrosian fit\n",
    "\n",
    "Or the **elliptical Petrosian** fits:\n",
    "* **nsa_elpetro_th50_r**\n",
    "* nsa_elpetro_ba\n",
    "* nsa_elpetro_phi"
   ]
  },
  {
   "cell_type": "markdown",
   "metadata": {},
   "source": [
    "## Locate galaxy in DRP table"
   ]
  },
  {
   "cell_type": "code",
   "execution_count": 43,
   "metadata": {},
   "outputs": [],
   "source": [
    "gal_idx = general_data['plateifu'] == galaxy_ID"
   ]
  },
  {
   "cell_type": "code",
   "execution_count": 44,
   "metadata": {},
   "outputs": [
    {
     "data": {
      "text/html": [
       "&lt;Column name=&apos;mangaid&apos; dtype=&apos;str32&apos; length=1&gt;\n",
       "<table>\n",
       "<tr><td>12-49536</td></tr>\n",
       "</table>"
      ],
      "text/plain": [
       "<Column name='mangaid' dtype='str32' length=1>\n",
       "12-49536"
      ]
     },
     "execution_count": 44,
     "metadata": {},
     "output_type": "execute_result"
    }
   ],
   "source": [
    "general_data['mangaid'][gal_idx]"
   ]
  },
  {
   "cell_type": "code",
   "execution_count": 46,
   "metadata": {},
   "outputs": [],
   "source": [
    "Mstar = general_data['nsa_elpetro_mass'][gal_idx] # Solar masses\n",
    "z = general_data['z'][gal_idx]\n",
    "r_half = general_data['nsa_elpetro_th50_r'][gal_idx] # arcsec\n",
    "\n",
    "# Convert arcsec to kpc\n",
    "r_half_kpc = (1000*c*z/H0)*np.tan(r_half*np.pi/(60*60*180))\n",
    "\n",
    "# Convert kpc to m\n",
    "r_half_m = 3.0857e19*r_half_kpc"
   ]
  },
  {
   "cell_type": "markdown",
   "metadata": {},
   "source": [
    "## Calculate mass"
   ]
  },
  {
   "cell_type": "code",
   "execution_count": 47,
   "metadata": {},
   "outputs": [],
   "source": [
    "def virial_mass(star_sigma, r_half):\n",
    "    '''\n",
    "    Calculate the virial mass of a galaxy\n",
    "    \n",
    "    PARAMETERS\n",
    "    ==========\n",
    "    \n",
    "    star_sigma : float or numpy array\n",
    "        Stellar velocity dispersion in m/s\n",
    "        \n",
    "    r_half : float or numpy array\n",
    "        Half-light radius in m\n",
    "        \n",
    "    \n",
    "    RETURNS\n",
    "    =======\n",
    "    \n",
    "    Mvir_Msun : float or numpy array\n",
    "        Virial mass in solar masses\n",
    "    '''\n",
    "    \n",
    "    # Virial mass (in kg)\n",
    "    Mvir = 7.5*star_sigma*star_sigma*r_half/G\n",
    "    \n",
    "    # Convert kg to Msun\n",
    "    Mvir_Msun = Mvir/Msun\n",
    "    \n",
    "    return Mvir_Msun"
   ]
  },
  {
   "cell_type": "markdown",
   "metadata": {},
   "source": [
    "#### Using median velocity dispersion"
   ]
  },
  {
   "cell_type": "code",
   "execution_count": 48,
   "metadata": {},
   "outputs": [],
   "source": [
    "Mtot_Msun_median = virial_mass(median_star_sigma_mpers, r_half_m)\n",
    "\n",
    "Mdark_median = Mtot_Msun_median - Mstar"
   ]
  },
  {
   "cell_type": "markdown",
   "metadata": {},
   "source": [
    "#### Using central velocity dispersion"
   ]
  },
  {
   "cell_type": "code",
   "execution_count": 49,
   "metadata": {},
   "outputs": [],
   "source": [
    "Mtot_Msun_center = virial_mass(center_star_sigma_mpers, r_half_m)\n",
    "\n",
    "Mdark_center = Mtot_Msun_center - Mstar"
   ]
  },
  {
   "cell_type": "markdown",
   "metadata": {},
   "source": [
    "# Mass ratio"
   ]
  },
  {
   "cell_type": "code",
   "execution_count": 50,
   "metadata": {},
   "outputs": [
    {
     "data": {
      "text/html": [
       "&lt;Column name=&apos;z&apos; dtype=&apos;float64&apos; length=1&gt;\n",
       "<table>\n",
       "<tr><td>1.3995961610558103</td></tr>\n",
       "</table>"
      ],
      "text/plain": [
       "<Column name='z' dtype='float64' length=1>\n",
       "1.3995961610558103"
      ]
     },
     "execution_count": 50,
     "metadata": {},
     "output_type": "execute_result"
    }
   ],
   "source": [
    "MassRatio_median = Mdark_median/Mstar\n",
    "\n",
    "MassRatio_median"
   ]
  },
  {
   "cell_type": "code",
   "execution_count": 51,
   "metadata": {},
   "outputs": [
    {
     "data": {
      "text/html": [
       "&lt;Column name=&apos;z&apos; dtype=&apos;float64&apos; length=1&gt;\n",
       "<table>\n",
       "<tr><td>1.0200860047799283</td></tr>\n",
       "</table>"
      ],
      "text/plain": [
       "<Column name='z' dtype='float64' length=1>\n",
       "1.0200860047799283"
      ]
     },
     "execution_count": 51,
     "metadata": {},
     "output_type": "execute_result"
    }
   ],
   "source": [
    "MassRatio_center = Mdark_center/Mstar\n",
    "\n",
    "MassRatio_center"
   ]
  },
  {
   "cell_type": "code",
   "execution_count": 52,
   "metadata": {},
   "outputs": [
    {
     "data": {
      "text/html": [
       "&lt;Column name=&apos;nsa_elpetro_mass&apos; dtype=&apos;float64&apos; length=1&gt;\n",
       "<table>\n",
       "<tr><td>9.509327548874019</td></tr>\n",
       "</table>"
      ],
      "text/plain": [
       "<Column name='nsa_elpetro_mass' dtype='float64' length=1>\n",
       "9.509327548874019"
      ]
     },
     "execution_count": 52,
     "metadata": {},
     "output_type": "execute_result"
    }
   ],
   "source": [
    "np.log10(Mstar)"
   ]
  },
  {
   "cell_type": "code",
   "execution_count": 53,
   "metadata": {},
   "outputs": [
    {
     "data": {
      "text/plain": [
       "1.7260313"
      ]
     },
     "execution_count": 53,
     "metadata": {},
     "output_type": "execute_result"
    }
   ],
   "source": [
    "np.log10(median_star_sigma)"
   ]
  },
  {
   "cell_type": "code",
   "execution_count": null,
   "metadata": {},
   "outputs": [],
   "source": []
  }
 ],
 "metadata": {
  "kernelspec": {
   "display_name": "Python 3 (3.6.5)",
   "language": "python",
   "name": "python3"
  },
  "language_info": {
   "codemirror_mode": {
    "name": "ipython",
    "version": 3
   },
   "file_extension": ".py",
   "mimetype": "text/x-python",
   "name": "python",
   "nbconvert_exporter": "python",
   "pygments_lexer": "ipython3",
   "version": "3.6.5"
  }
 },
 "nbformat": 4,
 "nbformat_minor": 4
}

{
 "cells": [
  {
   "cell_type": "code",
   "execution_count": 6,
   "metadata": {},
   "outputs": [],
   "source": [
    "from astropy.io import fits\n",
    "from astropy.table import Table\n",
    "\n",
    "import numpy as np\n",
    "import numpy.ma as ma\n",
    "\n",
    "import matplotlib.pyplot as plt"
   ]
  },
  {
   "cell_type": "code",
   "execution_count": 7,
   "metadata": {},
   "outputs": [],
   "source": [
    "G = 6.674e-11 # m^3 kg^-1 s^-2\n",
    "c = 3e5 # km/s\n",
    "Msun = 1.989e30 # kg\n",
    "\n",
    "h = 1\n",
    "H0 = 100*h # km/s/Mpc"
   ]
  },
  {
   "cell_type": "markdown",
   "metadata": {},
   "source": [
    "# Import galaxy data"
   ]
  },
  {
   "cell_type": "code",
   "execution_count": 8,
   "metadata": {},
   "outputs": [],
   "source": [
    "galaxy_ID = '9031-3701'\n",
    "\n",
    "plate, fiber = galaxy_ID.split('-')\n",
    "galaxy_data = fits.open('../data/MaNGA/MaNGA_DR16/HYB10-GAU-MILESHC/' + plate + '/manga-' \n",
    "                        + galaxy_ID + '-MAPS-HYB10-GAU-MILESHC.fits.gz')\n",
    "\n",
    "# Extract H-alpha velocity map (C19)\n",
    "Ha_vel = galaxy_data['EMLINE_GVEL'].data[18]\n",
    "\n",
    "# H-alpha mask extension\n",
    "Ha_mask_extension = galaxy_data['EMLINE_GVEL'].header['QUALDATA']\n",
    "\n",
    "# Extract stellar velocity map\n",
    "star_vel = galaxy_data['STELLAR_VEL'].data\n",
    "\n",
    "# Stellar velocity mask extension\n",
    "star_vel_mask_extension = galaxy_data['STELLAR_VEL'].header['QUALDATA']\n",
    "\n",
    "# Extract (and correct for instrumental resolution effects) stellar velocity dispersion map\n",
    "star_sigma = np.sqrt(galaxy_data['STELLAR_SIGMA'].data**2 \n",
    "                     - galaxy_data['STELLAR_SIGMACORR'].data**2)\n",
    "# See https://www.sdss.org/dr16/manga/manga-data/working-with-manga-data/ for correction \n",
    "# details\n",
    "\n",
    "# Stellar velocity dispersion mask extension\n",
    "star_sigma_mask_extension = galaxy_data['STELLAR_SIGMA'].header['QUALDATA']\n",
    "\n",
    "# Extract stellar mass density map\n",
    "#sMass_density = galaxy_data[1].data[19]\n",
    "\n",
    "# Extract average mass-to-light ratio map\n",
    "#MtoL = galaxy_data[1].data[17]\n",
    "\n",
    "# Extract average r-band image\n",
    "r_band = galaxy_data['SPX_MFLUX'].data"
   ]
  },
  {
   "cell_type": "code",
   "execution_count": 9,
   "metadata": {},
   "outputs": [],
   "source": [
    "'''\n",
    "master_filename = '../master_file.txt'\n",
    "\n",
    "general_data = Table.read(master_filename, format='ascii.ecsv')\n",
    "'''\n",
    "\n",
    "drp_filename = '../data/MaNGA/drpall-v2_4_3.fits'\n",
    "\n",
    "general_data = fits.open(drp_filename)"
   ]
  },
  {
   "cell_type": "code",
   "execution_count": 24,
   "metadata": {},
   "outputs": [
    {
     "data": {
      "text/plain": [
       "XTENSION= 'BINTABLE'           / binary table extension                         \n",
       "BITPIX  =                    8 / array data type                                \n",
       "NAXIS   =                    2 / number of array dimensions                     \n",
       "NAXIS1  =                 1340 / length of dimension 1                          \n",
       "NAXIS2  =                11465 / length of dimension 2                          \n",
       "PCOUNT  =                    0 / number of group parameters                     \n",
       "GCOUNT  =                    1 / number of groups                               \n",
       "TFIELDS =                   99 / number of table fields                         \n",
       "TTYPE1  = 'plate   '                                                            \n",
       "TFORM1  = 'K       '                                                            \n",
       "TTYPE2  = 'ifudsgn '                                                            \n",
       "TFORM2  = '21A     '                                                            \n",
       "TTYPE3  = 'plateifu'                                                            \n",
       "TFORM3  = '11A     '                                                            \n",
       "TTYPE4  = 'mangaid '                                                            \n",
       "TFORM4  = '11A     '                                                            \n",
       "TTYPE5  = 'versdrp2'                                                            \n",
       "TFORM5  = '6A      '                                                            \n",
       "TTYPE6  = 'versdrp3'                                                            \n",
       "TFORM6  = '6A      '                                                            \n",
       "TTYPE7  = 'verscore'                                                            \n",
       "TFORM7  = '6A      '                                                            \n",
       "TTYPE8  = 'versutil'                                                            \n",
       "TFORM8  = '7A      '                                                            \n",
       "TTYPE9  = 'versprim'                                                            \n",
       "TFORM9  = '4A      '                                                            \n",
       "TTYPE10 = 'platetyp'                                                            \n",
       "TFORM10 = '14A     '                                                            \n",
       "TTYPE11 = 'srvymode'                                                            \n",
       "TFORM11 = '12A     '                                                            \n",
       "TTYPE12 = 'objra   '                                                            \n",
       "TFORM12 = 'D       '                                                            \n",
       "TTYPE13 = 'objdec  '                                                            \n",
       "TFORM13 = 'D       '                                                            \n",
       "TTYPE14 = 'ifuglon '                                                            \n",
       "TFORM14 = 'D       '                                                            \n",
       "TTYPE15 = 'ifuglat '                                                            \n",
       "TFORM15 = 'D       '                                                            \n",
       "TTYPE16 = 'ifura   '                                                            \n",
       "TFORM16 = 'D       '                                                            \n",
       "TTYPE17 = 'ifudec  '                                                            \n",
       "TFORM17 = 'D       '                                                            \n",
       "TTYPE18 = 'ebvgal  '                                                            \n",
       "TFORM18 = 'D       '                                                            \n",
       "TTYPE19 = 'nexp    '                                                            \n",
       "TFORM19 = 'K       '                                                            \n",
       "TTYPE20 = 'exptime '                                                            \n",
       "TFORM20 = 'D       '                                                            \n",
       "TTYPE21 = 'drp3qual'                                                            \n",
       "TFORM21 = 'K       '                                                            \n",
       "TTYPE22 = 'bluesn2 '                                                            \n",
       "TFORM22 = 'D       '                                                            \n",
       "TTYPE23 = 'redsn2  '                                                            \n",
       "TFORM23 = 'D       '                                                            \n",
       "TTYPE24 = 'harname '                                                            \n",
       "TFORM24 = '35A     '                                                            \n",
       "TTYPE25 = 'frlplug '                                                            \n",
       "TFORM25 = 'K       '                                                            \n",
       "TTYPE26 = 'cartid  '                                                            \n",
       "TFORM26 = '11A     '                                                            \n",
       "TTYPE27 = 'designid'                                                            \n",
       "TFORM27 = 'K       '                                                            \n",
       "TTYPE28 = 'cenra   '                                                            \n",
       "TFORM28 = 'D       '                                                            \n",
       "TTYPE29 = 'cendec  '                                                            \n",
       "TFORM29 = 'D       '                                                            \n",
       "TTYPE30 = 'airmsmin'                                                            \n",
       "TFORM30 = 'D       '                                                            \n",
       "TTYPE31 = 'airmsmed'                                                            \n",
       "TFORM31 = 'D       '                                                            \n",
       "TTYPE32 = 'airmsmax'                                                            \n",
       "TFORM32 = 'D       '                                                            \n",
       "TTYPE33 = 'seemin  '                                                            \n",
       "TFORM33 = 'D       '                                                            \n",
       "TTYPE34 = 'seemed  '                                                            \n",
       "TFORM34 = 'D       '                                                            \n",
       "TTYPE35 = 'seemax  '                                                            \n",
       "TFORM35 = 'D       '                                                            \n",
       "TTYPE36 = 'transmin'                                                            \n",
       "TFORM36 = 'D       '                                                            \n",
       "TTYPE37 = 'transmed'                                                            \n",
       "TFORM37 = 'D       '                                                            \n",
       "TTYPE38 = 'transmax'                                                            \n",
       "TFORM38 = 'D       '                                                            \n",
       "TTYPE39 = 'mjdmin  '                                                            \n",
       "TFORM39 = 'K       '                                                            \n",
       "TTYPE40 = 'mjdmed  '                                                            \n",
       "TFORM40 = 'K       '                                                            \n",
       "TTYPE41 = 'mjdmax  '                                                            \n",
       "TFORM41 = 'K       '                                                            \n",
       "TTYPE42 = 'gfwhm   '                                                            \n",
       "TFORM42 = 'D       '                                                            \n",
       "TTYPE43 = 'rfwhm   '                                                            \n",
       "TFORM43 = 'D       '                                                            \n",
       "TTYPE44 = 'ifwhm   '                                                            \n",
       "TFORM44 = 'D       '                                                            \n",
       "TTYPE45 = 'zfwhm   '                                                            \n",
       "TFORM45 = 'D       '                                                            \n",
       "TTYPE46 = 'mngtarg1'                                                            \n",
       "TFORM46 = 'K       '                                                            \n",
       "TTYPE47 = 'mngtarg2'                                                            \n",
       "TFORM47 = 'K       '                                                            \n",
       "TTYPE48 = 'mngtarg3'                                                            \n",
       "TFORM48 = 'K       '                                                            \n",
       "TTYPE49 = 'catidnum'                                                            \n",
       "TFORM49 = 'K       '                                                            \n",
       "TTYPE50 = 'plttarg '                                                            \n",
       "TFORM50 = '19A     '                                                            \n",
       "TTYPE51 = 'manga_tileid'                                                        \n",
       "TFORM51 = 'K       '                                                            \n",
       "TTYPE52 = 'nsa_iauname'                                                         \n",
       "TFORM52 = '19A     '                                                            \n",
       "TTYPE53 = 'ifudesignsize'                                                       \n",
       "TFORM53 = 'K       '                                                            \n",
       "TTYPE54 = 'ifutargetsize'                                                       \n",
       "TFORM54 = 'K       '                                                            \n",
       "TTYPE55 = 'ifudesignwrongsize'                                                  \n",
       "TFORM55 = 'K       '                                                            \n",
       "TTYPE56 = 'z       '                                                            \n",
       "TFORM56 = 'D       '                                                            \n",
       "TTYPE57 = 'zmin    '                                                            \n",
       "TFORM57 = 'D       '                                                            \n",
       "TTYPE58 = 'zmax    '                                                            \n",
       "TFORM58 = 'D       '                                                            \n",
       "TTYPE59 = 'szmin   '                                                            \n",
       "TFORM59 = 'D       '                                                            \n",
       "TTYPE60 = 'szmax   '                                                            \n",
       "TFORM60 = 'D       '                                                            \n",
       "TTYPE61 = 'ezmin   '                                                            \n",
       "TFORM61 = 'D       '                                                            \n",
       "TTYPE62 = 'ezmax   '                                                            \n",
       "TFORM62 = 'D       '                                                            \n",
       "TTYPE63 = 'probs   '                                                            \n",
       "TFORM63 = 'D       '                                                            \n",
       "TTYPE64 = 'pweight '                                                            \n",
       "TFORM64 = 'D       '                                                            \n",
       "TTYPE65 = 'psweight'                                                            \n",
       "TFORM65 = 'D       '                                                            \n",
       "TTYPE66 = 'psrweight'                                                           \n",
       "TFORM66 = 'D       '                                                            \n",
       "TTYPE67 = 'sweight '                                                            \n",
       "TFORM67 = 'D       '                                                            \n",
       "TTYPE68 = 'srweight'                                                            \n",
       "TFORM68 = 'D       '                                                            \n",
       "TTYPE69 = 'eweight '                                                            \n",
       "TFORM69 = 'D       '                                                            \n",
       "TTYPE70 = 'esweight'                                                            \n",
       "TFORM70 = 'D       '                                                            \n",
       "TTYPE71 = 'esrweight'                                                           \n",
       "TFORM71 = 'D       '                                                            \n",
       "TTYPE72 = 'nsa_field'                                                           \n",
       "TFORM72 = 'K       '                                                            \n",
       "TTYPE73 = 'nsa_run '                                                            \n",
       "TFORM73 = 'K       '                                                            \n",
       "TTYPE74 = 'nsa_camcol'                                                          \n",
       "TFORM74 = 'K       '                                                            \n",
       "TTYPE75 = 'nsa_version'                                                         \n",
       "TFORM75 = '6A      '                                                            \n",
       "TTYPE76 = 'nsa_nsaid'                                                           \n",
       "TFORM76 = 'K       '                                                            \n",
       "TTYPE77 = 'nsa_nsaid_v1b'                                                       \n",
       "TFORM77 = 'K       '                                                            \n",
       "TTYPE78 = 'nsa_z   '                                                            \n",
       "TFORM78 = 'D       '                                                            \n",
       "TTYPE79 = 'nsa_zdist'                                                           \n",
       "TFORM79 = 'D       '                                                            \n",
       "TTYPE80 = 'nsa_sersic_absmag'                                                   \n",
       "TFORM80 = '7D      '                                                            \n",
       "TTYPE81 = 'nsa_elpetro_absmag'                                                  \n",
       "TFORM81 = '7D      '                                                            \n",
       "TTYPE82 = 'nsa_elpetro_amivar'                                                  \n",
       "TFORM82 = '7D      '                                                            \n",
       "TTYPE83 = 'nsa_sersic_mass'                                                     \n",
       "TFORM83 = 'D       '                                                            \n",
       "TTYPE84 = 'nsa_elpetro_mass'                                                    \n",
       "TFORM84 = 'D       '                                                            \n",
       "TTYPE85 = 'nsa_elpetro_ba'                                                      \n",
       "TFORM85 = 'D       '                                                            \n",
       "TTYPE86 = 'nsa_elpetro_phi'                                                     \n",
       "TFORM86 = 'D       '                                                            \n",
       "TTYPE87 = 'nsa_extinction'                                                      \n",
       "TFORM87 = '7D      '                                                            \n",
       "TTYPE88 = 'nsa_elpetro_th50_r'                                                  \n",
       "TFORM88 = 'D       '                                                            \n",
       "TTYPE89 = 'nsa_petro_th50'                                                      \n",
       "TFORM89 = 'D       '                                                            \n",
       "TTYPE90 = 'nsa_petro_flux'                                                      \n",
       "TFORM90 = '7D      '                                                            \n",
       "TTYPE91 = 'nsa_petro_flux_ivar'                                                 \n",
       "TFORM91 = '7D      '                                                            \n",
       "TTYPE92 = 'nsa_elpetro_flux'                                                    \n",
       "TFORM92 = '7D      '                                                            \n",
       "TTYPE93 = 'nsa_elpetro_flux_ivar'                                               \n",
       "TFORM93 = '7D      '                                                            \n",
       "TTYPE94 = 'nsa_sersic_ba'                                                       \n",
       "TFORM94 = 'D       '                                                            \n",
       "TTYPE95 = 'nsa_sersic_n'                                                        \n",
       "TFORM95 = 'D       '                                                            \n",
       "TTYPE96 = 'nsa_sersic_phi'                                                      \n",
       "TFORM96 = 'D       '                                                            \n",
       "TTYPE97 = 'nsa_sersic_th50'                                                     \n",
       "TFORM97 = 'D       '                                                            \n",
       "TTYPE98 = 'nsa_sersic_flux'                                                     \n",
       "TFORM98 = '7D      '                                                            \n",
       "TTYPE99 = 'nsa_sersic_flux_ivar'                                                \n",
       "TFORM99 = '7D      '                                                            \n",
       "CHECKSUM= 'Ci86Fi54Ci54Ci54'   / HDU checksum updated 2018-03-24T22:06:55       \n",
       "DATASUM = '3521176918'         / data unit checksum updated 2018-03-24T22:06:55 "
      ]
     },
     "execution_count": 24,
     "metadata": {},
     "output_type": "execute_result"
    }
   ],
   "source": [
    "general_data[1].header"
   ]
  },
  {
   "cell_type": "code",
   "execution_count": 20,
   "metadata": {},
   "outputs": [
    {
     "data": {
      "text/plain": [
       "chararray(['8935-12701', '9118-12701', '7977-12701', ..., '8719-9102',\n",
       "           '8718-9102', '9288-9102'], dtype='<U11')"
      ]
     },
     "execution_count": 20,
     "metadata": {},
     "output_type": "execute_result"
    }
   ],
   "source": [
    "general_data[1].data['nsa_elpetro_th50_r']\n",
    "\n",
    "general_data[1].data['plateifu']\n",
    "\n",
    "#general_data[1].data['nsa_elpetro_absmag'][4]"
   ]
  },
  {
   "cell_type": "markdown",
   "metadata": {},
   "source": [
    "# Mask \"bad\" data"
   ]
  },
  {
   "cell_type": "markdown",
   "metadata": {},
   "source": [
    "H$\\alpha$ velocity map"
   ]
  },
  {
   "cell_type": "code",
   "execution_count": 10,
   "metadata": {},
   "outputs": [],
   "source": [
    "mHa_vel = ma.array(Ha_vel, mask=galaxy_data[Ha_mask_extension].data[18]>0)\n",
    "\n",
    "Ha_vel_max = np.max(np.abs(mHa_vel))"
   ]
  },
  {
   "cell_type": "markdown",
   "metadata": {},
   "source": [
    "DAP stellar velocity map"
   ]
  },
  {
   "cell_type": "code",
   "execution_count": 11,
   "metadata": {},
   "outputs": [],
   "source": [
    "mStar_vel = ma.array(star_vel, mask=galaxy_data[star_vel_mask_extension].data>0)\n",
    "\n",
    "star_vel_max = np.max(np.abs(mStar_vel))"
   ]
  },
  {
   "cell_type": "markdown",
   "metadata": {},
   "source": [
    "DAP stellar velocity dispersion map"
   ]
  },
  {
   "cell_type": "code",
   "execution_count": 12,
   "metadata": {},
   "outputs": [],
   "source": [
    "mStar_sigma = ma.array(star_sigma, mask=galaxy_data[star_sigma_mask_extension].data>0)\n",
    "\n",
    "mStar_sigma = ma.masked_invalid(mStar_sigma)"
   ]
  },
  {
   "cell_type": "code",
   "execution_count": 13,
   "metadata": {},
   "outputs": [],
   "source": [
    "mr_band = ma.masked_equal(r_band, 0)"
   ]
  },
  {
   "cell_type": "markdown",
   "metadata": {},
   "source": [
    "# Plot velocity map"
   ]
  },
  {
   "cell_type": "code",
   "execution_count": 14,
   "metadata": {},
   "outputs": [
    {
     "data": {
      "text/plain": [
       "Text(0, 0.5, '$v_*$ [km/s]')"
      ]
     },
     "execution_count": 14,
     "metadata": {},
     "output_type": "execute_result"
    },
    {
     "data": {
      "image/png": "[encoded data removed]",
      "text/plain": [
       "<Figure size 864x360 with 4 Axes>"
      ]
     },
     "metadata": {
      "needs_background": "light"
     },
     "output_type": "display_data"
    }
   ],
   "source": [
    "plt.figure(figsize=(12,5))\n",
    "\n",
    "plt.subplot(121)\n",
    "plt.title(r'H$\\alpha$ velocity map')\n",
    "plt.imshow(mHa_vel, cmap='RdBu_r', origin='lower')\n",
    "cbar1 = plt.colorbar()\n",
    "plt.clim(-Ha_vel_max, Ha_vel_max)\n",
    "cbar1.ax.set_ylabel(r'H$\\alpha$ velocity [km/s]')\n",
    "\n",
    "plt.subplot(122)\n",
    "plt.title('Stellar velocity map')\n",
    "plt.imshow(mStar_vel, cmap='RdBu', origin='lower')\n",
    "cbar2 = plt.colorbar()\n",
    "plt.clim(-star_vel_max, star_vel_max)\n",
    "cbar2.ax.set_ylabel(r'$v_*$ [km/s]')"
   ]
  },
  {
   "cell_type": "markdown",
   "metadata": {},
   "source": [
    "# Velocity dispersion"
   ]
  },
  {
   "cell_type": "code",
   "execution_count": 15,
   "metadata": {},
   "outputs": [
    {
     "data": {
      "text/plain": [
       "Text(0.5, 0, '$\\\\sigma_*$ [km/s]')"
      ]
     },
     "execution_count": 15,
     "metadata": {},
     "output_type": "execute_result"
    },
    {
     "data": {
      "image/png": "[encoded data removed]",
      "text/plain": [
       "<Figure size 1296x360 with 4 Axes>"
      ]
     },
     "metadata": {
      "needs_background": "light"
     },
     "output_type": "display_data"
    }
   ],
   "source": [
    "plt.figure(figsize=(18,5))\n",
    "\n",
    "plt.subplot(131)\n",
    "plt.title(r'Distribution of $v^2$ in H$\\alpha$')\n",
    "plt.hist(mHa_vel.flatten()**2, bins=50)\n",
    "plt.xlabel(r'H$\\alpha$ 6564 Gaussian velocity [km/s]')\n",
    "\n",
    "plt.subplot(132)\n",
    "plt.title('Stellar velocity dispersion map')\n",
    "plt.imshow(mStar_sigma, origin='lower')\n",
    "cbar = plt.colorbar()\n",
    "cbar.ax.set_ylabel(r'$\\sigma_*$ [km/s]')\n",
    "\n",
    "plt.subplot(133)\n",
    "plt.title(r'Distribution of $\\sigma_*$')\n",
    "plt.hist(mStar_sigma.flatten(), bins=50)\n",
    "plt.xlabel(r'$\\sigma_*$ [km/s]')"
   ]
  },
  {
   "cell_type": "markdown",
   "metadata": {},
   "source": [
    "Segev recommends that we use the median of the stellar velocity dispersion distribution for our mass calculations."
   ]
  },
  {
   "cell_type": "code",
   "execution_count": 16,
   "metadata": {},
   "outputs": [
    {
     "data": {
      "text/plain": [
       "59150.18579234973"
      ]
     },
     "execution_count": 16,
     "metadata": {},
     "output_type": "execute_result"
    }
   ],
   "source": [
    "sigma_Ha = np.mean(mHa_vel*mHa_vel)\n",
    "\n",
    "sigma_Ha"
   ]
  },
  {
   "cell_type": "code",
   "execution_count": 17,
   "metadata": {},
   "outputs": [
    {
     "data": {
      "text/plain": [
       "166.4339"
      ]
     },
     "execution_count": 17,
     "metadata": {},
     "output_type": "execute_result"
    }
   ],
   "source": [
    "avg_star_sigma = np.nanmean(mStar_sigma)\n",
    "\n",
    "median_star_sigma = ma.median(mStar_sigma)\n",
    "\n",
    "# Convert from km/s to m/s\n",
    "median_star_sigma_mpers = median_star_sigma*1000\n",
    "\n",
    "median_star_sigma"
   ]
  },
  {
   "cell_type": "markdown",
   "metadata": {},
   "source": [
    "I should check this velocity dispersion against the Faber-Jackson relation.\n",
    "\n",
    "For this galaxy, according to Figure 9 of Aguerri12, the median $\\sigma_0$ is closer to the expected value for the velocity dispersion for a galaxy with this stellar mass than the central $\\sigma_0$.\n",
    "\n",
    "##### What if we use the velocity dispersion at the center of the galaxy?"
   ]
  },
  {
   "cell_type": "code",
   "execution_count": 18,
   "metadata": {},
   "outputs": [
    {
     "data": {
      "text/plain": [
       "257.1611"
      ]
     },
     "execution_count": 18,
     "metadata": {},
     "output_type": "execute_result"
    }
   ],
   "source": [
    "# Center of galaxy is defined as the spaxel with the maximum luminosity\n",
    "center_spaxel = np.unravel_index(ma.argmax(mr_band, axis=None), mr_band.shape)\n",
    "\n",
    "center_star_sigma = mStar_sigma[center_spaxel]\n",
    "\n",
    "# Convert from km/s to m/s\n",
    "center_star_sigma_mpers = center_star_sigma*1000\n",
    "\n",
    "center_star_sigma"
   ]
  },
  {
   "cell_type": "markdown",
   "metadata": {},
   "source": [
    "# Mass distribution"
   ]
  },
  {
   "cell_type": "code",
   "execution_count": 19,
   "metadata": {},
   "outputs": [
    {
     "data": {
      "text/plain": [
       "\"\\nplt.subplot(132)\\nplt.title('Pipe3d stellar mass density')\\nplt.imshow(sMass_density)\\ncbar2 = plt.colorbar()\\ncbar2.ax.set_ylabel(r'Stellar mass density [log($M_\\\\odot$)]')\\n\\nplt.subplot(133)\\nplt.title('Pipe3d stellar mass-to-light ratio')\\nplt.imshow(MtoL)\\ncbar3 = plt.colorbar()\\ncbar3.ax.set_ylabel(r'M/L [log($M_\\\\odot$/$L_\\\\odot$)]')\\n\""
      ]
     },
     "execution_count": 19,
     "metadata": {},
     "output_type": "execute_result"
    },
    {
     "data": {
      "image/png": "[encoded data removed]",
      "text/plain": [
       "<Figure size 1296x360 with 2 Axes>"
      ]
     },
     "metadata": {
      "needs_background": "light"
     },
     "output_type": "display_data"
    }
   ],
   "source": [
    "plt.figure(figsize=(18,5))\n",
    "\n",
    "plt.subplot(131)\n",
    "plt.title('Mean r-band image')\n",
    "plt.imshow(mr_band, origin='lower')\n",
    "cbar1 = plt.colorbar()\n",
    "cbar1.ax.set_ylabel(r'Average r-band flux [10$^{-17}$ erg/s/cm$^2$]')\n",
    "'''\n",
    "plt.subplot(132)\n",
    "plt.title('Pipe3d stellar mass density')\n",
    "plt.imshow(sMass_density)\n",
    "cbar2 = plt.colorbar()\n",
    "cbar2.ax.set_ylabel(r'Stellar mass density [log($M_\\odot$)]')\n",
    "\n",
    "plt.subplot(133)\n",
    "plt.title('Pipe3d stellar mass-to-light ratio')\n",
    "plt.imshow(MtoL)\n",
    "cbar3 = plt.colorbar()\n",
    "cbar3.ax.set_ylabel(r'M/L [log($M_\\odot$/$L_\\odot$)]')\n",
    "'''"
   ]
  },
  {
   "cell_type": "markdown",
   "metadata": {},
   "source": [
    "# Galaxy mass\n",
    "\n",
    "We can use the virial theorem to calculate the total mass in an elliptical galaxy, since it is primarily supported by the stars' pressure rather than rotation.\n",
    "\n",
    "\\begin{equation}\n",
    "  M \\approx 2.5 \\frac{\\left< v^2 \\right> r_h}{G} \\approx 7.5 \\frac{\\sigma^2 r_h}{G}\n",
    "\\end{equation}\n",
    "\n",
    "(Eqn. 20.17 from *Foundations of Astrophysics* by Ryden & Peterson) where $r_h$ is the half-light radius (really, the half-mass radius, but we cannot measure this).\n",
    "\n",
    "So, first, we need to find $r_h$, presumably from the r-band image."
   ]
  },
  {
   "cell_type": "markdown",
   "metadata": {},
   "source": [
    "The total flux from the galaxy is not necessarily contained within the MaNGA footprint.  Ideally, then, we should use a total flux value from the legacy SDSS.  Then, we count out in consecutive annuli (using the NSA b/a, phi angles to start) until we reach 50% of this flux.  The resulting annulus is our $r_h$."
   ]
  },
  {
   "cell_type": "markdown",
   "metadata": {},
   "source": [
    "I have the 'NSA_index' in the master file, so I should be able to quickly extract other parameters from the NSA as needed.  At the moment, quantities that the NSA has that we might need for this analysis are:\n",
    "* SERSICFLUX or nsa_sersic_flux - the 2D Sersic fit flux in FNugriz\n",
    "* SERSIC_N or nsa_sersic_n - the 2D Sersic index\n",
    "* SERSIC_BA or nsa_sersic_ba - the b/a axis ratio (already using)\n",
    "* SERSIC_PHI or nsa_sersic_phi - the angle (E of N) of the major axis (already using)\n",
    "* SERSIC_TH50 or nsa_sersic_th50 [arcsec] - 50% light radius along major axis from Sersic 2D fit\n",
    "\n",
    "Or, we use the circular Petrosian fits:\n",
    "* PETROTH50 or nsa_petro_th50 [arcsec] - 50% light radius from Petrosian fit\n",
    "\n",
    "Or the **elliptical Petrosian** fits:\n",
    "* **nsa_elpetro_th50_r**\n",
    "* nsa_elpetro_ba\n",
    "* nsa_elpetro_phi"
   ]
  },
  {
   "cell_type": "markdown",
   "metadata": {},
   "source": [
    "## Locate galaxy in DRP table"
   ]
  },
  {
   "cell_type": "code",
   "execution_count": 18,
   "metadata": {},
   "outputs": [],
   "source": [
    "gal_idx = general_data[1].data['plateifu'] == galaxy_ID"
   ]
  },
  {
   "cell_type": "code",
   "execution_count": 19,
   "metadata": {},
   "outputs": [],
   "source": [
    "Mstar = general_data[1].data['nsa_elpetro_mass'][gal_idx] # Solar masses\n",
    "z = general_data[1].data['z'][gal_idx]\n",
    "r_half = general_data[1].data['nsa_elpetro_th50_r'][gal_idx] # arcsec\n",
    "\n",
    "# Convert arcsec to kpc\n",
    "r_half_kpc = (1000*c*z/H0)*np.tan(r_half*np.pi/(60*60*180))\n",
    "\n",
    "# Convert kpc to m\n",
    "r_half_m = 3.0857e19*r_half_kpc"
   ]
  },
  {
   "cell_type": "markdown",
   "metadata": {},
   "source": [
    "## Calculate mass"
   ]
  },
  {
   "cell_type": "code",
   "execution_count": 20,
   "metadata": {},
   "outputs": [],
   "source": [
    "def virial_mass(star_sigma, r_half):\n",
    "    '''\n",
    "    Calculate the virial mass of a galaxy\n",
    "    \n",
    "    PARAMETERS\n",
    "    ==========\n",
    "    \n",
    "    star_sigma : float or numpy array\n",
    "        Stellar velocity dispersion in m/s\n",
    "        \n",
    "    r_half : float or numpy array\n",
    "        Half-light radius in m\n",
    "        \n",
    "    \n",
    "    RETURNS\n",
    "    =======\n",
    "    \n",
    "    Mvir_Msun : float or numpy array\n",
    "        Virial mass in solar masses\n",
    "    '''\n",
    "    \n",
    "    # Virial mass (in kg)\n",
    "    Mvir = 7.5*star_sigma*star_sigma*r_half/G\n",
    "    \n",
    "    # Convert kg to Msun\n",
    "    Mvir_Msun = Mvir/Msun\n",
    "    \n",
    "    return Mvir_Msun"
   ]
  },
  {
   "cell_type": "markdown",
   "metadata": {},
   "source": [
    "#### Using median velocity dispersion"
   ]
  },
  {
   "cell_type": "code",
   "execution_count": 21,
   "metadata": {},
   "outputs": [],
   "source": [
    "Mtot_Msun_median = virial_mass(median_star_sigma_mpers, r_half_m)\n",
    "\n",
    "Mdark_median = Mtot_Msun_median - Mstar"
   ]
  },
  {
   "cell_type": "markdown",
   "metadata": {},
   "source": [
    "#### Using central velocity dispersion"
   ]
  },
  {
   "cell_type": "code",
   "execution_count": 22,
   "metadata": {},
   "outputs": [],
   "source": [
    "Mtot_Msun_center = virial_mass(center_star_sigma_mpers, r_half_m)\n",
    "\n",
    "Mdark_center = Mtot_Msun_center - Mstar"
   ]
  },
  {
   "cell_type": "markdown",
   "metadata": {},
   "source": [
    "# Mass ratio"
   ]
  },
  {
   "cell_type": "code",
   "execution_count": 23,
   "metadata": {},
   "outputs": [
    {
     "data": {
      "text/plain": [
       "array([1.51404181])"
      ]
     },
     "execution_count": 23,
     "metadata": {},
     "output_type": "execute_result"
    }
   ],
   "source": [
    "MassRatio_median = Mdark_median/Mstar\n",
    "\n",
    "MassRatio_median"
   ]
  },
  {
   "cell_type": "code",
   "execution_count": 24,
   "metadata": {},
   "outputs": [
    {
     "data": {
      "text/plain": [
       "array([5.00204821])"
      ]
     },
     "execution_count": 24,
     "metadata": {},
     "output_type": "execute_result"
    }
   ],
   "source": [
    "MassRatio_center = Mdark_center/Mstar\n",
    "\n",
    "MassRatio_center"
   ]
  },
  {
   "cell_type": "code",
   "execution_count": 25,
   "metadata": {},
   "outputs": [
    {
     "data": {
      "text/plain": [
       "array([10.68767073])"
      ]
     },
     "execution_count": 25,
     "metadata": {},
     "output_type": "execute_result"
    }
   ],
   "source": [
    "np.log10(Mstar)"
   ]
  },
  {
   "cell_type": "code",
   "execution_count": 26,
   "metadata": {},
   "outputs": [
    {
     "data": {
      "text/plain": [
       "2.2212417"
      ]
     },
     "execution_count": 26,
     "metadata": {},
     "output_type": "execute_result"
    }
   ],
   "source": [
    "np.log10(median_star_sigma)"
   ]
  },
  {
   "cell_type": "code",
   "execution_count": null,
   "metadata": {},
   "outputs": [],
   "source": []
  }
 ],
 "metadata": {
  "kernelspec": {
   "display_name": "Python 3",
   "language": "python",
   "name": "python3"
  },
  "language_info": {
   "codemirror_mode": {
    "name": "ipython",
    "version": 3
   },
   "file_extension": ".py",
   "mimetype": "text/x-python",
   "name": "python",
   "nbconvert_exporter": "python",
   "pygments_lexer": "ipython3",
   "version": "3.7.6"
  }
 },
 "nbformat": 4,
 "nbformat_minor": 2
}
